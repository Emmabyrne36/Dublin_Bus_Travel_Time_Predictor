{
 "cells": [
  {
   "cell_type": "markdown",
   "metadata": {},
   "source": [
    "### First set number of cores on machine to use and SSID number to analyse, then run all"
   ]
  },
  {
   "cell_type": "code",
   "execution_count": 2,
   "metadata": {
    "collapsed": false
   },
   "outputs": [],
   "source": [
    "# setting variables\n",
    "\n",
    "cores = 3 # enter the number of cores to use here, in place of x\n",
    "SSIDno = 20392040 # enter the SSID number to model as an int here, in place of xxxxxxxx"
   ]
  },
  {
   "cell_type": "code",
   "execution_count": 3,
   "metadata": {
    "collapsed": false
   },
   "outputs": [],
   "source": [
    "import pandas as pd\n",
    "import numpy as np\n",
    "import matplotlib.pyplot as plt\n",
    "#import matplotlib.patches as mpatches\n",
    "#import matplotlib.font_manager as fm\n",
    "import matplotlib\n",
    "import autotime\n",
    "%matplotlib inline\n",
    "%load_ext autotime\n",
    "#import seaborn as sns\n",
    "import statsmodels as stm\n",
    "import statsmodels.formula.api as sm\n",
    "from sklearn.feature_selection import VarianceThreshold\n",
    "from sklearn import metrics\n",
    "from sklearn.linear_model import LinearRegression as LinR\n",
    "from sklearn.svm import SVR\n",
    "from sklearn.ensemble import GradientBoostingRegressor as GBR\n",
    "from sklearn.ensemble import RandomForestRegressor as RFR\n",
    "from sklearn.model_selection import train_test_split\n",
    "from sklearn.model_selection import RandomizedSearchCV as RSCV\n",
    "# from dask_searchcv import RandomizedSearchCV as DRSCV\n",
    "# from sklearn.pipeline import Pipeline\n",
    "from sklearn.metrics.scorer import make_scorer\n",
    "# from sklearn.preprocessing import MinMaxScaler as MMS\n",
    "from scipy import stats\n",
    "from scipy.stats import randint\n",
    "\n",
    "#from sklearn.tree import export_graphviz\n",
    "#from IPython.display import Image"
   ]
  },
  {
   "cell_type": "markdown",
   "metadata": {},
   "source": [
    "## 1. Data processing stage"
   ]
  },
  {
   "cell_type": "markdown",
   "metadata": {},
   "source": [
    "First, select route files to input based on SSIDno to analyse"
   ]
  },
  {
   "cell_type": "markdown",
   "metadata": {},
   "source": [
    "### 1a Inputting data and creating dataframe for SSIDno"
   ]
  },
  {
   "cell_type": "code",
   "execution_count": 4,
   "metadata": {
    "collapsed": false
   },
   "outputs": [
    {
     "name": "stdout",
     "output_type": "stream",
     "text": [
      "time: 5.77 s\n"
     ]
    }
   ],
   "source": [
    "# Read in stop_times.txt and trips.txt files from NTA data\n",
    "stop_times_2012 = pd.read_csv('stop_times.txt')\n",
    "trips_2012 = pd.read_csv('trips.txt')\n",
    "\n",
    "# Merge by trip_id\n",
    "merge = pd.merge(stop_times_2012, trips_2012, on='trip_id', how='outer')\n",
    "\n",
    "# Keep only necessary columns\n",
    "merge.drop(['arrival_time','departure_time','pickup_type','drop_off_type','service_id','shape_dist_traveled'], axis=1, inplace=True)\n",
    "\n",
    "# Transform trip_id to route and stop_id to StopID\n",
    "merge['route_short'] = merge['trip_id'].apply(lambda x: x[x.index('-')+1:])\n",
    "merge['route_short'] = merge['route_short'].apply(lambda x: x[: x.index('-')])\n",
    "merge['route_short'] = merge['route_short'].apply(lambda x: str(x).zfill(4))\n",
    "merge['StopID'] = merge['stop_id'].apply(lambda x: x[-4:])\n",
    "\n",
    "# Find StopID and the sequence of that shape_id\n",
    "gb = merge.groupby(['shape_id', 'route_short', 'direction_id','stop_sequence', 'StopID'])\n",
    "gbc = gb.count()\n",
    "gbc.reset_index(['shape_id', 'route_short', 'direction_id','stop_sequence', 'StopID'], inplace=True)\n",
    "transit_shapeID_stopID = gbc.drop(['trip_id','stop_id','route_id','trip_headsign'], axis=1)\n",
    "\n",
    "# create list of pairs of routes and the SSIDs contained within them\n",
    "ssid = []\n",
    "for i in range(len(transit_shapeID_stopID.index)-1):\n",
    "    temp = transit_shapeID_stopID['StopID'].iloc[i] + transit_shapeID_stopID['StopID'].iloc[i+1]\n",
    "    ssid.append([ transit_shapeID_stopID['route_short'].iloc[i],temp])\n",
    "    \n",
    "SSIDnoStr = str(SSIDno).zfill(8)\n",
    "routes = [x for x in ssid if SSIDnoStr in x[1]]\n",
    "routes = [item[0] for item in routes]\n",
    "routes = list(set(routes))\n",
    "\n",
    "# Reading in the route CSV files for the required SSID\n",
    "\n",
    "res = pd.read_csv('Route_XXXX_travel_time_csvs/Blank_Route_travel_time.csv')\n",
    "route_list = routes\n",
    "for r in route_list:\n",
    "    df = pd.read_csv('Route_XXXX_travel_time_csvs/Route_%s_travel_time.csv' % r)\n",
    "    res = pd.concat([df, res], axis=0) "
   ]
  },
  {
   "cell_type": "code",
   "execution_count": 5,
   "metadata": {
    "collapsed": false
   },
   "outputs": [
    {
     "data": {
      "text/plain": [
       "(7444, 12)"
      ]
     },
     "execution_count": 5,
     "metadata": {},
     "output_type": "execute_result"
    },
    {
     "name": "stdout",
     "output_type": "stream",
     "text": [
      "time: 108 ms\n"
     ]
    }
   ],
   "source": [
    "# create dataframe for SSIDno\n",
    "\n",
    "res['SSID'] = res['SSID'].astype('category')\n",
    "ssid_df = res[res.SSID == SSIDno]\n",
    "ssid_df.reset_index(inplace=True)\n",
    "ssid_df = ssid_df.drop('index', axis=1)\n",
    "ssid_df.shape"
   ]
  },
  {
   "cell_type": "code",
   "execution_count": 6,
   "metadata": {
    "collapsed": false
   },
   "outputs": [
    {
     "data": {
      "text/plain": [
       "Index                   80\n",
       "Day                 478090\n",
       "DestStopID           59552\n",
       "HourFrame            59552\n",
       "JourneyPatternID    415246\n",
       "Rain                 59552\n",
       "SSID                120336\n",
       "SchoolHoliday         7444\n",
       "SourceStopID         59552\n",
       "TimeFrame           498748\n",
       "TravelTime           59552\n",
       "VehicleJourneyID     59552\n",
       "WindSpeed            59552\n",
       "dtype: int64"
      ]
     },
     "execution_count": 6,
     "metadata": {},
     "output_type": "execute_result"
    },
    {
     "name": "stdout",
     "output_type": "stream",
     "text": [
      "time: 7 ms\n"
     ]
    }
   ],
   "source": [
    "ssid_df.memory_usage(deep=True)"
   ]
  },
  {
   "cell_type": "code",
   "execution_count": 7,
   "metadata": {
    "collapsed": false
   },
   "outputs": [
    {
     "name": "stdout",
     "output_type": "stream",
     "text": [
      "There are 8 unique JPIDs traversing this segment, over the course of 7444 observations.\n",
      "time: 3 ms\n"
     ]
    }
   ],
   "source": [
    "JPID_Count = ssid_df.JourneyPatternID.unique().shape[0]\n",
    "Row_Count = ssid_df.shape[0]\n",
    "print(\"There are\", JPID_Count, \"unique JPIDs traversing this segment, over the course of\", Row_Count, \"observations.\")"
   ]
  },
  {
   "cell_type": "code",
   "execution_count": 8,
   "metadata": {
    "collapsed": false
   },
   "outputs": [
    {
     "name": "stdout",
     "output_type": "stream",
     "text": [
      "time: 5 ms\n"
     ]
    }
   ],
   "source": [
    "# add leading zeroes to JourneyPatternID\n",
    "\n",
    "ssid_df.JourneyPatternID = ssid_df.JourneyPatternID.astype('object')\n",
    "ssid_df.JourneyPatternID = ssid_df.JourneyPatternID.apply(lambda x: str(x).zfill(8))"
   ]
  },
  {
   "cell_type": "markdown",
   "metadata": {},
   "source": [
    "### 1b Adding extra features and altering/dropping existing ones"
   ]
  },
  {
   "cell_type": "code",
   "execution_count": 9,
   "metadata": {
    "collapsed": false
   },
   "outputs": [
    {
     "name": "stdout",
     "output_type": "stream",
     "text": [
      "time: 10 ms\n"
     ]
    }
   ],
   "source": [
    "# adding Xbuses feature - boolean feature indicating whether or not the JourneyPatternID represents an express (X) bus\n",
    "\n",
    "ssid_df['XBuses'] = ssid_df[ssid_df[\"JourneyPatternID\"].str.find(\"X\") > 0].sum(axis=1) > 0\n",
    "ssid_df[\"XBuses\"].fillna(False, inplace=True)\n",
    "ssid_df['XBuses'] = ssid_df['XBuses'].astype('int')"
   ]
  },
  {
   "cell_type": "code",
   "execution_count": 10,
   "metadata": {
    "collapsed": false
   },
   "outputs": [
    {
     "data": {
      "text/plain": [
       "(7444, 14)"
      ]
     },
     "execution_count": 10,
     "metadata": {},
     "output_type": "execute_result"
    },
    {
     "name": "stdout",
     "output_type": "stream",
     "text": [
      "time: 217 ms\n"
     ]
    }
   ],
   "source": [
    "# adding JPID_length feature - represents the total number of stops traversed by this JourneyPatternID along its entire route\n",
    "\n",
    "JPIDL = pd.read_csv('JPID_Length.csv')\n",
    "JPIDL = JPIDL.drop('Unnamed: 0', axis=1)\n",
    "ssid_df = pd.merge(left=ssid_df ,right=JPIDL, how='left', left_on='JourneyPatternID', right_on='JourneyPatternID')\n",
    "ssid_df = ssid_df.dropna()\n",
    "ssid_df.shape"
   ]
  },
  {
   "cell_type": "code",
   "execution_count": 11,
   "metadata": {
    "collapsed": false
   },
   "outputs": [
    {
     "name": "stdout",
     "output_type": "stream",
     "text": [
      "Error in callback <bound method LineWatcher.stop of <autotime.LineWatcher object at 0x00000000085694A8>> (for post_run_cell):\n"
     ]
    },
    {
     "ename": "AssertionError",
     "evalue": "",
     "output_type": "error",
     "traceback": [
      "\u001b[1;31m---------------------------------------------------------------------------\u001b[0m",
      "\u001b[1;31mAssertionError\u001b[0m                            Traceback (most recent call last)",
      "\u001b[1;32mC:\\CS\\Anaconda\\envs\\DublinBus\\lib\\site-packages\\autotime.py\u001b[0m in \u001b[0;36mstop\u001b[1;34m(self)\u001b[0m\n\u001b[0;32m     23\u001b[0m         \u001b[1;32mif\u001b[0m \u001b[0mself\u001b[0m\u001b[1;33m.\u001b[0m\u001b[0mstart_time\u001b[0m\u001b[1;33m:\u001b[0m\u001b[1;33m\u001b[0m\u001b[0m\n\u001b[0;32m     24\u001b[0m             \u001b[0mdiff\u001b[0m \u001b[1;33m=\u001b[0m \u001b[0mtime\u001b[0m\u001b[1;33m.\u001b[0m\u001b[0mtime\u001b[0m\u001b[1;33m(\u001b[0m\u001b[1;33m)\u001b[0m \u001b[1;33m-\u001b[0m \u001b[0mself\u001b[0m\u001b[1;33m.\u001b[0m\u001b[0mstart_time\u001b[0m\u001b[1;33m\u001b[0m\u001b[0m\n\u001b[1;32m---> 25\u001b[1;33m             \u001b[1;32massert\u001b[0m \u001b[0mdiff\u001b[0m \u001b[1;33m>\u001b[0m \u001b[1;36m0\u001b[0m\u001b[1;33m\u001b[0m\u001b[0m\n\u001b[0m\u001b[0;32m     26\u001b[0m             \u001b[0mprint\u001b[0m\u001b[1;33m(\u001b[0m\u001b[1;34m'time: %s'\u001b[0m \u001b[1;33m%\u001b[0m \u001b[0mformat_delta\u001b[0m\u001b[1;33m(\u001b[0m\u001b[0mdiff\u001b[0m\u001b[1;33m)\u001b[0m\u001b[1;33m)\u001b[0m\u001b[1;33m\u001b[0m\u001b[0m\n\u001b[0;32m     27\u001b[0m \u001b[1;33m\u001b[0m\u001b[0m\n",
      "\u001b[1;31mAssertionError\u001b[0m: "
     ]
    }
   ],
   "source": [
    "# NOTE: feature currently not being used due to issues with inputting it to the model\n",
    "\n",
    "# adding JPID_Freq feature - represents how often in the given data this JourneyPatternID traversed this segment\n",
    "\n",
    "# ssid_df['JPID_Freq'] = ssid_df.groupby(['JourneyPatternID'])['JourneyPatternID'].transform('count')"
   ]
  },
  {
   "cell_type": "code",
   "execution_count": 12,
   "metadata": {
    "collapsed": false
   },
   "outputs": [
    {
     "name": "stdout",
     "output_type": "stream",
     "text": [
      "time: 3 ms\n"
     ]
    }
   ],
   "source": [
    "# removing non-holiday-period weekends from SchoolHoliday feature to avoid multi-collinearity issues\n",
    "\n",
    "ssid_df['SchoolHoliday'] = ssid_df['SchoolHoliday'].astype('int')\n",
    "ssid_df['SchoolHoliday'] = np.where(ssid_df['TimeFrame'].isin(['2013-01-01', '2013-01-02', '2013-01-03', '2013-01-04', '2013-01-05', '2013-01-06']), 1, 0)"
   ]
  },
  {
   "cell_type": "code",
   "execution_count": 13,
   "metadata": {
    "collapsed": false
   },
   "outputs": [
    {
     "name": "stdout",
     "output_type": "stream",
     "text": [
      "time: 12 ms\n"
     ]
    }
   ],
   "source": [
    "# fetching SSID number from dataframe for CSV file naming purposes\n",
    "\n",
    "res.SSID = res.SSID.apply(lambda x: str(int(x)).zfill(8))\n",
    "r = ssid_df.loc[0, 'SSID'] "
   ]
  },
  {
   "cell_type": "code",
   "execution_count": 14,
   "metadata": {
    "collapsed": false,
    "scrolled": true
   },
   "outputs": [
    {
     "name": "stdout",
     "output_type": "stream",
     "text": [
      "time: 4 ms\n"
     ]
    }
   ],
   "source": [
    "# dropping unneeded columns\n",
    "\n",
    "ssid_df = ssid_df.drop(['SourceStopID', 'DestStopID', 'VehicleJourneyID', 'JourneyPatternID', 'SSID'], axis=1)\n",
    "\n",
    "# reordering remaining columns\n",
    "\n",
    "ssid_df = ssid_df[['TravelTime', 'Rain', 'WindSpeed', 'JPID_length', 'XBuses', 'SchoolHoliday', 'Day', 'HourFrame']]"
   ]
  },
  {
   "cell_type": "code",
   "execution_count": 15,
   "metadata": {
    "collapsed": false
   },
   "outputs": [
    {
     "data": {
      "text/html": [
       "<div>\n",
       "<style>\n",
       "    .dataframe thead tr:only-child th {\n",
       "        text-align: right;\n",
       "    }\n",
       "\n",
       "    .dataframe thead th {\n",
       "        text-align: left;\n",
       "    }\n",
       "\n",
       "    .dataframe tbody tr th {\n",
       "        vertical-align: top;\n",
       "    }\n",
       "</style>\n",
       "<table border=\"1\" class=\"dataframe\">\n",
       "  <thead>\n",
       "    <tr style=\"text-align: right;\">\n",
       "      <th></th>\n",
       "      <th>TravelTime</th>\n",
       "      <th>Rain</th>\n",
       "      <th>WindSpeed</th>\n",
       "      <th>JPID_length</th>\n",
       "      <th>XBuses</th>\n",
       "      <th>SchoolHoliday</th>\n",
       "      <th>Day</th>\n",
       "      <th>HourFrame</th>\n",
       "    </tr>\n",
       "  </thead>\n",
       "  <tbody>\n",
       "    <tr>\n",
       "      <th>0</th>\n",
       "      <td>21</td>\n",
       "      <td>0.000000</td>\n",
       "      <td>16.0</td>\n",
       "      <td>42</td>\n",
       "      <td>0</td>\n",
       "      <td>0</td>\n",
       "      <td>Tuesday</td>\n",
       "      <td>22</td>\n",
       "    </tr>\n",
       "    <tr>\n",
       "      <th>1</th>\n",
       "      <td>23</td>\n",
       "      <td>0.000000</td>\n",
       "      <td>15.5</td>\n",
       "      <td>42</td>\n",
       "      <td>0</td>\n",
       "      <td>0</td>\n",
       "      <td>Tuesday</td>\n",
       "      <td>23</td>\n",
       "    </tr>\n",
       "    <tr>\n",
       "      <th>2</th>\n",
       "      <td>21</td>\n",
       "      <td>0.033333</td>\n",
       "      <td>14.5</td>\n",
       "      <td>42</td>\n",
       "      <td>0</td>\n",
       "      <td>0</td>\n",
       "      <td>Tuesday</td>\n",
       "      <td>7</td>\n",
       "    </tr>\n",
       "    <tr>\n",
       "      <th>3</th>\n",
       "      <td>41</td>\n",
       "      <td>0.000000</td>\n",
       "      <td>16.0</td>\n",
       "      <td>42</td>\n",
       "      <td>0</td>\n",
       "      <td>0</td>\n",
       "      <td>Tuesday</td>\n",
       "      <td>22</td>\n",
       "    </tr>\n",
       "    <tr>\n",
       "      <th>4</th>\n",
       "      <td>19</td>\n",
       "      <td>0.000000</td>\n",
       "      <td>15.5</td>\n",
       "      <td>42</td>\n",
       "      <td>0</td>\n",
       "      <td>0</td>\n",
       "      <td>Wednesday</td>\n",
       "      <td>22</td>\n",
       "    </tr>\n",
       "    <tr>\n",
       "      <th>5</th>\n",
       "      <td>41</td>\n",
       "      <td>0.033333</td>\n",
       "      <td>16.5</td>\n",
       "      <td>42</td>\n",
       "      <td>0</td>\n",
       "      <td>0</td>\n",
       "      <td>Wednesday</td>\n",
       "      <td>23</td>\n",
       "    </tr>\n",
       "    <tr>\n",
       "      <th>6</th>\n",
       "      <td>21</td>\n",
       "      <td>0.000000</td>\n",
       "      <td>14.0</td>\n",
       "      <td>42</td>\n",
       "      <td>0</td>\n",
       "      <td>0</td>\n",
       "      <td>Wednesday</td>\n",
       "      <td>7</td>\n",
       "    </tr>\n",
       "    <tr>\n",
       "      <th>7</th>\n",
       "      <td>21</td>\n",
       "      <td>0.000000</td>\n",
       "      <td>13.5</td>\n",
       "      <td>42</td>\n",
       "      <td>0</td>\n",
       "      <td>0</td>\n",
       "      <td>Thursday</td>\n",
       "      <td>6</td>\n",
       "    </tr>\n",
       "    <tr>\n",
       "      <th>8</th>\n",
       "      <td>21</td>\n",
       "      <td>0.000000</td>\n",
       "      <td>11.0</td>\n",
       "      <td>42</td>\n",
       "      <td>0</td>\n",
       "      <td>0</td>\n",
       "      <td>Thursday</td>\n",
       "      <td>22</td>\n",
       "    </tr>\n",
       "    <tr>\n",
       "      <th>9</th>\n",
       "      <td>41</td>\n",
       "      <td>0.000000</td>\n",
       "      <td>13.0</td>\n",
       "      <td>42</td>\n",
       "      <td>0</td>\n",
       "      <td>0</td>\n",
       "      <td>Thursday</td>\n",
       "      <td>23</td>\n",
       "    </tr>\n",
       "    <tr>\n",
       "      <th>10</th>\n",
       "      <td>20</td>\n",
       "      <td>0.000000</td>\n",
       "      <td>12.5</td>\n",
       "      <td>42</td>\n",
       "      <td>0</td>\n",
       "      <td>0</td>\n",
       "      <td>Thursday</td>\n",
       "      <td>7</td>\n",
       "    </tr>\n",
       "    <tr>\n",
       "      <th>11</th>\n",
       "      <td>45</td>\n",
       "      <td>0.000000</td>\n",
       "      <td>11.0</td>\n",
       "      <td>42</td>\n",
       "      <td>0</td>\n",
       "      <td>0</td>\n",
       "      <td>Thursday</td>\n",
       "      <td>22</td>\n",
       "    </tr>\n",
       "    <tr>\n",
       "      <th>12</th>\n",
       "      <td>20</td>\n",
       "      <td>0.000000</td>\n",
       "      <td>10.0</td>\n",
       "      <td>42</td>\n",
       "      <td>0</td>\n",
       "      <td>0</td>\n",
       "      <td>Friday</td>\n",
       "      <td>22</td>\n",
       "    </tr>\n",
       "    <tr>\n",
       "      <th>13</th>\n",
       "      <td>18</td>\n",
       "      <td>0.000000</td>\n",
       "      <td>10.5</td>\n",
       "      <td>42</td>\n",
       "      <td>0</td>\n",
       "      <td>0</td>\n",
       "      <td>Friday</td>\n",
       "      <td>23</td>\n",
       "    </tr>\n",
       "    <tr>\n",
       "      <th>14</th>\n",
       "      <td>23</td>\n",
       "      <td>1.166667</td>\n",
       "      <td>16.0</td>\n",
       "      <td>42</td>\n",
       "      <td>0</td>\n",
       "      <td>0</td>\n",
       "      <td>Friday</td>\n",
       "      <td>7</td>\n",
       "    </tr>\n",
       "    <tr>\n",
       "      <th>15</th>\n",
       "      <td>18</td>\n",
       "      <td>0.000000</td>\n",
       "      <td>10.0</td>\n",
       "      <td>42</td>\n",
       "      <td>0</td>\n",
       "      <td>0</td>\n",
       "      <td>Friday</td>\n",
       "      <td>22</td>\n",
       "    </tr>\n",
       "    <tr>\n",
       "      <th>16</th>\n",
       "      <td>40</td>\n",
       "      <td>0.000000</td>\n",
       "      <td>7.5</td>\n",
       "      <td>42</td>\n",
       "      <td>0</td>\n",
       "      <td>0</td>\n",
       "      <td>Saturday</td>\n",
       "      <td>19</td>\n",
       "    </tr>\n",
       "    <tr>\n",
       "      <th>17</th>\n",
       "      <td>20</td>\n",
       "      <td>0.000000</td>\n",
       "      <td>9.5</td>\n",
       "      <td>42</td>\n",
       "      <td>0</td>\n",
       "      <td>0</td>\n",
       "      <td>Saturday</td>\n",
       "      <td>22</td>\n",
       "    </tr>\n",
       "    <tr>\n",
       "      <th>18</th>\n",
       "      <td>22</td>\n",
       "      <td>0.000000</td>\n",
       "      <td>9.5</td>\n",
       "      <td>42</td>\n",
       "      <td>0</td>\n",
       "      <td>0</td>\n",
       "      <td>Saturday</td>\n",
       "      <td>23</td>\n",
       "    </tr>\n",
       "    <tr>\n",
       "      <th>19</th>\n",
       "      <td>20</td>\n",
       "      <td>0.033333</td>\n",
       "      <td>10.0</td>\n",
       "      <td>42</td>\n",
       "      <td>0</td>\n",
       "      <td>0</td>\n",
       "      <td>Saturday</td>\n",
       "      <td>7</td>\n",
       "    </tr>\n",
       "    <tr>\n",
       "      <th>20</th>\n",
       "      <td>21</td>\n",
       "      <td>0.000000</td>\n",
       "      <td>11.0</td>\n",
       "      <td>42</td>\n",
       "      <td>0</td>\n",
       "      <td>0</td>\n",
       "      <td>Saturday</td>\n",
       "      <td>9</td>\n",
       "    </tr>\n",
       "    <tr>\n",
       "      <th>21</th>\n",
       "      <td>24</td>\n",
       "      <td>0.000000</td>\n",
       "      <td>6.0</td>\n",
       "      <td>42</td>\n",
       "      <td>0</td>\n",
       "      <td>0</td>\n",
       "      <td>Saturday</td>\n",
       "      <td>18</td>\n",
       "    </tr>\n",
       "    <tr>\n",
       "      <th>22</th>\n",
       "      <td>140</td>\n",
       "      <td>0.000000</td>\n",
       "      <td>7.5</td>\n",
       "      <td>42</td>\n",
       "      <td>0</td>\n",
       "      <td>0</td>\n",
       "      <td>Saturday</td>\n",
       "      <td>19</td>\n",
       "    </tr>\n",
       "    <tr>\n",
       "      <th>23</th>\n",
       "      <td>20</td>\n",
       "      <td>0.000000</td>\n",
       "      <td>8.5</td>\n",
       "      <td>42</td>\n",
       "      <td>0</td>\n",
       "      <td>0</td>\n",
       "      <td>Saturday</td>\n",
       "      <td>21</td>\n",
       "    </tr>\n",
       "    <tr>\n",
       "      <th>24</th>\n",
       "      <td>41</td>\n",
       "      <td>0.000000</td>\n",
       "      <td>6.5</td>\n",
       "      <td>42</td>\n",
       "      <td>0</td>\n",
       "      <td>0</td>\n",
       "      <td>Sunday</td>\n",
       "      <td>19</td>\n",
       "    </tr>\n",
       "    <tr>\n",
       "      <th>25</th>\n",
       "      <td>41</td>\n",
       "      <td>0.000000</td>\n",
       "      <td>5.5</td>\n",
       "      <td>42</td>\n",
       "      <td>0</td>\n",
       "      <td>0</td>\n",
       "      <td>Sunday</td>\n",
       "      <td>20</td>\n",
       "    </tr>\n",
       "    <tr>\n",
       "      <th>26</th>\n",
       "      <td>18</td>\n",
       "      <td>0.266667</td>\n",
       "      <td>4.0</td>\n",
       "      <td>42</td>\n",
       "      <td>0</td>\n",
       "      <td>0</td>\n",
       "      <td>Sunday</td>\n",
       "      <td>22</td>\n",
       "    </tr>\n",
       "    <tr>\n",
       "      <th>27</th>\n",
       "      <td>18</td>\n",
       "      <td>0.133333</td>\n",
       "      <td>5.5</td>\n",
       "      <td>42</td>\n",
       "      <td>0</td>\n",
       "      <td>0</td>\n",
       "      <td>Sunday</td>\n",
       "      <td>23</td>\n",
       "    </tr>\n",
       "    <tr>\n",
       "      <th>28</th>\n",
       "      <td>20</td>\n",
       "      <td>0.000000</td>\n",
       "      <td>7.5</td>\n",
       "      <td>42</td>\n",
       "      <td>0</td>\n",
       "      <td>0</td>\n",
       "      <td>Sunday</td>\n",
       "      <td>18</td>\n",
       "    </tr>\n",
       "    <tr>\n",
       "      <th>29</th>\n",
       "      <td>39</td>\n",
       "      <td>0.266667</td>\n",
       "      <td>5.0</td>\n",
       "      <td>42</td>\n",
       "      <td>0</td>\n",
       "      <td>0</td>\n",
       "      <td>Sunday</td>\n",
       "      <td>21</td>\n",
       "    </tr>\n",
       "    <tr>\n",
       "      <th>...</th>\n",
       "      <td>...</td>\n",
       "      <td>...</td>\n",
       "      <td>...</td>\n",
       "      <td>...</td>\n",
       "      <td>...</td>\n",
       "      <td>...</td>\n",
       "      <td>...</td>\n",
       "      <td>...</td>\n",
       "    </tr>\n",
       "    <tr>\n",
       "      <th>7414</th>\n",
       "      <td>39</td>\n",
       "      <td>0.166667</td>\n",
       "      <td>5.0</td>\n",
       "      <td>93</td>\n",
       "      <td>0</td>\n",
       "      <td>0</td>\n",
       "      <td>Wednesday</td>\n",
       "      <td>17</td>\n",
       "    </tr>\n",
       "    <tr>\n",
       "      <th>7415</th>\n",
       "      <td>61</td>\n",
       "      <td>0.266667</td>\n",
       "      <td>5.5</td>\n",
       "      <td>93</td>\n",
       "      <td>0</td>\n",
       "      <td>0</td>\n",
       "      <td>Wednesday</td>\n",
       "      <td>16</td>\n",
       "    </tr>\n",
       "    <tr>\n",
       "      <th>7416</th>\n",
       "      <td>162</td>\n",
       "      <td>0.266667</td>\n",
       "      <td>5.5</td>\n",
       "      <td>93</td>\n",
       "      <td>0</td>\n",
       "      <td>0</td>\n",
       "      <td>Wednesday</td>\n",
       "      <td>16</td>\n",
       "    </tr>\n",
       "    <tr>\n",
       "      <th>7417</th>\n",
       "      <td>81</td>\n",
       "      <td>0.000000</td>\n",
       "      <td>13.0</td>\n",
       "      <td>93</td>\n",
       "      <td>0</td>\n",
       "      <td>0</td>\n",
       "      <td>Thursday</td>\n",
       "      <td>17</td>\n",
       "    </tr>\n",
       "    <tr>\n",
       "      <th>7418</th>\n",
       "      <td>181</td>\n",
       "      <td>0.000000</td>\n",
       "      <td>13.0</td>\n",
       "      <td>93</td>\n",
       "      <td>0</td>\n",
       "      <td>0</td>\n",
       "      <td>Thursday</td>\n",
       "      <td>17</td>\n",
       "    </tr>\n",
       "    <tr>\n",
       "      <th>7419</th>\n",
       "      <td>41</td>\n",
       "      <td>0.666667</td>\n",
       "      <td>18.0</td>\n",
       "      <td>93</td>\n",
       "      <td>0</td>\n",
       "      <td>0</td>\n",
       "      <td>Friday</td>\n",
       "      <td>17</td>\n",
       "    </tr>\n",
       "    <tr>\n",
       "      <th>7420</th>\n",
       "      <td>224</td>\n",
       "      <td>1.533333</td>\n",
       "      <td>18.5</td>\n",
       "      <td>93</td>\n",
       "      <td>0</td>\n",
       "      <td>0</td>\n",
       "      <td>Friday</td>\n",
       "      <td>16</td>\n",
       "    </tr>\n",
       "    <tr>\n",
       "      <th>7421</th>\n",
       "      <td>39</td>\n",
       "      <td>0.133333</td>\n",
       "      <td>12.5</td>\n",
       "      <td>93</td>\n",
       "      <td>0</td>\n",
       "      <td>0</td>\n",
       "      <td>Saturday</td>\n",
       "      <td>7</td>\n",
       "    </tr>\n",
       "    <tr>\n",
       "      <th>7422</th>\n",
       "      <td>20</td>\n",
       "      <td>0.100000</td>\n",
       "      <td>3.0</td>\n",
       "      <td>93</td>\n",
       "      <td>0</td>\n",
       "      <td>0</td>\n",
       "      <td>Monday</td>\n",
       "      <td>17</td>\n",
       "    </tr>\n",
       "    <tr>\n",
       "      <th>7423</th>\n",
       "      <td>60</td>\n",
       "      <td>1.033333</td>\n",
       "      <td>3.0</td>\n",
       "      <td>93</td>\n",
       "      <td>0</td>\n",
       "      <td>0</td>\n",
       "      <td>Monday</td>\n",
       "      <td>7</td>\n",
       "    </tr>\n",
       "    <tr>\n",
       "      <th>7424</th>\n",
       "      <td>59</td>\n",
       "      <td>0.100000</td>\n",
       "      <td>3.0</td>\n",
       "      <td>93</td>\n",
       "      <td>0</td>\n",
       "      <td>0</td>\n",
       "      <td>Monday</td>\n",
       "      <td>17</td>\n",
       "    </tr>\n",
       "    <tr>\n",
       "      <th>7425</th>\n",
       "      <td>22</td>\n",
       "      <td>0.000000</td>\n",
       "      <td>3.5</td>\n",
       "      <td>93</td>\n",
       "      <td>0</td>\n",
       "      <td>0</td>\n",
       "      <td>Monday</td>\n",
       "      <td>16</td>\n",
       "    </tr>\n",
       "    <tr>\n",
       "      <th>7426</th>\n",
       "      <td>61</td>\n",
       "      <td>0.000000</td>\n",
       "      <td>2.5</td>\n",
       "      <td>93</td>\n",
       "      <td>0</td>\n",
       "      <td>0</td>\n",
       "      <td>Tuesday</td>\n",
       "      <td>17</td>\n",
       "    </tr>\n",
       "    <tr>\n",
       "      <th>7427</th>\n",
       "      <td>82</td>\n",
       "      <td>0.000000</td>\n",
       "      <td>3.5</td>\n",
       "      <td>93</td>\n",
       "      <td>0</td>\n",
       "      <td>0</td>\n",
       "      <td>Tuesday</td>\n",
       "      <td>7</td>\n",
       "    </tr>\n",
       "    <tr>\n",
       "      <th>7428</th>\n",
       "      <td>29</td>\n",
       "      <td>0.000000</td>\n",
       "      <td>2.5</td>\n",
       "      <td>93</td>\n",
       "      <td>0</td>\n",
       "      <td>0</td>\n",
       "      <td>Tuesday</td>\n",
       "      <td>17</td>\n",
       "    </tr>\n",
       "    <tr>\n",
       "      <th>7429</th>\n",
       "      <td>60</td>\n",
       "      <td>0.000000</td>\n",
       "      <td>3.0</td>\n",
       "      <td>93</td>\n",
       "      <td>0</td>\n",
       "      <td>0</td>\n",
       "      <td>Tuesday</td>\n",
       "      <td>16</td>\n",
       "    </tr>\n",
       "    <tr>\n",
       "      <th>7430</th>\n",
       "      <td>3</td>\n",
       "      <td>0.000000</td>\n",
       "      <td>6.0</td>\n",
       "      <td>93</td>\n",
       "      <td>0</td>\n",
       "      <td>0</td>\n",
       "      <td>Wednesday</td>\n",
       "      <td>17</td>\n",
       "    </tr>\n",
       "    <tr>\n",
       "      <th>7431</th>\n",
       "      <td>17</td>\n",
       "      <td>0.000000</td>\n",
       "      <td>4.5</td>\n",
       "      <td>93</td>\n",
       "      <td>0</td>\n",
       "      <td>0</td>\n",
       "      <td>Wednesday</td>\n",
       "      <td>7</td>\n",
       "    </tr>\n",
       "    <tr>\n",
       "      <th>7432</th>\n",
       "      <td>101</td>\n",
       "      <td>0.000000</td>\n",
       "      <td>6.0</td>\n",
       "      <td>93</td>\n",
       "      <td>0</td>\n",
       "      <td>0</td>\n",
       "      <td>Wednesday</td>\n",
       "      <td>17</td>\n",
       "    </tr>\n",
       "    <tr>\n",
       "      <th>7433</th>\n",
       "      <td>139</td>\n",
       "      <td>0.000000</td>\n",
       "      <td>7.5</td>\n",
       "      <td>93</td>\n",
       "      <td>0</td>\n",
       "      <td>0</td>\n",
       "      <td>Wednesday</td>\n",
       "      <td>16</td>\n",
       "    </tr>\n",
       "    <tr>\n",
       "      <th>7434</th>\n",
       "      <td>184</td>\n",
       "      <td>0.000000</td>\n",
       "      <td>4.0</td>\n",
       "      <td>93</td>\n",
       "      <td>0</td>\n",
       "      <td>0</td>\n",
       "      <td>Thursday</td>\n",
       "      <td>17</td>\n",
       "    </tr>\n",
       "    <tr>\n",
       "      <th>7435</th>\n",
       "      <td>120</td>\n",
       "      <td>2.966667</td>\n",
       "      <td>15.0</td>\n",
       "      <td>93</td>\n",
       "      <td>0</td>\n",
       "      <td>0</td>\n",
       "      <td>Friday</td>\n",
       "      <td>17</td>\n",
       "    </tr>\n",
       "    <tr>\n",
       "      <th>7436</th>\n",
       "      <td>240</td>\n",
       "      <td>1.300000</td>\n",
       "      <td>8.5</td>\n",
       "      <td>93</td>\n",
       "      <td>0</td>\n",
       "      <td>0</td>\n",
       "      <td>Friday</td>\n",
       "      <td>7</td>\n",
       "    </tr>\n",
       "    <tr>\n",
       "      <th>7437</th>\n",
       "      <td>133</td>\n",
       "      <td>2.966667</td>\n",
       "      <td>15.0</td>\n",
       "      <td>93</td>\n",
       "      <td>0</td>\n",
       "      <td>0</td>\n",
       "      <td>Friday</td>\n",
       "      <td>17</td>\n",
       "    </tr>\n",
       "    <tr>\n",
       "      <th>7438</th>\n",
       "      <td>239</td>\n",
       "      <td>0.233333</td>\n",
       "      <td>16.5</td>\n",
       "      <td>93</td>\n",
       "      <td>0</td>\n",
       "      <td>0</td>\n",
       "      <td>Friday</td>\n",
       "      <td>16</td>\n",
       "    </tr>\n",
       "    <tr>\n",
       "      <th>7439</th>\n",
       "      <td>57</td>\n",
       "      <td>0.000000</td>\n",
       "      <td>25.5</td>\n",
       "      <td>93</td>\n",
       "      <td>0</td>\n",
       "      <td>0</td>\n",
       "      <td>Monday</td>\n",
       "      <td>17</td>\n",
       "    </tr>\n",
       "    <tr>\n",
       "      <th>7440</th>\n",
       "      <td>62</td>\n",
       "      <td>0.233333</td>\n",
       "      <td>27.0</td>\n",
       "      <td>93</td>\n",
       "      <td>0</td>\n",
       "      <td>0</td>\n",
       "      <td>Monday</td>\n",
       "      <td>16</td>\n",
       "    </tr>\n",
       "    <tr>\n",
       "      <th>7441</th>\n",
       "      <td>321</td>\n",
       "      <td>0.566667</td>\n",
       "      <td>21.5</td>\n",
       "      <td>93</td>\n",
       "      <td>0</td>\n",
       "      <td>0</td>\n",
       "      <td>Tuesday</td>\n",
       "      <td>17</td>\n",
       "    </tr>\n",
       "    <tr>\n",
       "      <th>7442</th>\n",
       "      <td>142</td>\n",
       "      <td>0.000000</td>\n",
       "      <td>6.5</td>\n",
       "      <td>93</td>\n",
       "      <td>0</td>\n",
       "      <td>0</td>\n",
       "      <td>Tuesday</td>\n",
       "      <td>7</td>\n",
       "    </tr>\n",
       "    <tr>\n",
       "      <th>7443</th>\n",
       "      <td>39</td>\n",
       "      <td>0.566667</td>\n",
       "      <td>21.5</td>\n",
       "      <td>93</td>\n",
       "      <td>0</td>\n",
       "      <td>0</td>\n",
       "      <td>Tuesday</td>\n",
       "      <td>17</td>\n",
       "    </tr>\n",
       "  </tbody>\n",
       "</table>\n",
       "<p>7444 rows × 8 columns</p>\n",
       "</div>"
      ],
      "text/plain": [
       "      TravelTime      Rain  WindSpeed  JPID_length  XBuses  SchoolHoliday  \\\n",
       "0             21  0.000000       16.0           42       0              0   \n",
       "1             23  0.000000       15.5           42       0              0   \n",
       "2             21  0.033333       14.5           42       0              0   \n",
       "3             41  0.000000       16.0           42       0              0   \n",
       "4             19  0.000000       15.5           42       0              0   \n",
       "5             41  0.033333       16.5           42       0              0   \n",
       "6             21  0.000000       14.0           42       0              0   \n",
       "7             21  0.000000       13.5           42       0              0   \n",
       "8             21  0.000000       11.0           42       0              0   \n",
       "9             41  0.000000       13.0           42       0              0   \n",
       "10            20  0.000000       12.5           42       0              0   \n",
       "11            45  0.000000       11.0           42       0              0   \n",
       "12            20  0.000000       10.0           42       0              0   \n",
       "13            18  0.000000       10.5           42       0              0   \n",
       "14            23  1.166667       16.0           42       0              0   \n",
       "15            18  0.000000       10.0           42       0              0   \n",
       "16            40  0.000000        7.5           42       0              0   \n",
       "17            20  0.000000        9.5           42       0              0   \n",
       "18            22  0.000000        9.5           42       0              0   \n",
       "19            20  0.033333       10.0           42       0              0   \n",
       "20            21  0.000000       11.0           42       0              0   \n",
       "21            24  0.000000        6.0           42       0              0   \n",
       "22           140  0.000000        7.5           42       0              0   \n",
       "23            20  0.000000        8.5           42       0              0   \n",
       "24            41  0.000000        6.5           42       0              0   \n",
       "25            41  0.000000        5.5           42       0              0   \n",
       "26            18  0.266667        4.0           42       0              0   \n",
       "27            18  0.133333        5.5           42       0              0   \n",
       "28            20  0.000000        7.5           42       0              0   \n",
       "29            39  0.266667        5.0           42       0              0   \n",
       "...          ...       ...        ...          ...     ...            ...   \n",
       "7414          39  0.166667        5.0           93       0              0   \n",
       "7415          61  0.266667        5.5           93       0              0   \n",
       "7416         162  0.266667        5.5           93       0              0   \n",
       "7417          81  0.000000       13.0           93       0              0   \n",
       "7418         181  0.000000       13.0           93       0              0   \n",
       "7419          41  0.666667       18.0           93       0              0   \n",
       "7420         224  1.533333       18.5           93       0              0   \n",
       "7421          39  0.133333       12.5           93       0              0   \n",
       "7422          20  0.100000        3.0           93       0              0   \n",
       "7423          60  1.033333        3.0           93       0              0   \n",
       "7424          59  0.100000        3.0           93       0              0   \n",
       "7425          22  0.000000        3.5           93       0              0   \n",
       "7426          61  0.000000        2.5           93       0              0   \n",
       "7427          82  0.000000        3.5           93       0              0   \n",
       "7428          29  0.000000        2.5           93       0              0   \n",
       "7429          60  0.000000        3.0           93       0              0   \n",
       "7430           3  0.000000        6.0           93       0              0   \n",
       "7431          17  0.000000        4.5           93       0              0   \n",
       "7432         101  0.000000        6.0           93       0              0   \n",
       "7433         139  0.000000        7.5           93       0              0   \n",
       "7434         184  0.000000        4.0           93       0              0   \n",
       "7435         120  2.966667       15.0           93       0              0   \n",
       "7436         240  1.300000        8.5           93       0              0   \n",
       "7437         133  2.966667       15.0           93       0              0   \n",
       "7438         239  0.233333       16.5           93       0              0   \n",
       "7439          57  0.000000       25.5           93       0              0   \n",
       "7440          62  0.233333       27.0           93       0              0   \n",
       "7441         321  0.566667       21.5           93       0              0   \n",
       "7442         142  0.000000        6.5           93       0              0   \n",
       "7443          39  0.566667       21.5           93       0              0   \n",
       "\n",
       "            Day  HourFrame  \n",
       "0       Tuesday         22  \n",
       "1       Tuesday         23  \n",
       "2       Tuesday          7  \n",
       "3       Tuesday         22  \n",
       "4     Wednesday         22  \n",
       "5     Wednesday         23  \n",
       "6     Wednesday          7  \n",
       "7      Thursday          6  \n",
       "8      Thursday         22  \n",
       "9      Thursday         23  \n",
       "10     Thursday          7  \n",
       "11     Thursday         22  \n",
       "12       Friday         22  \n",
       "13       Friday         23  \n",
       "14       Friday          7  \n",
       "15       Friday         22  \n",
       "16     Saturday         19  \n",
       "17     Saturday         22  \n",
       "18     Saturday         23  \n",
       "19     Saturday          7  \n",
       "20     Saturday          9  \n",
       "21     Saturday         18  \n",
       "22     Saturday         19  \n",
       "23     Saturday         21  \n",
       "24       Sunday         19  \n",
       "25       Sunday         20  \n",
       "26       Sunday         22  \n",
       "27       Sunday         23  \n",
       "28       Sunday         18  \n",
       "29       Sunday         21  \n",
       "...         ...        ...  \n",
       "7414  Wednesday         17  \n",
       "7415  Wednesday         16  \n",
       "7416  Wednesday         16  \n",
       "7417   Thursday         17  \n",
       "7418   Thursday         17  \n",
       "7419     Friday         17  \n",
       "7420     Friday         16  \n",
       "7421   Saturday          7  \n",
       "7422     Monday         17  \n",
       "7423     Monday          7  \n",
       "7424     Monday         17  \n",
       "7425     Monday         16  \n",
       "7426    Tuesday         17  \n",
       "7427    Tuesday          7  \n",
       "7428    Tuesday         17  \n",
       "7429    Tuesday         16  \n",
       "7430  Wednesday         17  \n",
       "7431  Wednesday          7  \n",
       "7432  Wednesday         17  \n",
       "7433  Wednesday         16  \n",
       "7434   Thursday         17  \n",
       "7435     Friday         17  \n",
       "7436     Friday          7  \n",
       "7437     Friday         17  \n",
       "7438     Friday         16  \n",
       "7439     Monday         17  \n",
       "7440     Monday         16  \n",
       "7441    Tuesday         17  \n",
       "7442    Tuesday          7  \n",
       "7443    Tuesday         17  \n",
       "\n",
       "[7444 rows x 8 columns]"
      ]
     },
     "execution_count": 15,
     "metadata": {},
     "output_type": "execute_result"
    },
    {
     "name": "stdout",
     "output_type": "stream",
     "text": [
      "time: 25 ms\n"
     ]
    }
   ],
   "source": [
    "ssid_df"
   ]
  },
  {
   "cell_type": "code",
   "execution_count": 16,
   "metadata": {
    "collapsed": false
   },
   "outputs": [
    {
     "name": "stdout",
     "output_type": "stream",
     "text": [
      "time: 31 ms\n"
     ]
    }
   ],
   "source": [
    "# assigning appropriate datatypes where necessary\n",
    "\n",
    "ssid_df['Day'] = ssid_df['Day'].astype('category')\n",
    "ssid_df['HourFrame'] = ssid_df['HourFrame'].astype('category')\n",
    "ssid_df['JPID_length'] = ssid_df['JPID_length'].astype('int')"
   ]
  },
  {
   "cell_type": "code",
   "execution_count": 17,
   "metadata": {
    "collapsed": false
   },
   "outputs": [
    {
     "name": "stdout",
     "output_type": "stream",
     "text": [
      "time: 8 ms\n"
     ]
    }
   ],
   "source": [
    "# removing any constant features\n",
    "# code from: https://stackoverflow.com/questions/20209600/panda-dataframe-remove-constant-column\n",
    "\n",
    "ssid_df = ssid_df.loc[:,ssid_df.apply(pd.Series.nunique) != 1]"
   ]
  },
  {
   "cell_type": "code",
   "execution_count": 18,
   "metadata": {
    "collapsed": false
   },
   "outputs": [
    {
     "data": {
      "text/html": [
       "<div>\n",
       "<style>\n",
       "    .dataframe thead tr:only-child th {\n",
       "        text-align: right;\n",
       "    }\n",
       "\n",
       "    .dataframe thead th {\n",
       "        text-align: left;\n",
       "    }\n",
       "\n",
       "    .dataframe tbody tr th {\n",
       "        vertical-align: top;\n",
       "    }\n",
       "</style>\n",
       "<table border=\"1\" class=\"dataframe\">\n",
       "  <thead>\n",
       "    <tr style=\"text-align: right;\">\n",
       "      <th></th>\n",
       "      <th>TravelTime</th>\n",
       "      <th>Rain</th>\n",
       "      <th>WindSpeed</th>\n",
       "      <th>JPID_length</th>\n",
       "      <th>SchoolHoliday</th>\n",
       "      <th>Day</th>\n",
       "      <th>HourFrame</th>\n",
       "    </tr>\n",
       "  </thead>\n",
       "  <tbody>\n",
       "    <tr>\n",
       "      <th>0</th>\n",
       "      <td>21</td>\n",
       "      <td>0.000000</td>\n",
       "      <td>16.0</td>\n",
       "      <td>42</td>\n",
       "      <td>0</td>\n",
       "      <td>Tuesday</td>\n",
       "      <td>22</td>\n",
       "    </tr>\n",
       "    <tr>\n",
       "      <th>1</th>\n",
       "      <td>23</td>\n",
       "      <td>0.000000</td>\n",
       "      <td>15.5</td>\n",
       "      <td>42</td>\n",
       "      <td>0</td>\n",
       "      <td>Tuesday</td>\n",
       "      <td>23</td>\n",
       "    </tr>\n",
       "    <tr>\n",
       "      <th>2</th>\n",
       "      <td>21</td>\n",
       "      <td>0.033333</td>\n",
       "      <td>14.5</td>\n",
       "      <td>42</td>\n",
       "      <td>0</td>\n",
       "      <td>Tuesday</td>\n",
       "      <td>7</td>\n",
       "    </tr>\n",
       "    <tr>\n",
       "      <th>3</th>\n",
       "      <td>41</td>\n",
       "      <td>0.000000</td>\n",
       "      <td>16.0</td>\n",
       "      <td>42</td>\n",
       "      <td>0</td>\n",
       "      <td>Tuesday</td>\n",
       "      <td>22</td>\n",
       "    </tr>\n",
       "    <tr>\n",
       "      <th>4</th>\n",
       "      <td>19</td>\n",
       "      <td>0.000000</td>\n",
       "      <td>15.5</td>\n",
       "      <td>42</td>\n",
       "      <td>0</td>\n",
       "      <td>Wednesday</td>\n",
       "      <td>22</td>\n",
       "    </tr>\n",
       "    <tr>\n",
       "      <th>5</th>\n",
       "      <td>41</td>\n",
       "      <td>0.033333</td>\n",
       "      <td>16.5</td>\n",
       "      <td>42</td>\n",
       "      <td>0</td>\n",
       "      <td>Wednesday</td>\n",
       "      <td>23</td>\n",
       "    </tr>\n",
       "    <tr>\n",
       "      <th>6</th>\n",
       "      <td>21</td>\n",
       "      <td>0.000000</td>\n",
       "      <td>14.0</td>\n",
       "      <td>42</td>\n",
       "      <td>0</td>\n",
       "      <td>Wednesday</td>\n",
       "      <td>7</td>\n",
       "    </tr>\n",
       "    <tr>\n",
       "      <th>7</th>\n",
       "      <td>21</td>\n",
       "      <td>0.000000</td>\n",
       "      <td>13.5</td>\n",
       "      <td>42</td>\n",
       "      <td>0</td>\n",
       "      <td>Thursday</td>\n",
       "      <td>6</td>\n",
       "    </tr>\n",
       "    <tr>\n",
       "      <th>8</th>\n",
       "      <td>21</td>\n",
       "      <td>0.000000</td>\n",
       "      <td>11.0</td>\n",
       "      <td>42</td>\n",
       "      <td>0</td>\n",
       "      <td>Thursday</td>\n",
       "      <td>22</td>\n",
       "    </tr>\n",
       "    <tr>\n",
       "      <th>9</th>\n",
       "      <td>41</td>\n",
       "      <td>0.000000</td>\n",
       "      <td>13.0</td>\n",
       "      <td>42</td>\n",
       "      <td>0</td>\n",
       "      <td>Thursday</td>\n",
       "      <td>23</td>\n",
       "    </tr>\n",
       "    <tr>\n",
       "      <th>10</th>\n",
       "      <td>20</td>\n",
       "      <td>0.000000</td>\n",
       "      <td>12.5</td>\n",
       "      <td>42</td>\n",
       "      <td>0</td>\n",
       "      <td>Thursday</td>\n",
       "      <td>7</td>\n",
       "    </tr>\n",
       "    <tr>\n",
       "      <th>11</th>\n",
       "      <td>45</td>\n",
       "      <td>0.000000</td>\n",
       "      <td>11.0</td>\n",
       "      <td>42</td>\n",
       "      <td>0</td>\n",
       "      <td>Thursday</td>\n",
       "      <td>22</td>\n",
       "    </tr>\n",
       "    <tr>\n",
       "      <th>12</th>\n",
       "      <td>20</td>\n",
       "      <td>0.000000</td>\n",
       "      <td>10.0</td>\n",
       "      <td>42</td>\n",
       "      <td>0</td>\n",
       "      <td>Friday</td>\n",
       "      <td>22</td>\n",
       "    </tr>\n",
       "    <tr>\n",
       "      <th>13</th>\n",
       "      <td>18</td>\n",
       "      <td>0.000000</td>\n",
       "      <td>10.5</td>\n",
       "      <td>42</td>\n",
       "      <td>0</td>\n",
       "      <td>Friday</td>\n",
       "      <td>23</td>\n",
       "    </tr>\n",
       "    <tr>\n",
       "      <th>14</th>\n",
       "      <td>23</td>\n",
       "      <td>1.166667</td>\n",
       "      <td>16.0</td>\n",
       "      <td>42</td>\n",
       "      <td>0</td>\n",
       "      <td>Friday</td>\n",
       "      <td>7</td>\n",
       "    </tr>\n",
       "    <tr>\n",
       "      <th>15</th>\n",
       "      <td>18</td>\n",
       "      <td>0.000000</td>\n",
       "      <td>10.0</td>\n",
       "      <td>42</td>\n",
       "      <td>0</td>\n",
       "      <td>Friday</td>\n",
       "      <td>22</td>\n",
       "    </tr>\n",
       "    <tr>\n",
       "      <th>16</th>\n",
       "      <td>40</td>\n",
       "      <td>0.000000</td>\n",
       "      <td>7.5</td>\n",
       "      <td>42</td>\n",
       "      <td>0</td>\n",
       "      <td>Saturday</td>\n",
       "      <td>19</td>\n",
       "    </tr>\n",
       "    <tr>\n",
       "      <th>17</th>\n",
       "      <td>20</td>\n",
       "      <td>0.000000</td>\n",
       "      <td>9.5</td>\n",
       "      <td>42</td>\n",
       "      <td>0</td>\n",
       "      <td>Saturday</td>\n",
       "      <td>22</td>\n",
       "    </tr>\n",
       "    <tr>\n",
       "      <th>18</th>\n",
       "      <td>22</td>\n",
       "      <td>0.000000</td>\n",
       "      <td>9.5</td>\n",
       "      <td>42</td>\n",
       "      <td>0</td>\n",
       "      <td>Saturday</td>\n",
       "      <td>23</td>\n",
       "    </tr>\n",
       "    <tr>\n",
       "      <th>19</th>\n",
       "      <td>20</td>\n",
       "      <td>0.033333</td>\n",
       "      <td>10.0</td>\n",
       "      <td>42</td>\n",
       "      <td>0</td>\n",
       "      <td>Saturday</td>\n",
       "      <td>7</td>\n",
       "    </tr>\n",
       "    <tr>\n",
       "      <th>20</th>\n",
       "      <td>21</td>\n",
       "      <td>0.000000</td>\n",
       "      <td>11.0</td>\n",
       "      <td>42</td>\n",
       "      <td>0</td>\n",
       "      <td>Saturday</td>\n",
       "      <td>9</td>\n",
       "    </tr>\n",
       "    <tr>\n",
       "      <th>21</th>\n",
       "      <td>24</td>\n",
       "      <td>0.000000</td>\n",
       "      <td>6.0</td>\n",
       "      <td>42</td>\n",
       "      <td>0</td>\n",
       "      <td>Saturday</td>\n",
       "      <td>18</td>\n",
       "    </tr>\n",
       "    <tr>\n",
       "      <th>22</th>\n",
       "      <td>140</td>\n",
       "      <td>0.000000</td>\n",
       "      <td>7.5</td>\n",
       "      <td>42</td>\n",
       "      <td>0</td>\n",
       "      <td>Saturday</td>\n",
       "      <td>19</td>\n",
       "    </tr>\n",
       "    <tr>\n",
       "      <th>23</th>\n",
       "      <td>20</td>\n",
       "      <td>0.000000</td>\n",
       "      <td>8.5</td>\n",
       "      <td>42</td>\n",
       "      <td>0</td>\n",
       "      <td>Saturday</td>\n",
       "      <td>21</td>\n",
       "    </tr>\n",
       "    <tr>\n",
       "      <th>24</th>\n",
       "      <td>41</td>\n",
       "      <td>0.000000</td>\n",
       "      <td>6.5</td>\n",
       "      <td>42</td>\n",
       "      <td>0</td>\n",
       "      <td>Sunday</td>\n",
       "      <td>19</td>\n",
       "    </tr>\n",
       "    <tr>\n",
       "      <th>25</th>\n",
       "      <td>41</td>\n",
       "      <td>0.000000</td>\n",
       "      <td>5.5</td>\n",
       "      <td>42</td>\n",
       "      <td>0</td>\n",
       "      <td>Sunday</td>\n",
       "      <td>20</td>\n",
       "    </tr>\n",
       "    <tr>\n",
       "      <th>26</th>\n",
       "      <td>18</td>\n",
       "      <td>0.266667</td>\n",
       "      <td>4.0</td>\n",
       "      <td>42</td>\n",
       "      <td>0</td>\n",
       "      <td>Sunday</td>\n",
       "      <td>22</td>\n",
       "    </tr>\n",
       "    <tr>\n",
       "      <th>27</th>\n",
       "      <td>18</td>\n",
       "      <td>0.133333</td>\n",
       "      <td>5.5</td>\n",
       "      <td>42</td>\n",
       "      <td>0</td>\n",
       "      <td>Sunday</td>\n",
       "      <td>23</td>\n",
       "    </tr>\n",
       "    <tr>\n",
       "      <th>28</th>\n",
       "      <td>20</td>\n",
       "      <td>0.000000</td>\n",
       "      <td>7.5</td>\n",
       "      <td>42</td>\n",
       "      <td>0</td>\n",
       "      <td>Sunday</td>\n",
       "      <td>18</td>\n",
       "    </tr>\n",
       "    <tr>\n",
       "      <th>29</th>\n",
       "      <td>39</td>\n",
       "      <td>0.266667</td>\n",
       "      <td>5.0</td>\n",
       "      <td>42</td>\n",
       "      <td>0</td>\n",
       "      <td>Sunday</td>\n",
       "      <td>21</td>\n",
       "    </tr>\n",
       "    <tr>\n",
       "      <th>...</th>\n",
       "      <td>...</td>\n",
       "      <td>...</td>\n",
       "      <td>...</td>\n",
       "      <td>...</td>\n",
       "      <td>...</td>\n",
       "      <td>...</td>\n",
       "      <td>...</td>\n",
       "    </tr>\n",
       "    <tr>\n",
       "      <th>7414</th>\n",
       "      <td>39</td>\n",
       "      <td>0.166667</td>\n",
       "      <td>5.0</td>\n",
       "      <td>93</td>\n",
       "      <td>0</td>\n",
       "      <td>Wednesday</td>\n",
       "      <td>17</td>\n",
       "    </tr>\n",
       "    <tr>\n",
       "      <th>7415</th>\n",
       "      <td>61</td>\n",
       "      <td>0.266667</td>\n",
       "      <td>5.5</td>\n",
       "      <td>93</td>\n",
       "      <td>0</td>\n",
       "      <td>Wednesday</td>\n",
       "      <td>16</td>\n",
       "    </tr>\n",
       "    <tr>\n",
       "      <th>7416</th>\n",
       "      <td>162</td>\n",
       "      <td>0.266667</td>\n",
       "      <td>5.5</td>\n",
       "      <td>93</td>\n",
       "      <td>0</td>\n",
       "      <td>Wednesday</td>\n",
       "      <td>16</td>\n",
       "    </tr>\n",
       "    <tr>\n",
       "      <th>7417</th>\n",
       "      <td>81</td>\n",
       "      <td>0.000000</td>\n",
       "      <td>13.0</td>\n",
       "      <td>93</td>\n",
       "      <td>0</td>\n",
       "      <td>Thursday</td>\n",
       "      <td>17</td>\n",
       "    </tr>\n",
       "    <tr>\n",
       "      <th>7418</th>\n",
       "      <td>181</td>\n",
       "      <td>0.000000</td>\n",
       "      <td>13.0</td>\n",
       "      <td>93</td>\n",
       "      <td>0</td>\n",
       "      <td>Thursday</td>\n",
       "      <td>17</td>\n",
       "    </tr>\n",
       "    <tr>\n",
       "      <th>7419</th>\n",
       "      <td>41</td>\n",
       "      <td>0.666667</td>\n",
       "      <td>18.0</td>\n",
       "      <td>93</td>\n",
       "      <td>0</td>\n",
       "      <td>Friday</td>\n",
       "      <td>17</td>\n",
       "    </tr>\n",
       "    <tr>\n",
       "      <th>7420</th>\n",
       "      <td>224</td>\n",
       "      <td>1.533333</td>\n",
       "      <td>18.5</td>\n",
       "      <td>93</td>\n",
       "      <td>0</td>\n",
       "      <td>Friday</td>\n",
       "      <td>16</td>\n",
       "    </tr>\n",
       "    <tr>\n",
       "      <th>7421</th>\n",
       "      <td>39</td>\n",
       "      <td>0.133333</td>\n",
       "      <td>12.5</td>\n",
       "      <td>93</td>\n",
       "      <td>0</td>\n",
       "      <td>Saturday</td>\n",
       "      <td>7</td>\n",
       "    </tr>\n",
       "    <tr>\n",
       "      <th>7422</th>\n",
       "      <td>20</td>\n",
       "      <td>0.100000</td>\n",
       "      <td>3.0</td>\n",
       "      <td>93</td>\n",
       "      <td>0</td>\n",
       "      <td>Monday</td>\n",
       "      <td>17</td>\n",
       "    </tr>\n",
       "    <tr>\n",
       "      <th>7423</th>\n",
       "      <td>60</td>\n",
       "      <td>1.033333</td>\n",
       "      <td>3.0</td>\n",
       "      <td>93</td>\n",
       "      <td>0</td>\n",
       "      <td>Monday</td>\n",
       "      <td>7</td>\n",
       "    </tr>\n",
       "    <tr>\n",
       "      <th>7424</th>\n",
       "      <td>59</td>\n",
       "      <td>0.100000</td>\n",
       "      <td>3.0</td>\n",
       "      <td>93</td>\n",
       "      <td>0</td>\n",
       "      <td>Monday</td>\n",
       "      <td>17</td>\n",
       "    </tr>\n",
       "    <tr>\n",
       "      <th>7425</th>\n",
       "      <td>22</td>\n",
       "      <td>0.000000</td>\n",
       "      <td>3.5</td>\n",
       "      <td>93</td>\n",
       "      <td>0</td>\n",
       "      <td>Monday</td>\n",
       "      <td>16</td>\n",
       "    </tr>\n",
       "    <tr>\n",
       "      <th>7426</th>\n",
       "      <td>61</td>\n",
       "      <td>0.000000</td>\n",
       "      <td>2.5</td>\n",
       "      <td>93</td>\n",
       "      <td>0</td>\n",
       "      <td>Tuesday</td>\n",
       "      <td>17</td>\n",
       "    </tr>\n",
       "    <tr>\n",
       "      <th>7427</th>\n",
       "      <td>82</td>\n",
       "      <td>0.000000</td>\n",
       "      <td>3.5</td>\n",
       "      <td>93</td>\n",
       "      <td>0</td>\n",
       "      <td>Tuesday</td>\n",
       "      <td>7</td>\n",
       "    </tr>\n",
       "    <tr>\n",
       "      <th>7428</th>\n",
       "      <td>29</td>\n",
       "      <td>0.000000</td>\n",
       "      <td>2.5</td>\n",
       "      <td>93</td>\n",
       "      <td>0</td>\n",
       "      <td>Tuesday</td>\n",
       "      <td>17</td>\n",
       "    </tr>\n",
       "    <tr>\n",
       "      <th>7429</th>\n",
       "      <td>60</td>\n",
       "      <td>0.000000</td>\n",
       "      <td>3.0</td>\n",
       "      <td>93</td>\n",
       "      <td>0</td>\n",
       "      <td>Tuesday</td>\n",
       "      <td>16</td>\n",
       "    </tr>\n",
       "    <tr>\n",
       "      <th>7430</th>\n",
       "      <td>3</td>\n",
       "      <td>0.000000</td>\n",
       "      <td>6.0</td>\n",
       "      <td>93</td>\n",
       "      <td>0</td>\n",
       "      <td>Wednesday</td>\n",
       "      <td>17</td>\n",
       "    </tr>\n",
       "    <tr>\n",
       "      <th>7431</th>\n",
       "      <td>17</td>\n",
       "      <td>0.000000</td>\n",
       "      <td>4.5</td>\n",
       "      <td>93</td>\n",
       "      <td>0</td>\n",
       "      <td>Wednesday</td>\n",
       "      <td>7</td>\n",
       "    </tr>\n",
       "    <tr>\n",
       "      <th>7432</th>\n",
       "      <td>101</td>\n",
       "      <td>0.000000</td>\n",
       "      <td>6.0</td>\n",
       "      <td>93</td>\n",
       "      <td>0</td>\n",
       "      <td>Wednesday</td>\n",
       "      <td>17</td>\n",
       "    </tr>\n",
       "    <tr>\n",
       "      <th>7433</th>\n",
       "      <td>139</td>\n",
       "      <td>0.000000</td>\n",
       "      <td>7.5</td>\n",
       "      <td>93</td>\n",
       "      <td>0</td>\n",
       "      <td>Wednesday</td>\n",
       "      <td>16</td>\n",
       "    </tr>\n",
       "    <tr>\n",
       "      <th>7434</th>\n",
       "      <td>184</td>\n",
       "      <td>0.000000</td>\n",
       "      <td>4.0</td>\n",
       "      <td>93</td>\n",
       "      <td>0</td>\n",
       "      <td>Thursday</td>\n",
       "      <td>17</td>\n",
       "    </tr>\n",
       "    <tr>\n",
       "      <th>7435</th>\n",
       "      <td>120</td>\n",
       "      <td>2.966667</td>\n",
       "      <td>15.0</td>\n",
       "      <td>93</td>\n",
       "      <td>0</td>\n",
       "      <td>Friday</td>\n",
       "      <td>17</td>\n",
       "    </tr>\n",
       "    <tr>\n",
       "      <th>7436</th>\n",
       "      <td>240</td>\n",
       "      <td>1.300000</td>\n",
       "      <td>8.5</td>\n",
       "      <td>93</td>\n",
       "      <td>0</td>\n",
       "      <td>Friday</td>\n",
       "      <td>7</td>\n",
       "    </tr>\n",
       "    <tr>\n",
       "      <th>7437</th>\n",
       "      <td>133</td>\n",
       "      <td>2.966667</td>\n",
       "      <td>15.0</td>\n",
       "      <td>93</td>\n",
       "      <td>0</td>\n",
       "      <td>Friday</td>\n",
       "      <td>17</td>\n",
       "    </tr>\n",
       "    <tr>\n",
       "      <th>7438</th>\n",
       "      <td>239</td>\n",
       "      <td>0.233333</td>\n",
       "      <td>16.5</td>\n",
       "      <td>93</td>\n",
       "      <td>0</td>\n",
       "      <td>Friday</td>\n",
       "      <td>16</td>\n",
       "    </tr>\n",
       "    <tr>\n",
       "      <th>7439</th>\n",
       "      <td>57</td>\n",
       "      <td>0.000000</td>\n",
       "      <td>25.5</td>\n",
       "      <td>93</td>\n",
       "      <td>0</td>\n",
       "      <td>Monday</td>\n",
       "      <td>17</td>\n",
       "    </tr>\n",
       "    <tr>\n",
       "      <th>7440</th>\n",
       "      <td>62</td>\n",
       "      <td>0.233333</td>\n",
       "      <td>27.0</td>\n",
       "      <td>93</td>\n",
       "      <td>0</td>\n",
       "      <td>Monday</td>\n",
       "      <td>16</td>\n",
       "    </tr>\n",
       "    <tr>\n",
       "      <th>7441</th>\n",
       "      <td>321</td>\n",
       "      <td>0.566667</td>\n",
       "      <td>21.5</td>\n",
       "      <td>93</td>\n",
       "      <td>0</td>\n",
       "      <td>Tuesday</td>\n",
       "      <td>17</td>\n",
       "    </tr>\n",
       "    <tr>\n",
       "      <th>7442</th>\n",
       "      <td>142</td>\n",
       "      <td>0.000000</td>\n",
       "      <td>6.5</td>\n",
       "      <td>93</td>\n",
       "      <td>0</td>\n",
       "      <td>Tuesday</td>\n",
       "      <td>7</td>\n",
       "    </tr>\n",
       "    <tr>\n",
       "      <th>7443</th>\n",
       "      <td>39</td>\n",
       "      <td>0.566667</td>\n",
       "      <td>21.5</td>\n",
       "      <td>93</td>\n",
       "      <td>0</td>\n",
       "      <td>Tuesday</td>\n",
       "      <td>17</td>\n",
       "    </tr>\n",
       "  </tbody>\n",
       "</table>\n",
       "<p>7444 rows × 7 columns</p>\n",
       "</div>"
      ],
      "text/plain": [
       "      TravelTime      Rain  WindSpeed  JPID_length  SchoolHoliday        Day  \\\n",
       "0             21  0.000000       16.0           42              0    Tuesday   \n",
       "1             23  0.000000       15.5           42              0    Tuesday   \n",
       "2             21  0.033333       14.5           42              0    Tuesday   \n",
       "3             41  0.000000       16.0           42              0    Tuesday   \n",
       "4             19  0.000000       15.5           42              0  Wednesday   \n",
       "5             41  0.033333       16.5           42              0  Wednesday   \n",
       "6             21  0.000000       14.0           42              0  Wednesday   \n",
       "7             21  0.000000       13.5           42              0   Thursday   \n",
       "8             21  0.000000       11.0           42              0   Thursday   \n",
       "9             41  0.000000       13.0           42              0   Thursday   \n",
       "10            20  0.000000       12.5           42              0   Thursday   \n",
       "11            45  0.000000       11.0           42              0   Thursday   \n",
       "12            20  0.000000       10.0           42              0     Friday   \n",
       "13            18  0.000000       10.5           42              0     Friday   \n",
       "14            23  1.166667       16.0           42              0     Friday   \n",
       "15            18  0.000000       10.0           42              0     Friday   \n",
       "16            40  0.000000        7.5           42              0   Saturday   \n",
       "17            20  0.000000        9.5           42              0   Saturday   \n",
       "18            22  0.000000        9.5           42              0   Saturday   \n",
       "19            20  0.033333       10.0           42              0   Saturday   \n",
       "20            21  0.000000       11.0           42              0   Saturday   \n",
       "21            24  0.000000        6.0           42              0   Saturday   \n",
       "22           140  0.000000        7.5           42              0   Saturday   \n",
       "23            20  0.000000        8.5           42              0   Saturday   \n",
       "24            41  0.000000        6.5           42              0     Sunday   \n",
       "25            41  0.000000        5.5           42              0     Sunday   \n",
       "26            18  0.266667        4.0           42              0     Sunday   \n",
       "27            18  0.133333        5.5           42              0     Sunday   \n",
       "28            20  0.000000        7.5           42              0     Sunday   \n",
       "29            39  0.266667        5.0           42              0     Sunday   \n",
       "...          ...       ...        ...          ...            ...        ...   \n",
       "7414          39  0.166667        5.0           93              0  Wednesday   \n",
       "7415          61  0.266667        5.5           93              0  Wednesday   \n",
       "7416         162  0.266667        5.5           93              0  Wednesday   \n",
       "7417          81  0.000000       13.0           93              0   Thursday   \n",
       "7418         181  0.000000       13.0           93              0   Thursday   \n",
       "7419          41  0.666667       18.0           93              0     Friday   \n",
       "7420         224  1.533333       18.5           93              0     Friday   \n",
       "7421          39  0.133333       12.5           93              0   Saturday   \n",
       "7422          20  0.100000        3.0           93              0     Monday   \n",
       "7423          60  1.033333        3.0           93              0     Monday   \n",
       "7424          59  0.100000        3.0           93              0     Monday   \n",
       "7425          22  0.000000        3.5           93              0     Monday   \n",
       "7426          61  0.000000        2.5           93              0    Tuesday   \n",
       "7427          82  0.000000        3.5           93              0    Tuesday   \n",
       "7428          29  0.000000        2.5           93              0    Tuesday   \n",
       "7429          60  0.000000        3.0           93              0    Tuesday   \n",
       "7430           3  0.000000        6.0           93              0  Wednesday   \n",
       "7431          17  0.000000        4.5           93              0  Wednesday   \n",
       "7432         101  0.000000        6.0           93              0  Wednesday   \n",
       "7433         139  0.000000        7.5           93              0  Wednesday   \n",
       "7434         184  0.000000        4.0           93              0   Thursday   \n",
       "7435         120  2.966667       15.0           93              0     Friday   \n",
       "7436         240  1.300000        8.5           93              0     Friday   \n",
       "7437         133  2.966667       15.0           93              0     Friday   \n",
       "7438         239  0.233333       16.5           93              0     Friday   \n",
       "7439          57  0.000000       25.5           93              0     Monday   \n",
       "7440          62  0.233333       27.0           93              0     Monday   \n",
       "7441         321  0.566667       21.5           93              0    Tuesday   \n",
       "7442         142  0.000000        6.5           93              0    Tuesday   \n",
       "7443          39  0.566667       21.5           93              0    Tuesday   \n",
       "\n",
       "     HourFrame  \n",
       "0           22  \n",
       "1           23  \n",
       "2            7  \n",
       "3           22  \n",
       "4           22  \n",
       "5           23  \n",
       "6            7  \n",
       "7            6  \n",
       "8           22  \n",
       "9           23  \n",
       "10           7  \n",
       "11          22  \n",
       "12          22  \n",
       "13          23  \n",
       "14           7  \n",
       "15          22  \n",
       "16          19  \n",
       "17          22  \n",
       "18          23  \n",
       "19           7  \n",
       "20           9  \n",
       "21          18  \n",
       "22          19  \n",
       "23          21  \n",
       "24          19  \n",
       "25          20  \n",
       "26          22  \n",
       "27          23  \n",
       "28          18  \n",
       "29          21  \n",
       "...        ...  \n",
       "7414        17  \n",
       "7415        16  \n",
       "7416        16  \n",
       "7417        17  \n",
       "7418        17  \n",
       "7419        17  \n",
       "7420        16  \n",
       "7421         7  \n",
       "7422        17  \n",
       "7423         7  \n",
       "7424        17  \n",
       "7425        16  \n",
       "7426        17  \n",
       "7427         7  \n",
       "7428        17  \n",
       "7429        16  \n",
       "7430        17  \n",
       "7431         7  \n",
       "7432        17  \n",
       "7433        16  \n",
       "7434        17  \n",
       "7435        17  \n",
       "7436         7  \n",
       "7437        17  \n",
       "7438        16  \n",
       "7439        17  \n",
       "7440        16  \n",
       "7441        17  \n",
       "7442         7  \n",
       "7443        17  \n",
       "\n",
       "[7444 rows x 7 columns]"
      ]
     },
     "execution_count": 18,
     "metadata": {},
     "output_type": "execute_result"
    },
    {
     "name": "stdout",
     "output_type": "stream",
     "text": [
      "time: 24 ms\n"
     ]
    }
   ],
   "source": [
    "ssid_df"
   ]
  },
  {
   "cell_type": "code",
   "execution_count": 19,
   "metadata": {
    "collapsed": false
   },
   "outputs": [
    {
     "name": "stdout",
     "output_type": "stream",
     "text": [
      "time: 41 ms\n"
     ]
    }
   ],
   "source": [
    "# save as csv\n",
    "\n",
    "ssid_df.to_csv('SSID_CSVs/SSID_%s.csv' % r)"
   ]
  },
  {
   "cell_type": "markdown",
   "metadata": {},
   "source": [
    "## 1c. Dropping Outliers"
   ]
  },
  {
   "cell_type": "markdown",
   "metadata": {},
   "source": [
    "#### Visualising range of travel-time data first"
   ]
  },
  {
   "cell_type": "markdown",
   "metadata": {},
   "source": [
    "Histiogram of values (x-axis is number of seconds)"
   ]
  },
  {
   "cell_type": "code",
   "execution_count": 20,
   "metadata": {
    "collapsed": false
   },
   "outputs": [
    {
     "data": {
      "text/plain": [
       "<matplotlib.axes._subplots.AxesSubplot at 0x4c7b6a0>"
      ]
     },
     "execution_count": 20,
     "metadata": {},
     "output_type": "execute_result"
    },
    {
     "data": {
      "image/png": "[encoded data removed]",
      "text/plain": [
       "<matplotlib.figure.Figure at 0x4c7b470>"
      ]
     },
     "metadata": {},
     "output_type": "display_data"
    },
    {
     "name": "stdout",
     "output_type": "stream",
     "text": [
      "time: 223 ms\n"
     ]
    }
   ],
   "source": [
    "ssid_df.TravelTime.hist(figsize=(16, 8), bins=50)"
   ]
  },
  {
   "cell_type": "markdown",
   "metadata": {},
   "source": [
    "Boxplot to check for outliers"
   ]
  },
  {
   "cell_type": "code",
   "execution_count": 21,
   "metadata": {
    "collapsed": false
   },
   "outputs": [
    {
     "data": {
      "text/plain": [
       "<matplotlib.axes._subplots.AxesSubplot at 0x1a186f28>"
      ]
     },
     "execution_count": 21,
     "metadata": {},
     "output_type": "execute_result"
    },
    {
     "data": {
      "image/png": "[encoded data removed]",
      "text/plain": [
       "<matplotlib.figure.Figure at 0x19aa3ef0>"
      ]
     },
     "metadata": {},
     "output_type": "display_data"
    },
    {
     "name": "stdout",
     "output_type": "stream",
     "text": [
      "time: 158 ms\n"
     ]
    }
   ],
   "source": [
    "ssid_df.TravelTime.plot(kind='box', figsize=(8, 8), showfliers=True)"
   ]
  },
  {
   "cell_type": "code",
   "execution_count": 22,
   "metadata": {
    "collapsed": false
   },
   "outputs": [
    {
     "data": {
      "text/plain": [
       "count    7444.000000\n",
       "mean       32.015717\n",
       "std        36.155138\n",
       "min         2.000000\n",
       "25%        19.000000\n",
       "50%        21.000000\n",
       "75%        23.000000\n",
       "max       657.000000\n",
       "Name: TravelTime, dtype: float64"
      ]
     },
     "execution_count": 22,
     "metadata": {},
     "output_type": "execute_result"
    },
    {
     "name": "stdout",
     "output_type": "stream",
     "text": [
      "time: 6 ms\n"
     ]
    }
   ],
   "source": [
    "# Checking stats for TravelTime\n",
    "\n",
    "ssid_df.TravelTime.describe()"
   ]
  },
  {
   "cell_type": "markdown",
   "metadata": {},
   "source": [
    "Dropping outliers"
   ]
  },
  {
   "cell_type": "code",
   "execution_count": 23,
   "metadata": {
    "collapsed": false
   },
   "outputs": [
    {
     "name": "stdout",
     "output_type": "stream",
     "text": [
      "16.3610330511\n",
      "time: 68 ms\n"
     ]
    }
   ],
   "source": [
    "# loading table of minimum times to traverse segments at 65kmph\n",
    "\n",
    "find_lb = pd.read_csv('use_speed_and_distance_get_outlier_bound.csv')\n",
    "\n",
    "# extracting value for this segment, to use as lower bound for outlier removal\n",
    "\n",
    "lb = find_lb.loc[find_lb['SSID'] == SSIDno, 'min_sec'].iloc[0]\n",
    "print(lb)"
   ]
  },
  {
   "cell_type": "code",
   "execution_count": 24,
   "metadata": {
    "collapsed": false
   },
   "outputs": [
    {
     "name": "stdout",
     "output_type": "stream",
     "text": [
      "There will be 2022 outliers dropped.\n",
      "time: 12 ms\n"
     ]
    }
   ],
   "source": [
    "# make a copy of original df\n",
    "\n",
    "trimssid_df = ssid_df.copy()\n",
    "\n",
    "# Remove TravelTime upper bound outliers beyond 2 x IQR, and lowerbound below 'lb'\n",
    "\n",
    "ub = trimssid_df.quantile(q=.75) + (2*(trimssid_df.quantile(q=.75)-trimssid_df.quantile(q=.25)))\n",
    "trimssid_df['OutlierTT'] = (trimssid_df['TravelTime'] < lb) | (trimssid_df['TravelTime'] > ub['TravelTime'])\n",
    "\n",
    "# Outlier rows counted\n",
    "\n",
    "print(\"There will be\", trimssid_df[(trimssid_df['OutlierTT'] == True)].shape[0], \"outliers dropped.\")"
   ]
  },
  {
   "cell_type": "code",
   "execution_count": 25,
   "metadata": {
    "collapsed": false,
    "scrolled": true
   },
   "outputs": [
    {
     "name": "stdout",
     "output_type": "stream",
     "text": [
      "time: 40 ms\n"
     ]
    }
   ],
   "source": [
    "# dropping outliers\n",
    "\n",
    "trimssid_df = trimssid_df[trimssid_df.OutlierTT != True]\n",
    "trimssid_df.sort_values(['TravelTime'], ascending=False, inplace=True)\n",
    "trimssid_df = trimssid_df.drop(['OutlierTT'], axis=1)\n",
    "trimssid_df.reset_index(inplace=True)\n",
    "trimssid_df = trimssid_df.drop('index', axis=1)"
   ]
  },
  {
   "cell_type": "code",
   "execution_count": 26,
   "metadata": {
    "collapsed": false
   },
   "outputs": [
    {
     "data": {
      "text/plain": [
       "count    5422.000000\n",
       "mean       20.277204\n",
       "std         1.935806\n",
       "min        17.000000\n",
       "25%        19.000000\n",
       "50%        20.000000\n",
       "75%        21.000000\n",
       "max        31.000000\n",
       "Name: TravelTime, dtype: float64"
      ]
     },
     "execution_count": 26,
     "metadata": {},
     "output_type": "execute_result"
    },
    {
     "name": "stdout",
     "output_type": "stream",
     "text": [
      "time: 7 ms\n"
     ]
    }
   ],
   "source": [
    "# Create TT mean/median value variables, to use in calculating mean/median absolute percentage accuracy scores\n",
    "# and for horizontal lines in the charts below to represent the mean/medium\n",
    "\n",
    "ssid_df = trimssid_df\n",
    "ssid_df_mean = ssid_df.TravelTime.mean()\n",
    "ssid_df_median  = ssid_df.TravelTime.median()\n",
    "ssid_df.TravelTime.describe()"
   ]
  },
  {
   "cell_type": "markdown",
   "metadata": {},
   "source": [
    "#### Visualising range of data after dropping outliers"
   ]
  },
  {
   "cell_type": "code",
   "execution_count": 27,
   "metadata": {
    "collapsed": false
   },
   "outputs": [
    {
     "data": {
      "text/plain": [
       "<matplotlib.axes._subplots.AxesSubplot at 0x15fa2b38>"
      ]
     },
     "execution_count": 27,
     "metadata": {},
     "output_type": "execute_result"
    },
    {
     "data": {
      "image/png": "[encoded data removed]",
      "text/plain": [
       "<matplotlib.figure.Figure at 0x6578f98>"
      ]
     },
     "metadata": {},
     "output_type": "display_data"
    },
    {
     "name": "stdout",
     "output_type": "stream",
     "text": [
      "time: 217 ms\n"
     ]
    }
   ],
   "source": [
    "ssid_df.TravelTime.hist(figsize=(16, 8), bins=50)"
   ]
  },
  {
   "cell_type": "code",
   "execution_count": 28,
   "metadata": {
    "collapsed": false
   },
   "outputs": [
    {
     "data": {
      "text/plain": [
       "<matplotlib.axes._subplots.AxesSubplot at 0x666b8d0>"
      ]
     },
     "execution_count": 28,
     "metadata": {},
     "output_type": "execute_result"
    },
    {
     "data": {
      "image/png": "[encoded data removed]",
      "text/plain": [
       "<matplotlib.figure.Figure at 0x65a7ac8>"
      ]
     },
     "metadata": {},
     "output_type": "display_data"
    },
    {
     "name": "stdout",
     "output_type": "stream",
     "text": [
      "time: 144 ms\n"
     ]
    }
   ],
   "source": [
    "ssid_df.TravelTime.plot(kind='box', figsize=(8, 8), showfliers=True)"
   ]
  },
  {
   "cell_type": "markdown",
   "metadata": {},
   "source": [
    "## 2. Visualising the data"
   ]
  },
  {
   "cell_type": "markdown",
   "metadata": {},
   "source": [
    "### 2ai Bar plot for mean TravelTime per HourFrame"
   ]
  },
  {
   "cell_type": "code",
   "execution_count": 29,
   "metadata": {
    "collapsed": false
   },
   "outputs": [
    {
     "data": {
      "text/plain": [
       "[<matplotlib.lines.Line2D at 0x68994a8>]"
      ]
     },
     "execution_count": 29,
     "metadata": {},
     "output_type": "execute_result"
    },
    {
     "data": {
      "image/png": "[encoded data removed]",
      "text/plain": [
       "<matplotlib.figure.Figure at 0x6899470>"
      ]
     },
     "metadata": {},
     "output_type": "display_data"
    },
    {
     "name": "stdout",
     "output_type": "stream",
     "text": [
      "time: 196 ms\n"
     ]
    }
   ],
   "source": [
    "mean_HF = ssid_df.groupby('HourFrame')['TravelTime'].mean()\n",
    "mean_HF.plot(kind='bar', figsize=(15, 6), rot=0)\n",
    "\n",
    "coord_x1 = -1\n",
    "coord_y1 = ssid_df_mean\n",
    "coord_x2 = 25\n",
    "\n",
    "plt.plot([coord_x1, coord_x2], [coord_y1, coord_y1], '-o')"
   ]
  },
  {
   "cell_type": "markdown",
   "metadata": {},
   "source": [
    "Observation:  "
   ]
  },
  {
   "cell_type": "markdown",
   "metadata": {},
   "source": [
    "### 2aii Bar plot for median TravelTime per HourFrame"
   ]
  },
  {
   "cell_type": "code",
   "execution_count": 30,
   "metadata": {
    "collapsed": false
   },
   "outputs": [
    {
     "data": {
      "text/plain": [
       "[<matplotlib.lines.Line2D at 0x19eeca90>]"
      ]
     },
     "execution_count": 30,
     "metadata": {},
     "output_type": "execute_result"
    },
    {
     "data": {
      "image/png": "[encoded data removed]",
      "text/plain": [
       "<matplotlib.figure.Figure at 0x19eec9b0>"
      ]
     },
     "metadata": {},
     "output_type": "display_data"
    },
    {
     "name": "stdout",
     "output_type": "stream",
     "text": [
      "time: 192 ms\n"
     ]
    }
   ],
   "source": [
    "med_HF = ssid_df.groupby('HourFrame')['TravelTime'].median()\n",
    "med_HF.plot(kind='bar', figsize=(15, 6), rot=0)\n",
    "\n",
    "coord_x1 = -1\n",
    "coord_y1 = ssid_df_median\n",
    "coord_x2 = 25\n",
    "\n",
    "plt.plot([coord_x1, coord_x2], [coord_y1, coord_y1], '-o')"
   ]
  },
  {
   "cell_type": "markdown",
   "metadata": {},
   "source": [
    "Observation:  "
   ]
  },
  {
   "cell_type": "markdown",
   "metadata": {},
   "source": [
    "### 2bi Bar plot for mean TravelTime per Day"
   ]
  },
  {
   "cell_type": "code",
   "execution_count": 31,
   "metadata": {
    "collapsed": false
   },
   "outputs": [
    {
     "data": {
      "text/plain": [
       "[<matplotlib.lines.Line2D at 0x19fae908>]"
      ]
     },
     "execution_count": 31,
     "metadata": {},
     "output_type": "execute_result"
    },
    {
     "data": {
      "image/png": "[encoded data removed]",
      "text/plain": [
       "<matplotlib.figure.Figure at 0x19fcaf60>"
      ]
     },
     "metadata": {},
     "output_type": "display_data"
    },
    {
     "name": "stdout",
     "output_type": "stream",
     "text": [
      "time: 154 ms\n"
     ]
    }
   ],
   "source": [
    "mean_Day = ssid_df.groupby('Day')['TravelTime'].mean()\n",
    "mean_Day=mean_Day.reindex(['Monday', 'Tuesday', 'Wednesday', 'Thursday', 'Friday', 'Saturday', 'Sunday'])\n",
    "\n",
    "mean_Day.plot(kind='bar', figsize=(15, 6), rot=0)\n",
    "\n",
    "coord_x1 = -1\n",
    "coord_y1 = ssid_df_mean\n",
    "\n",
    "coord_x2 = 7\n",
    "\n",
    "plt.plot([coord_x1, coord_x2], [coord_y1, coord_y1], '-o')"
   ]
  },
  {
   "cell_type": "markdown",
   "metadata": {},
   "source": [
    "Observation:  "
   ]
  },
  {
   "cell_type": "markdown",
   "metadata": {},
   "source": [
    "### 2bii Bar plot for median TravelTime per HourFrame"
   ]
  },
  {
   "cell_type": "code",
   "execution_count": null,
   "metadata": {
    "collapsed": false
   },
   "outputs": [],
   "source": [
    "med_Day = ssid_df.groupby('Day')['TravelTime'].median()\n",
    "\n",
    "med_Day=med_Day.reindex(['Monday', 'Tuesday', 'Wednesday', 'Thursday', 'Friday', 'Saturday', 'Sunday'])\n",
    "med_Day.plot(kind='bar', figsize=(15, 6), rot=0)\n",
    "\n",
    "coord_x1 = -1\n",
    "coord_y1 = ssid_df_median\n",
    "coord_x2 = 7\n",
    "\n",
    "plt.plot([coord_x1, coord_x2], [coord_y1, coord_y1], '-o')"
   ]
  },
  {
   "cell_type": "markdown",
   "metadata": {},
   "source": [
    "Observation: "
   ]
  },
  {
   "cell_type": "markdown",
   "metadata": {},
   "source": [
    "### 2ci Bar plot for mean TravelTime when SchoolHoliday true/false"
   ]
  },
  {
   "cell_type": "code",
   "execution_count": null,
   "metadata": {
    "collapsed": false
   },
   "outputs": [],
   "source": [
    "mean_SH = ssid_df.groupby('SchoolHoliday')['TravelTime'].mean()\n",
    "mean_SH.plot(kind='bar', figsize=(15, 6), rot=0)\n",
    "\n",
    "coord_x1 = -1\n",
    "coord_y1 = ssid_df_mean\n",
    "coord_x2 = 7\n",
    "\n",
    "plt.plot([coord_x1, coord_x2], [coord_y1, coord_y1], '-o')"
   ]
  },
  {
   "cell_type": "markdown",
   "metadata": {},
   "source": [
    "Observation:  "
   ]
  },
  {
   "cell_type": "markdown",
   "metadata": {},
   "source": [
    "### 2cii Bar plot for median TravelTime when SchoolHoliday true/false"
   ]
  },
  {
   "cell_type": "code",
   "execution_count": null,
   "metadata": {
    "collapsed": false,
    "scrolled": true
   },
   "outputs": [],
   "source": [
    "med_SH = ssid_df.groupby('SchoolHoliday')['TravelTime'].median()\n",
    "med_SH.plot(kind='bar', figsize=(15, 6), rot=0)\n",
    "\n",
    "coord_x1 = -1\n",
    "coord_y1 = ssid_df_median\n",
    "coord_x2 = 7\n",
    "\n",
    "plt.plot([coord_x1, coord_x2], [coord_y1, coord_y1], '-o')"
   ]
  },
  {
   "cell_type": "markdown",
   "metadata": {},
   "source": [
    "Splitting data into 70% for training and 30% for testing"
   ]
  },
  {
   "cell_type": "markdown",
   "metadata": {},
   "source": [
    "## 3 Model training (Scikit-learn)"
   ]
  },
  {
   "cell_type": "markdown",
   "metadata": {},
   "source": [
    "First we need to dreate dummy variables for categorical features, and split into test and training sets"
   ]
  },
  {
   "cell_type": "markdown",
   "metadata": {},
   "source": [
    "### 3.1 Prepare data for modelling via Scikit-learn"
   ]
  },
  {
   "cell_type": "code",
   "execution_count": null,
   "metadata": {
    "collapsed": false
   },
   "outputs": [],
   "source": [
    "# create dummy variables from HourFrame and Day using get_dummies\n",
    "# dropping first values to avoid multicollinearity (Day = Friday, Hour = 0 or 6 or 7, depending on SSID)\n",
    "\n",
    "Day_dummies = pd.get_dummies(ssid_df.Day, prefix='Day', drop_first=True)\n",
    "HF_dummies = pd.get_dummies(ssid_df.HourFrame, prefix='HF', drop_first=True)\n",
    "\n",
    "# concatenate the dummy variable columns onto the original DataFrame and drop the original features\n",
    "ssid_df = pd.concat([ssid_df, HF_dummies, Day_dummies], axis=1)\n",
    "ssid_df = ssid_df.drop(['HourFrame', 'Day'], axis=1)\n",
    "ssid_df"
   ]
  },
  {
   "cell_type": "code",
   "execution_count": null,
   "metadata": {
    "collapsed": false
   },
   "outputs": [],
   "source": [
    "# prepare a list containing all remaining features bar the target\n",
    "pred_features = list(ssid_df)\n",
    "pred_features.remove('TravelTime')\n",
    "print(pred_features)"
   ]
  },
  {
   "cell_type": "code",
   "execution_count": null,
   "metadata": {
    "collapsed": false
   },
   "outputs": [],
   "source": [
    "# prepare target/predictive feature variables for use in scikit-learn modelling\n",
    "\n",
    "X = ssid_df[pred_features]\n",
    "y = ssid_df['TravelTime']"
   ]
  },
  {
   "cell_type": "code",
   "execution_count": null,
   "metadata": {
    "collapsed": false
   },
   "outputs": [],
   "source": [
    "# split the data into training portion (70%) and final testing potion (30%)\n",
    "\n",
    "X_train, X_test, y_train, y_test = train_test_split(X, y, test_size = 0.3, random_state = 38)"
   ]
  },
  {
   "cell_type": "markdown",
   "metadata": {},
   "source": [
    "### 3bi Linear Regression model (via scikit-learn) - training - default parameters"
   ]
  },
  {
   "cell_type": "code",
   "execution_count": null,
   "metadata": {
    "collapsed": false
   },
   "outputs": [],
   "source": [
    "lr = LinR(n_jobs = cores)\n",
    "lr.fit(X_train, y_train)"
   ]
  },
  {
   "cell_type": "code",
   "execution_count": null,
   "metadata": {
    "collapsed": false,
    "scrolled": true
   },
   "outputs": [],
   "source": [
    "lr_pred = lr.predict(X_train)\n",
    "lr_rsq = metrics.r2_score(y_train, lr_pred)\n",
    "print (\"The R-squared value of the Linear Regression model is\", lr_rsq)"
   ]
  },
  {
   "cell_type": "code",
   "execution_count": null,
   "metadata": {
    "collapsed": false
   },
   "outputs": [],
   "source": [
    "lr_mae = metrics.mean_absolute_error(y_train, lr_pred)\n",
    "print (\"The mean absolute error of the Linear Regression model is\", lr_mae)\n",
    "print (\"The mean absolute percentage error is\", (((lr_mae)/ssid_df_mean)*100))"
   ]
  },
  {
   "cell_type": "code",
   "execution_count": null,
   "metadata": {
    "collapsed": false
   },
   "outputs": [],
   "source": [
    "lr_mdae = metrics.median_absolute_error(y_train, lr_pred)\n",
    "print (\"The median absolute error of the Linear Regression model is\", lr_mdae)\n",
    "print (\"The median absolute percentage error is\", (((lr_mdae)/ssid_df_median)*100))"
   ]
  },
  {
   "cell_type": "markdown",
   "metadata": {},
   "source": [
    "### 3bii Linear Regression model (via scikit-learn) - testing - default parameters"
   ]
  },
  {
   "cell_type": "code",
   "execution_count": null,
   "metadata": {
    "collapsed": false,
    "scrolled": true
   },
   "outputs": [],
   "source": [
    "lr_preda = lr.predict(X_test)\n",
    "lr_rsqa = metrics.r2_score(y_test, lr_preda)\n",
    "print (\"The R-squared value of the Linear Regression model is\", lr_rsqa)"
   ]
  },
  {
   "cell_type": "code",
   "execution_count": null,
   "metadata": {
    "collapsed": false
   },
   "outputs": [],
   "source": [
    "lr_maea = metrics.mean_absolute_error(y_test, lr_preda)\n",
    "print (\"The mean absolute error of the Linear Regression model is\", lr_maea)\n",
    "print (\"The mean absolute percentage error is\", (((lr_maea)/ssid_df_mean)*100))"
   ]
  },
  {
   "cell_type": "code",
   "execution_count": null,
   "metadata": {
    "collapsed": false
   },
   "outputs": [],
   "source": [
    "lr_mdaea = metrics.median_absolute_error(y_test, lr_preda)\n",
    "print (\"The median absolute error of the Linear Regression model is\", lr_mdaea)\n",
    "print (\"The median absolute percentage error is\", (((lr_mdaea)/ssid_df_median)*100))"
   ]
  },
  {
   "cell_type": "markdown",
   "metadata": {},
   "source": [
    "### 3ci Support Vector Machine Regression with RBF Kernel model - training - default parameters"
   ]
  },
  {
   "cell_type": "code",
   "execution_count": null,
   "metadata": {
    "collapsed": false
   },
   "outputs": [],
   "source": [
    "svr_rbf = SVR(kernel='rbf')\n",
    "svr_rbf.fit(X_train, y_train)"
   ]
  },
  {
   "cell_type": "code",
   "execution_count": null,
   "metadata": {
    "collapsed": false
   },
   "outputs": [],
   "source": [
    "svr_rbf_pred = svr_rbf.predict(X_train)\n",
    "svr_rbf_rsq = metrics.r2_score(y_train, svr_rbf_pred)\n",
    "print (\"The R-squared value of the SVR with RBF Kernel model is\", svr_rbf_rsq)"
   ]
  },
  {
   "cell_type": "code",
   "execution_count": null,
   "metadata": {
    "collapsed": false
   },
   "outputs": [],
   "source": [
    "svr_rbf_mae = metrics.mean_absolute_error(y_train, svr_rbf_pred)\n",
    "print (\"The mean absolute error of the SVR with RBF Kernel model is\", svr_rbf_mae)\n",
    "print (\"The mean absolute percentage error is\", (((svr_rbf_mae)/ssid_df_mean)*100))"
   ]
  },
  {
   "cell_type": "code",
   "execution_count": null,
   "metadata": {
    "collapsed": false
   },
   "outputs": [],
   "source": [
    "svr_rbf_mdae = metrics.median_absolute_error(y_train, svr_rbf_pred)\n",
    "print (\"The median absolute error of the SVR with RBF Kernel model is\", svr_rbf_mdae)\n",
    "print (\"The median absolute percentage error is\", (((svr_rbf_mdae)/ssid_df_median)*100))"
   ]
  },
  {
   "cell_type": "markdown",
   "metadata": {},
   "source": [
    "### 3cii Support Vector Machine Regression with RBF Kernel model - testing - default parameters"
   ]
  },
  {
   "cell_type": "code",
   "execution_count": null,
   "metadata": {
    "collapsed": false
   },
   "outputs": [],
   "source": [
    "svr_rbf_preda = svr_rbf.predict(X_test)\n",
    "svr_rbf_rsqa = metrics.r2_score(y_test, svr_rbf_preda)\n",
    "print (\"The R-squared value of the SVR with RBF Kernel model is\", svr_rbf_rsqa)"
   ]
  },
  {
   "cell_type": "code",
   "execution_count": null,
   "metadata": {
    "collapsed": false
   },
   "outputs": [],
   "source": [
    "svr_rbf_maea = metrics.mean_absolute_error(y_test, svr_rbf_preda)\n",
    "print (\"The mean absolute error of the SVR with RBF Kernel model is\", svr_rbf_maea)\n",
    "print (\"The mean absolute percentage error is\", (((svr_rbf_maea)/ssid_df_mean)*100))"
   ]
  },
  {
   "cell_type": "code",
   "execution_count": null,
   "metadata": {
    "collapsed": false
   },
   "outputs": [],
   "source": [
    "svr_rbf_mdaea = metrics.median_absolute_error(y_test, svr_rbf_preda)\n",
    "print (\"The median absolute error of the SVR with RBF Kernel model is\", svr_rbf_mdaea)\n",
    "print (\"The median absolute percentage error is\", (((svr_rbf_mdaea)/ssid_df_median)*100))"
   ]
  },
  {
   "cell_type": "markdown",
   "metadata": {},
   "source": [
    "### 3di Gradient Boosting Regression model - training - default parameters"
   ]
  },
  {
   "cell_type": "code",
   "execution_count": null,
   "metadata": {
    "collapsed": false
   },
   "outputs": [],
   "source": [
    "gbr = GBR()\n",
    "gbr.fit(X_train, y_train)"
   ]
  },
  {
   "cell_type": "code",
   "execution_count": null,
   "metadata": {
    "collapsed": false
   },
   "outputs": [],
   "source": [
    "indices = np.argsort(gbr.feature_importances_)[::-1]\n",
    "\n",
    "# Print the ordered feature ranking\n",
    "print(\"Ordered feature ranking:\")\n",
    "\n",
    "for f in range(X_train.shape[1]):\n",
    "    feat = indices[f]\n",
    "    print(X_train.columns[feat], \"\\t\", gbr.feature_importances_[indices[f]])"
   ]
  },
  {
   "cell_type": "code",
   "execution_count": null,
   "metadata": {
    "collapsed": false
   },
   "outputs": [],
   "source": [
    "gbr_pred = gbr.predict(X_train)\n",
    "gbr_rsq = metrics.r2_score(y_train, gbr_pred)\n",
    "print (\"The R-squared value of the Gradient Boosting Regression model is\", gbr_rsq)"
   ]
  },
  {
   "cell_type": "code",
   "execution_count": null,
   "metadata": {
    "collapsed": false
   },
   "outputs": [],
   "source": [
    "gbr_mae = metrics.mean_absolute_error(y_train, gbr_pred)\n",
    "print (\"The mean absolute error of the Gradient Boosting Regression model is\", gbr_mae)\n",
    "print (\"The mean absolute percentage error is\", (((gbr_mae)/ssid_df_mean)*100))"
   ]
  },
  {
   "cell_type": "code",
   "execution_count": null,
   "metadata": {
    "collapsed": false
   },
   "outputs": [],
   "source": [
    "gbr_mdae = metrics.median_absolute_error(y_train, gbr_pred)\n",
    "print (\"The median absolute error of the Gradient Boosting Regression model is\", gbr_mdae)\n",
    "print (\"The median absolute percentage error is\", (((gbr_mdae)/ssid_df_median)*100))"
   ]
  },
  {
   "cell_type": "markdown",
   "metadata": {},
   "source": [
    "### 3dii Gradient Boosting Regression model - - testing - default parameters"
   ]
  },
  {
   "cell_type": "code",
   "execution_count": null,
   "metadata": {
    "collapsed": false
   },
   "outputs": [],
   "source": [
    "gbr_preda = gbr.predict(X_test)\n",
    "gbr_rsqa = metrics.r2_score(y_test, gbr_preda)\n",
    "print (\"The R-squared value of the Gradient Boosting Regression model is\", gbr_rsqa)"
   ]
  },
  {
   "cell_type": "code",
   "execution_count": null,
   "metadata": {
    "collapsed": false
   },
   "outputs": [],
   "source": [
    "gbr_maea = metrics.mean_absolute_error(y_test, gbr_preda)\n",
    "print (\"The mean absolute error of the Gradient Boosting Regression model is\", gbr_maea)\n",
    "print (\"The mean absolute percentage error is\", (((gbr_maea)/ssid_df_mean)*100))"
   ]
  },
  {
   "cell_type": "code",
   "execution_count": null,
   "metadata": {
    "collapsed": false
   },
   "outputs": [],
   "source": [
    "gbr_mdaea = metrics.median_absolute_error(y_test, gbr_preda)\n",
    "print (\"The median absolute error of the Gradient Boosting Regression model is\", gbr_mdaea)\n",
    "print (\"The median absolute percentage error is\", (((gbr_mdaea)/ssid_df_median)*100))"
   ]
  },
  {
   "cell_type": "markdown",
   "metadata": {},
   "source": [
    "### 3ei Random Forest Regression model (all default) - training - default parameters"
   ]
  },
  {
   "cell_type": "code",
   "execution_count": null,
   "metadata": {
    "collapsed": false
   },
   "outputs": [],
   "source": [
    "rfr = RFR(n_jobs = cores)\n",
    "rfr.fit(X_train, y_train)"
   ]
  },
  {
   "cell_type": "code",
   "execution_count": null,
   "metadata": {
    "collapsed": false
   },
   "outputs": [],
   "source": [
    "indices = np.argsort(rfr.feature_importances_)[::-1]\n",
    "\n",
    "# Print the ordered feature ranking\n",
    "print(\"Ordered feature ranking:\")\n",
    "\n",
    "for f in range(X_train.shape[1]):\n",
    "    feat = indices[f]\n",
    "    print(X_train.columns[feat], \"\\t\", rfr.feature_importances_[indices[f]])"
   ]
  },
  {
   "cell_type": "code",
   "execution_count": null,
   "metadata": {
    "collapsed": false
   },
   "outputs": [],
   "source": [
    "rfr_pred = rfr.predict(X_train)\n",
    "rfr_rsq = metrics.r2_score(y_train, rfr_pred)\n",
    "print (\"The R-squared value of the Random Forest Regression model is\", rfr_rsq)"
   ]
  },
  {
   "cell_type": "code",
   "execution_count": null,
   "metadata": {
    "collapsed": false
   },
   "outputs": [],
   "source": [
    "rfr_mae = metrics.mean_absolute_error(y_train, rfr_pred)\n",
    "print (\"The mean absolute error of the Random Forest Regression model is\", rfr_mae)\n",
    "print (\"The mean absolute percentage error is\", (((rfr_mae)/ssid_df_mean)*100))"
   ]
  },
  {
   "cell_type": "code",
   "execution_count": null,
   "metadata": {
    "collapsed": false
   },
   "outputs": [],
   "source": [
    "rfr_mdae = metrics.median_absolute_error(y_train, rfr_pred)\n",
    "print (\"The median absolute error of the Random Forest Regression model is\", rfr_mdae)\n",
    "print (\"The median absolute percentage error is\", (((rfr_mdae)/ssid_df_median)*100))"
   ]
  },
  {
   "cell_type": "markdown",
   "metadata": {},
   "source": [
    "### 3eii Random Forest Regression model (all default) - testing - default parameters"
   ]
  },
  {
   "cell_type": "code",
   "execution_count": null,
   "metadata": {
    "collapsed": false
   },
   "outputs": [],
   "source": [
    "rfr_preda = rfr.predict(X_test)\n",
    "rfr_rsqa = metrics.r2_score(y_test, rfr_preda)\n",
    "print (\"The R-squared value of the Random Forest Regression model is\", rfr_rsqa)"
   ]
  },
  {
   "cell_type": "code",
   "execution_count": null,
   "metadata": {
    "collapsed": false
   },
   "outputs": [],
   "source": [
    "rfr_maea = metrics.mean_absolute_error(y_test, rfr_preda)\n",
    "print (\"The mean absolute error of the Random Forest Regression model is\", rfr_maea)\n",
    "print (\"The mean absolute percentage error is\", (((rfr_mae)/ssid_df_mean)*100))"
   ]
  },
  {
   "cell_type": "code",
   "execution_count": null,
   "metadata": {
    "collapsed": false
   },
   "outputs": [],
   "source": [
    "rfr_mdaea = metrics.median_absolute_error(y_test, rfr_preda)\n",
    "print (\"The median absolute error of the Random Forest Regression model is\", rfr_mdaea)\n",
    "print (\"The median absolute percentage error is\", (((rfr_mdaea)/ssid_df_median)*100))"
   ]
  },
  {
   "cell_type": "markdown",
   "metadata": {},
   "source": [
    "## 4 Both Tree models - parameter tuning with RandomizedSearchCV"
   ]
  },
  {
   "cell_type": "markdown",
   "metadata": {},
   "source": [
    "### 4a Gradient Boosted Regression with RandomizedSearchCV (scikit), Kfold 5, 5 iterations"
   ]
  },
  {
   "cell_type": "code",
   "execution_count": null,
   "metadata": {
    "collapsed": false
   },
   "outputs": [],
   "source": [
    "gbr = GBR(loss='huber')\n",
    "\n",
    "param_gbr = {'n_estimators': stats.randint(50, 5000),\n",
    "            'max_depth': stats.randint(4, 9),\n",
    "            'min_samples_leaf': stats.randint(5, 100),\n",
    "            'min_samples_split': stats.randint(200, 1000),\n",
    "            'learning_rate': stats.uniform(0.01, 0.6)}"
   ]
  },
  {
   "cell_type": "code",
   "execution_count": null,
   "metadata": {
    "collapsed": false
   },
   "outputs": [],
   "source": [
    "gbr_rsearch = RSCV(gbr, param_distributions=param_gbr, n_iter=38, cv=5, n_jobs=cores, scoring=make_scorer(metrics.median_absolute_error, greater_is_better=False))\n",
    "gbr_rsearch.fit(X_train, y_train)"
   ]
  },
  {
   "cell_type": "code",
   "execution_count": null,
   "metadata": {
    "collapsed": false
   },
   "outputs": [],
   "source": [
    "print(\"Best parameters set found:\")\n",
    "print(gbr_rsearch.best_params_)"
   ]
  },
  {
   "cell_type": "code",
   "execution_count": null,
   "metadata": {
    "collapsed": false
   },
   "outputs": [],
   "source": [
    "gbr_train_MdAE = abs(gbr_rsearch.best_score_)\n",
    "gbr_train_MdAPE = (gbr_train_MdAE/ssid_df_median)*100\n",
    "\n",
    "print(\"Best MdAE found is\", gbr_train_MdAE)\n",
    "print (\"Best MdAPE found is\", str(round(gbr_train_MdAPE, 3)) + \"%\")"
   ]
  },
  {
   "cell_type": "code",
   "execution_count": null,
   "metadata": {
    "collapsed": false,
    "scrolled": true
   },
   "outputs": [],
   "source": [
    "gbr_rsearch_table = pd.DataFrame(gbr_rsearch.cv_results_)\n",
    "gbr_rsearch_table.sort_values(['rank_test_score'], inplace=True)\n",
    "gbr_rsearch_table = gbr_rsearch_table[['rank_test_score', 'mean_train_score', 'mean_test_score', 'param_n_estimators', 'param_max_depth', 'param_min_samples_leaf', 'param_min_samples_split', 'param_learning_rate', 'mean_fit_time', 'mean_score_time']]\n",
    "gbr_rsearch_table.reset_index(inplace=True)\n",
    "gbr_rsearch_table = gbr_rsearch_table.drop('index', axis=1)\n",
    "\n",
    "print(\"Full ranked results for GBR RandomizedSearchCV:\")\n",
    "gbr_rsearch_table"
   ]
  },
  {
   "cell_type": "code",
   "execution_count": null,
   "metadata": {
    "collapsed": false
   },
   "outputs": [],
   "source": [
    "# Running model on 30% test set\n",
    "\n",
    "gbr_test_pred = gbr_rsearch.best_estimator_.predict(X_test)\n",
    "\n",
    "gbr_test_MdAE = metrics.median_absolute_error(y_test, gbr_test_pred)\n",
    "gbr_test_MdAPE = (gbr_test_MdAE/ssid_df_median)*100\n",
    "\n",
    "print(\"MdAE of best model on the test set is\", gbr_test_MdAE)\n",
    "print (\"MdAPE of best model on the test set is\", str(round(gbr_test_MdAPE, 3)) + \"%\")"
   ]
  },
  {
   "cell_type": "markdown",
   "metadata": {},
   "source": [
    "### 4b Random Forest Regression with RandomizedSearchCV (scikit), Kfold 5, 5 iterations"
   ]
  },
  {
   "cell_type": "code",
   "execution_count": null,
   "metadata": {
    "collapsed": false
   },
   "outputs": [],
   "source": [
    "rfr = RFR()\n",
    "\n",
    "param_rfr = {'n_estimators': stats.randint(50, 5000),\n",
    "            'max_depth': stats.randint(4, 8),\n",
    "            'min_samples_leaf': stats.randint(1, 20),\n",
    "            'min_samples_split': stats.randint(2, 100)}"
   ]
  },
  {
   "cell_type": "code",
   "execution_count": null,
   "metadata": {
    "collapsed": false
   },
   "outputs": [],
   "source": [
    "rfr_rsearch = RSCV(rfr, param_distributions=param_rfr, n_iter=38, cv=5, n_jobs=cores, scoring=make_scorer(metrics.median_absolute_error, greater_is_better=False))\n",
    "rfr_rsearch.fit(X_train, y_train)"
   ]
  },
  {
   "cell_type": "code",
   "execution_count": null,
   "metadata": {
    "collapsed": false
   },
   "outputs": [],
   "source": [
    "print(\"Best parameters set found:\")\n",
    "print(rfr_rsearch.best_params_)"
   ]
  },
  {
   "cell_type": "code",
   "execution_count": null,
   "metadata": {
    "collapsed": false
   },
   "outputs": [],
   "source": [
    "rfr_train_MdAE = abs(rfr_rsearch.best_score_)\n",
    "rfr_train_MdAPE = (rfr_train_MdAE/ssid_df_median)*100\n",
    "\n",
    "print(\"Best MdAE found is\", rfr_train_MdAE)\n",
    "print (\"Best MdAPE found is\", str(round(rfr_train_MdAPE, 3)) + \"%\")"
   ]
  },
  {
   "cell_type": "code",
   "execution_count": null,
   "metadata": {
    "collapsed": false,
    "scrolled": true
   },
   "outputs": [],
   "source": [
    "rfr_rsearch_table = pd.DataFrame(rfr_rsearch.cv_results_)\n",
    "rfr_rsearch_table.sort_values(['rank_test_score'], inplace=True)\n",
    "rfr_rsearch_table = rfr_rsearch_table[['rank_test_score', 'mean_train_score', 'mean_test_score', 'param_n_estimators', 'param_max_depth', 'param_min_samples_leaf', 'param_min_samples_split', 'mean_fit_time', 'mean_score_time']]\n",
    "rfr_rsearch_table.reset_index(inplace=True)\n",
    "rfr_rsearch_table = rfr_rsearch_table.drop('index', axis=1)\n",
    "\n",
    "print(\"Full ranked results for rfr RandomizedSearchCV:\")\n",
    "rfr_rsearch_table"
   ]
  },
  {
   "cell_type": "code",
   "execution_count": null,
   "metadata": {
    "collapsed": false
   },
   "outputs": [],
   "source": [
    "# Running model on 30% test set\n",
    "\n",
    "rfr_test_pred = rfr_rsearch.best_estimator_.predict(X_test)\n",
    "\n",
    "rfr_test_MdAE = metrics.median_absolute_error(y_test, rfr_test_pred)\n",
    "rfr_test_MdAPE = (rfr_test_MdAE/ssid_df_median)*100\n",
    "\n",
    "print(\"MdAE of best model on the test set is\", rfr_test_MdAE)\n",
    "print (\"MdAPE of best model on the test set is\", str(round(rfr_test_MdAPE, 3)) + \"%\")"
   ]
  }
 ],
 "metadata": {
  "kernelspec": {
   "display_name": "Python [conda env:DublinBus]",
   "language": "python",
   "name": "conda-env-DublinBus-py"
  },
  "language_info": {
   "codemirror_mode": {
    "name": "ipython",
    "version": 3
   },
   "file_extension": ".py",
   "mimetype": "text/x-python",
   "name": "python",
   "nbconvert_exporter": "python",
   "pygments_lexer": "ipython3",
   "version": "3.6.1"
  }
 },
 "nbformat": 4,
 "nbformat_minor": 2
}
