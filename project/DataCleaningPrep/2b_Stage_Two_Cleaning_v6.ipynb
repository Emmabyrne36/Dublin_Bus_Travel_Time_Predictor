{
 "cells": [
  {
   "cell_type": "code",
   "execution_count": 1,
   "metadata": {
    "collapsed": true
   },
   "outputs": [],
   "source": [
    "import pandas as pd\n",
    "import numpy as np\n",
    "import matplotlib.pyplot as plt\n",
    "import matplotlib.patches as mpatches\n",
    "import matplotlib.font_manager as fm\n",
    "import matplotlib\n",
    "import timeit\n",
    "import feather\n",
    "%matplotlib inline"
   ]
  },
  {
   "cell_type": "code",
   "execution_count": 2,
   "metadata": {
    "collapsed": true
   },
   "outputs": [],
   "source": [
    "res = pd.read_feather('DBus_data_first_clean.feather')"
   ]
  },
  {
   "cell_type": "code",
   "execution_count": 3,
   "metadata": {
    "collapsed": false
   },
   "outputs": [
    {
     "data": {
      "text/plain": [
       "(70904023, 11)"
      ]
     },
     "execution_count": 3,
     "metadata": {},
     "output_type": "execute_result"
    }
   ],
   "source": [
    "res.shape"
   ]
  },
  {
   "cell_type": "code",
   "execution_count": 4,
   "metadata": {
    "collapsed": true
   },
   "outputs": [],
   "source": [
    "# Attaching leading zeroes to VehicleJourneyIDs and StopIDs of less than 4 digits\n",
    "# code from: https://stackoverflow.com/questions/33243763/pandas-add-leading-0-to-string-values-so-all-values-are-equal-len\n",
    "\n",
    "res.VehicleJourneyID = res.VehicleJourneyID.apply(lambda x: str(int(x)).zfill(4))\n",
    "res.StopID = res.StopID.apply(lambda x: str(int(x)).zfill(4))"
   ]
  },
  {
   "cell_type": "code",
   "execution_count": 5,
   "metadata": {
    "collapsed": false
   },
   "outputs": [
    {
     "data": {
      "text/html": [
       "<div>\n",
       "<style>\n",
       "    .dataframe thead tr:only-child th {\n",
       "        text-align: right;\n",
       "    }\n",
       "\n",
       "    .dataframe thead th {\n",
       "        text-align: left;\n",
       "    }\n",
       "\n",
       "    .dataframe tbody tr th {\n",
       "        vertical-align: top;\n",
       "    }\n",
       "</style>\n",
       "<table border=\"1\" class=\"dataframe\">\n",
       "  <thead>\n",
       "    <tr style=\"text-align: right;\">\n",
       "      <th></th>\n",
       "      <th>Timestamp</th>\n",
       "      <th>JourneyPatternID</th>\n",
       "      <th>TimeFrame</th>\n",
       "      <th>VehicleJourneyID</th>\n",
       "      <th>Lon</th>\n",
       "      <th>Lat</th>\n",
       "      <th>Delay</th>\n",
       "      <th>VehicleID</th>\n",
       "      <th>StopID</th>\n",
       "      <th>AtStop</th>\n",
       "      <th>Day</th>\n",
       "    </tr>\n",
       "  </thead>\n",
       "  <tbody>\n",
       "    <tr>\n",
       "      <th>0</th>\n",
       "      <td>2013-01-31 00:00:01</td>\n",
       "      <td>00131005</td>\n",
       "      <td>2013-01-30</td>\n",
       "      <td>3406</td>\n",
       "      <td>-6.273923</td>\n",
       "      <td>53.343307</td>\n",
       "      <td>-235</td>\n",
       "      <td>33608</td>\n",
       "      <td>1998</td>\n",
       "      <td>False</td>\n",
       "      <td>Wednesday</td>\n",
       "    </tr>\n",
       "    <tr>\n",
       "      <th>1</th>\n",
       "      <td>2013-01-31 00:00:03</td>\n",
       "      <td>00071003</td>\n",
       "      <td>2013-01-30</td>\n",
       "      <td>6069</td>\n",
       "      <td>-6.230700</td>\n",
       "      <td>53.317432</td>\n",
       "      <td>0</td>\n",
       "      <td>43003</td>\n",
       "      <td>0008</td>\n",
       "      <td>True</td>\n",
       "      <td>Wednesday</td>\n",
       "    </tr>\n",
       "    <tr>\n",
       "      <th>2</th>\n",
       "      <td>2013-01-31 00:00:03</td>\n",
       "      <td>00671001</td>\n",
       "      <td>2013-01-30</td>\n",
       "      <td>0905</td>\n",
       "      <td>-6.325533</td>\n",
       "      <td>53.346302</td>\n",
       "      <td>-396</td>\n",
       "      <td>33438</td>\n",
       "      <td>2248</td>\n",
       "      <td>False</td>\n",
       "      <td>Wednesday</td>\n",
       "    </tr>\n",
       "    <tr>\n",
       "      <th>3</th>\n",
       "      <td>2013-01-31 00:00:03</td>\n",
       "      <td>00831001</td>\n",
       "      <td>2013-01-30</td>\n",
       "      <td>5613</td>\n",
       "      <td>-6.284449</td>\n",
       "      <td>53.420197</td>\n",
       "      <td>-490</td>\n",
       "      <td>40012</td>\n",
       "      <td>1552</td>\n",
       "      <td>False</td>\n",
       "      <td>Wednesday</td>\n",
       "    </tr>\n",
       "  </tbody>\n",
       "</table>\n",
       "</div>"
      ],
      "text/plain": [
       "            Timestamp JourneyPatternID  TimeFrame VehicleJourneyID       Lon  \\\n",
       "0 2013-01-31 00:00:01         00131005 2013-01-30             3406 -6.273923   \n",
       "1 2013-01-31 00:00:03         00071003 2013-01-30             6069 -6.230700   \n",
       "2 2013-01-31 00:00:03         00671001 2013-01-30             0905 -6.325533   \n",
       "3 2013-01-31 00:00:03         00831001 2013-01-30             5613 -6.284449   \n",
       "\n",
       "         Lat  Delay VehicleID StopID  AtStop        Day  \n",
       "0  53.343307   -235     33608   1998   False  Wednesday  \n",
       "1  53.317432      0     43003   0008    True  Wednesday  \n",
       "2  53.346302   -396     33438   2248   False  Wednesday  \n",
       "3  53.420197   -490     40012   1552   False  Wednesday  "
      ]
     },
     "execution_count": 5,
     "metadata": {},
     "output_type": "execute_result"
    }
   ],
   "source": [
    "res.head(4)"
   ]
  },
  {
   "cell_type": "markdown",
   "metadata": {},
   "source": [
    "### Part I. Replace StopID that not exist in googletransit data to stop_id that is close to it.\n",
    "Origin: Delete stopID not in that trip_id (same meaning as JourneyPatternID) Revised:0805"
   ]
  },
  {
   "cell_type": "markdown",
   "metadata": {},
   "source": [
    "0805 revised: \n",
    "First, find the possible stop location by calaulate maximum occurance AtStop=1 from gps data.\n",
    "Second, use stopID as key to calculate distance with googletransit data.\n",
    "=> Find three situation: \n",
    "(1) Google transit data exists duplicate stopID with different lon/lat.\n",
    "(2) There are ? number of stopID exist in gps data but not in google transit data.\n",
    "(3) There are 60 number of stopID location is over 200 meters difference from google transit data."
   ]
  },
  {
   "cell_type": "markdown",
   "metadata": {},
   "source": [
    "#### Step 1. Prepare google transit stop data\n",
    "Due to there are duplicate stop short name (last four digits of stop_id) in google transit data. We compare the location to gps data, we found out other than stop_id has 'VIR' string in there should delete. 8250DB00661, 8250DB002561, 8220PB003854, 8220DB007270 also should delete. (The same process should apply in database)"
   ]
  },
  {
   "cell_type": "code",
   "execution_count": 7,
   "metadata": {
    "collapsed": false
   },
   "outputs": [
    {
     "data": {
      "text/html": [
       "<div>\n",
       "<style>\n",
       "    .dataframe thead tr:only-child th {\n",
       "        text-align: right;\n",
       "    }\n",
       "\n",
       "    .dataframe thead th {\n",
       "        text-align: left;\n",
       "    }\n",
       "\n",
       "    .dataframe tbody tr th {\n",
       "        vertical-align: top;\n",
       "    }\n",
       "</style>\n",
       "<table border=\"1\" class=\"dataframe\">\n",
       "  <thead>\n",
       "    <tr style=\"text-align: right;\">\n",
       "      <th></th>\n",
       "      <th>stop_id</th>\n",
       "      <th>stop_name</th>\n",
       "      <th>stop_lat</th>\n",
       "      <th>stop_lon</th>\n",
       "    </tr>\n",
       "  </thead>\n",
       "  <tbody>\n",
       "    <tr>\n",
       "      <th>0</th>\n",
       "      <td>8220DB000002</td>\n",
       "      <td>Parnell Square, Rotunda</td>\n",
       "      <td>53.352244</td>\n",
       "      <td>-6.263693</td>\n",
       "    </tr>\n",
       "    <tr>\n",
       "      <th>1</th>\n",
       "      <td>8220DB000003</td>\n",
       "      <td>Parnell Square, Rotunda</td>\n",
       "      <td>53.352308</td>\n",
       "      <td>-6.263781</td>\n",
       "    </tr>\n",
       "    <tr>\n",
       "      <th>2</th>\n",
       "      <td>8220DB000004</td>\n",
       "      <td>Parnell Square, Rotunda</td>\n",
       "      <td>53.352565</td>\n",
       "      <td>-6.264161</td>\n",
       "    </tr>\n",
       "    <tr>\n",
       "      <th>3</th>\n",
       "      <td>8220DB000006</td>\n",
       "      <td>Parnell Square, Rotunda</td>\n",
       "      <td>53.352740</td>\n",
       "      <td>-6.264439</td>\n",
       "    </tr>\n",
       "    <tr>\n",
       "      <th>4</th>\n",
       "      <td>8220DB000007</td>\n",
       "      <td>Parnell Square, Rotunda</td>\n",
       "      <td>53.352832</td>\n",
       "      <td>-6.264556</td>\n",
       "    </tr>\n",
       "  </tbody>\n",
       "</table>\n",
       "</div>"
      ],
      "text/plain": [
       "        stop_id                stop_name   stop_lat  stop_lon\n",
       "0  8220DB000002  Parnell Square, Rotunda  53.352244 -6.263693\n",
       "1  8220DB000003  Parnell Square, Rotunda  53.352308 -6.263781\n",
       "2  8220DB000004  Parnell Square, Rotunda  53.352565 -6.264161\n",
       "3  8220DB000006  Parnell Square, Rotunda  53.352740 -6.264439\n",
       "4  8220DB000007  Parnell Square, Rotunda  53.352832 -6.264556"
      ]
     },
     "execution_count": 7,
     "metadata": {},
     "output_type": "execute_result"
    }
   ],
   "source": [
    "# First, clean google transit stop location data.\n",
    "stops_2012 = pd.read_csv('stops.txt')\n",
    "stops_2012.head(5)"
   ]
  },
  {
   "cell_type": "code",
   "execution_count": 8,
   "metadata": {
    "collapsed": false
   },
   "outputs": [
    {
     "data": {
      "text/html": [
       "<div>\n",
       "<style>\n",
       "    .dataframe thead tr:only-child th {\n",
       "        text-align: right;\n",
       "    }\n",
       "\n",
       "    .dataframe thead th {\n",
       "        text-align: left;\n",
       "    }\n",
       "\n",
       "    .dataframe tbody tr th {\n",
       "        vertical-align: top;\n",
       "    }\n",
       "</style>\n",
       "<table border=\"1\" class=\"dataframe\">\n",
       "  <thead>\n",
       "    <tr style=\"text-align: right;\">\n",
       "      <th></th>\n",
       "      <th>stop_id</th>\n",
       "      <th>stop_name</th>\n",
       "      <th>stop_lat</th>\n",
       "      <th>stop_lon</th>\n",
       "      <th>StopID</th>\n",
       "    </tr>\n",
       "  </thead>\n",
       "  <tbody>\n",
       "    <tr>\n",
       "      <th>0</th>\n",
       "      <td>8220DB000002</td>\n",
       "      <td>Parnell Square, Rotunda</td>\n",
       "      <td>53.352244</td>\n",
       "      <td>-6.263693</td>\n",
       "      <td>0002</td>\n",
       "    </tr>\n",
       "    <tr>\n",
       "      <th>1</th>\n",
       "      <td>8220DB000003</td>\n",
       "      <td>Parnell Square, Rotunda</td>\n",
       "      <td>53.352308</td>\n",
       "      <td>-6.263781</td>\n",
       "      <td>0003</td>\n",
       "    </tr>\n",
       "    <tr>\n",
       "      <th>2</th>\n",
       "      <td>8220DB000004</td>\n",
       "      <td>Parnell Square, Rotunda</td>\n",
       "      <td>53.352565</td>\n",
       "      <td>-6.264161</td>\n",
       "      <td>0004</td>\n",
       "    </tr>\n",
       "    <tr>\n",
       "      <th>3</th>\n",
       "      <td>8220DB000006</td>\n",
       "      <td>Parnell Square, Rotunda</td>\n",
       "      <td>53.352740</td>\n",
       "      <td>-6.264439</td>\n",
       "      <td>0006</td>\n",
       "    </tr>\n",
       "    <tr>\n",
       "      <th>4</th>\n",
       "      <td>8220DB000007</td>\n",
       "      <td>Parnell Square, Rotunda</td>\n",
       "      <td>53.352832</td>\n",
       "      <td>-6.264556</td>\n",
       "      <td>0007</td>\n",
       "    </tr>\n",
       "  </tbody>\n",
       "</table>\n",
       "</div>"
      ],
      "text/plain": [
       "        stop_id                stop_name   stop_lat  stop_lon StopID\n",
       "0  8220DB000002  Parnell Square, Rotunda  53.352244 -6.263693   0002\n",
       "1  8220DB000003  Parnell Square, Rotunda  53.352308 -6.263781   0003\n",
       "2  8220DB000004  Parnell Square, Rotunda  53.352565 -6.264161   0004\n",
       "3  8220DB000006  Parnell Square, Rotunda  53.352740 -6.264439   0006\n",
       "4  8220DB000007  Parnell Square, Rotunda  53.352832 -6.264556   0007"
      ]
     },
     "execution_count": 8,
     "metadata": {},
     "output_type": "execute_result"
    }
   ],
   "source": [
    "stops_2012 = stops_2012[stops_2012.stop_id.str.find('VIR') == -1]\n",
    "stops_2012['StopID'] = stops_2012['stop_id'].str[-4:]\n",
    "# Revised: \n",
    "# There is possibility of those duplicate shows as other StopID in gpd data, so here is to find out.\n",
    "stops_2012.set_value(index = stops_2012[(stops_2012.stop_id == '8250DB00661')].index, col='StopID', value='0661_1')\n",
    "stops_2012.set_value(index = stops_2012[(stops_2012.stop_id == '8250DB002561')].index, col='StopID', value='2561_1')\n",
    "stops_2012.set_value(index = stops_2012[(stops_2012.stop_id == '8220PB003854')].index, col='StopID', value='3854_1')\n",
    "stops_2012.set_value(index = stops_2012[(stops_2012.stop_id == '8220DB007270')].index, col='StopID', value='7270_1')\n",
    "stops_2012.head(5)"
   ]
  },
  {
   "cell_type": "code",
   "execution_count": 9,
   "metadata": {
    "collapsed": false
   },
   "outputs": [
    {
     "data": {
      "text/html": [
       "<div>\n",
       "<style>\n",
       "    .dataframe thead tr:only-child th {\n",
       "        text-align: right;\n",
       "    }\n",
       "\n",
       "    .dataframe thead th {\n",
       "        text-align: left;\n",
       "    }\n",
       "\n",
       "    .dataframe tbody tr th {\n",
       "        vertical-align: top;\n",
       "    }\n",
       "</style>\n",
       "<table border=\"1\" class=\"dataframe\">\n",
       "  <thead>\n",
       "    <tr style=\"text-align: right;\">\n",
       "      <th></th>\n",
       "      <th>stop_id</th>\n",
       "      <th>stop_name</th>\n",
       "      <th>stop_lat</th>\n",
       "      <th>stop_lon</th>\n",
       "      <th>StopID</th>\n",
       "    </tr>\n",
       "  </thead>\n",
       "  <tbody>\n",
       "  </tbody>\n",
       "</table>\n",
       "</div>"
      ],
      "text/plain": [
       "Empty DataFrame\n",
       "Columns: [stop_id, stop_name, stop_lat, stop_lon, StopID]\n",
       "Index: []"
      ]
     },
     "execution_count": 9,
     "metadata": {},
     "output_type": "execute_result"
    }
   ],
   "source": [
    "# Make sure no duplicates.\n",
    "stops_2012[stops_2012['StopID'].duplicated()]"
   ]
  },
  {
   "cell_type": "markdown",
   "metadata": {},
   "source": [
    "#### Step 2. Find possible position of StopID in gps data"
   ]
  },
  {
   "cell_type": "code",
   "execution_count": 9,
   "metadata": {
    "collapsed": true
   },
   "outputs": [],
   "source": [
    "res_temp = res\n",
    "res_temp[\"JourneyPatternID\"] = res_temp[\"JourneyPatternID\"].astype(\"category\")\n",
    "res_temp = res_temp[res_temp.AtStop == True]"
   ]
  },
  {
   "cell_type": "markdown",
   "metadata": {},
   "source": [
    "* Longtitude"
   ]
  },
  {
   "cell_type": "code",
   "execution_count": 10,
   "metadata": {
    "collapsed": true
   },
   "outputs": [],
   "source": [
    "# First groupby StopID with Lon and found the max count\n",
    "\n",
    "gb = res_temp.groupby(['StopID','Lon'])\n",
    "gbLon = pd.DataFrame(gb['AtStop'].count())\n",
    "gbLon.reset_index(['StopID','Lon'], inplace=True)"
   ]
  },
  {
   "cell_type": "code",
   "execution_count": 11,
   "metadata": {
    "collapsed": false
   },
   "outputs": [
    {
     "data": {
      "text/plain": [
       "(4733, 3)"
      ]
     },
     "execution_count": 11,
     "metadata": {},
     "output_type": "execute_result"
    }
   ],
   "source": [
    "# Find the maximun occurance Lon for each StopID\n",
    "\n",
    "maxCountLon = gbLon[gbLon.groupby(['StopID'])['AtStop'].transform('max') == gbLon['AtStop']]\n",
    "maxCountLon.shape"
   ]
  },
  {
   "cell_type": "markdown",
   "metadata": {},
   "source": [
    "* Latitude"
   ]
  },
  {
   "cell_type": "code",
   "execution_count": 12,
   "metadata": {
    "collapsed": true
   },
   "outputs": [],
   "source": [
    "# First groupby StopID with Lon and found the max count\n",
    "\n",
    "gb = res_temp.groupby(['StopID','Lat'])\n",
    "gbLat = pd.DataFrame(gb['AtStop'].count())\n",
    "gbLat.reset_index(['StopID','Lat'], inplace=True)"
   ]
  },
  {
   "cell_type": "code",
   "execution_count": 13,
   "metadata": {
    "collapsed": false
   },
   "outputs": [
    {
     "data": {
      "text/plain": [
       "(4735, 3)"
      ]
     },
     "execution_count": 13,
     "metadata": {},
     "output_type": "execute_result"
    }
   ],
   "source": [
    "# Find the maximun occurance Lat for each StopID\n",
    "\n",
    "maxCountLat = gbLat[gbLat.groupby(['StopID'])['AtStop'].transform('max') == gbLat['AtStop']]\n",
    "maxCountLat.shape"
   ]
  },
  {
   "cell_type": "markdown",
   "metadata": {},
   "source": [
    "* Lon/Lat"
   ]
  },
  {
   "cell_type": "code",
   "execution_count": 14,
   "metadata": {
    "collapsed": false
   },
   "outputs": [
    {
     "data": {
      "text/plain": [
       "(4925, 5)"
      ]
     },
     "execution_count": 14,
     "metadata": {},
     "output_type": "execute_result"
    }
   ],
   "source": [
    "# Merge by StopID\n",
    "\n",
    "maxCountLonLat = pd.merge(maxCountLon, maxCountLat, on=['StopID'], how='inner')\n",
    "maxCountLonLat.shape"
   ]
  },
  {
   "cell_type": "code",
   "execution_count": 15,
   "metadata": {
    "collapsed": true
   },
   "outputs": [],
   "source": [
    "# There are 8 StopID cannot find the obvious Co-ordinate, use average\n",
    "\n",
    "gb = maxCountLonLat.groupby('StopID')\n",
    "gb = gb.mean()\n",
    "gb.reset_index(['StopID'], inplace=True)\n",
    "\n",
    "# Don't know why there are some StopID not exist appear in the index\n",
    "\n",
    "gb.dropna(axis=0, how='any', inplace=True)\n",
    "gb.drop(['AtStop_x', 'AtStop_y'], axis=1, inplace=True)\n",
    "gps_est_lat_lon = gb.loc[:, ['StopID', 'Lat', 'Lon']]"
   ]
  },
  {
   "cell_type": "code",
   "execution_count": 16,
   "metadata": {
    "collapsed": false
   },
   "outputs": [
    {
     "data": {
      "text/html": [
       "<div>\n",
       "<style>\n",
       "    .dataframe thead tr:only-child th {\n",
       "        text-align: right;\n",
       "    }\n",
       "\n",
       "    .dataframe thead th {\n",
       "        text-align: left;\n",
       "    }\n",
       "\n",
       "    .dataframe tbody tr th {\n",
       "        vertical-align: top;\n",
       "    }\n",
       "</style>\n",
       "<table border=\"1\" class=\"dataframe\">\n",
       "  <thead>\n",
       "    <tr style=\"text-align: right;\">\n",
       "      <th></th>\n",
       "      <th>StopID</th>\n",
       "      <th>Lat</th>\n",
       "      <th>Lon</th>\n",
       "    </tr>\n",
       "  </thead>\n",
       "  <tbody>\n",
       "    <tr>\n",
       "      <th>0</th>\n",
       "      <td>0010</td>\n",
       "      <td>53.353436</td>\n",
       "      <td>-6.265345</td>\n",
       "    </tr>\n",
       "    <tr>\n",
       "      <th>1</th>\n",
       "      <td>0100</td>\n",
       "      <td>53.303043</td>\n",
       "      <td>-6.322296</td>\n",
       "    </tr>\n",
       "    <tr>\n",
       "      <th>2</th>\n",
       "      <td>1000</td>\n",
       "      <td>53.390884</td>\n",
       "      <td>-6.201829</td>\n",
       "    </tr>\n",
       "  </tbody>\n",
       "</table>\n",
       "</div>"
      ],
      "text/plain": [
       "  StopID        Lat       Lon\n",
       "0   0010  53.353436 -6.265345\n",
       "1   0100  53.303043 -6.322296\n",
       "2   1000  53.390884 -6.201829"
      ]
     },
     "execution_count": 16,
     "metadata": {},
     "output_type": "execute_result"
    }
   ],
   "source": [
    "# Now we have the possible lat/lon of each StopID\n",
    "gps_est_lat_lon.head(3)"
   ]
  },
  {
   "cell_type": "markdown",
   "metadata": {},
   "source": [
    "#### Step 3. For those StopID exist in gps data not in googletransit data, find the replacement StopID"
   ]
  },
  {
   "cell_type": "code",
   "execution_count": 17,
   "metadata": {
    "collapsed": false
   },
   "outputs": [
    {
     "data": {
      "text/html": [
       "<div>\n",
       "<style>\n",
       "    .dataframe thead tr:only-child th {\n",
       "        text-align: right;\n",
       "    }\n",
       "\n",
       "    .dataframe thead th {\n",
       "        text-align: left;\n",
       "    }\n",
       "\n",
       "    .dataframe tbody tr th {\n",
       "        vertical-align: top;\n",
       "    }\n",
       "</style>\n",
       "<table border=\"1\" class=\"dataframe\">\n",
       "  <thead>\n",
       "    <tr style=\"text-align: right;\">\n",
       "      <th></th>\n",
       "      <th>StopID</th>\n",
       "      <th>Lat</th>\n",
       "      <th>Lon</th>\n",
       "      <th>stop_id</th>\n",
       "      <th>stop_name</th>\n",
       "      <th>stop_lat</th>\n",
       "      <th>stop_lon</th>\n",
       "    </tr>\n",
       "  </thead>\n",
       "  <tbody>\n",
       "    <tr>\n",
       "      <th>0</th>\n",
       "      <td>0010</td>\n",
       "      <td>53.353436</td>\n",
       "      <td>-6.265345</td>\n",
       "      <td>8220DB000010</td>\n",
       "      <td>Parnell Square, Rotunda</td>\n",
       "      <td>53.353383</td>\n",
       "      <td>-6.265389</td>\n",
       "    </tr>\n",
       "    <tr>\n",
       "      <th>1</th>\n",
       "      <td>0100</td>\n",
       "      <td>53.303043</td>\n",
       "      <td>-6.322296</td>\n",
       "      <td>8230DB000100</td>\n",
       "      <td>Wellington Lane, Templeogue</td>\n",
       "      <td>53.303083</td>\n",
       "      <td>-6.322361</td>\n",
       "    </tr>\n",
       "  </tbody>\n",
       "</table>\n",
       "</div>"
      ],
      "text/plain": [
       "  StopID        Lat       Lon       stop_id                    stop_name  \\\n",
       "0   0010  53.353436 -6.265345  8220DB000010      Parnell Square, Rotunda   \n",
       "1   0100  53.303043 -6.322296  8230DB000100  Wellington Lane, Templeogue   \n",
       "\n",
       "    stop_lat  stop_lon  \n",
       "0  53.353383 -6.265389  \n",
       "1  53.303083 -6.322361  "
      ]
     },
     "execution_count": 17,
     "metadata": {},
     "output_type": "execute_result"
    }
   ],
   "source": [
    "# Merge google_transit data with possible lat/lon of gps data\n",
    "compare_google12_gpsest = pd.merge(gps_est_lat_lon, stops_2012, on='StopID', how='outer')\n",
    "compare_google12_gpsest.head(2)"
   ]
  },
  {
   "cell_type": "code",
   "execution_count": 18,
   "metadata": {
    "collapsed": false
   },
   "outputs": [
    {
     "name": "stderr",
     "output_type": "stream",
     "text": [
      "/Users/EmmaChang/anaconda/lib/python3.6/site-packages/ipykernel_launcher.py:3: SettingWithCopyWarning: \n",
      "A value is trying to be set on a copy of a slice from a DataFrame\n",
      "\n",
      "See the caveats in the documentation: http://pandas.pydata.org/pandas-docs/stable/indexing.html#indexing-view-versus-copy\n",
      "  This is separate from the ipykernel package so we can avoid doing imports until\n"
     ]
    },
    {
     "data": {
      "text/html": [
       "<div>\n",
       "<style>\n",
       "    .dataframe thead tr:only-child th {\n",
       "        text-align: right;\n",
       "    }\n",
       "\n",
       "    .dataframe thead th {\n",
       "        text-align: left;\n",
       "    }\n",
       "\n",
       "    .dataframe tbody tr th {\n",
       "        vertical-align: top;\n",
       "    }\n",
       "</style>\n",
       "<table border=\"1\" class=\"dataframe\">\n",
       "  <thead>\n",
       "    <tr style=\"text-align: right;\">\n",
       "      <th></th>\n",
       "      <th>StopID</th>\n",
       "      <th>Lat</th>\n",
       "      <th>Lon</th>\n",
       "    </tr>\n",
       "  </thead>\n",
       "  <tbody>\n",
       "    <tr>\n",
       "      <th>2337</th>\n",
       "      <td>3581</td>\n",
       "      <td>53.446697</td>\n",
       "      <td>-6.171781</td>\n",
       "    </tr>\n",
       "    <tr>\n",
       "      <th>2338</th>\n",
       "      <td>3582</td>\n",
       "      <td>53.448593</td>\n",
       "      <td>-6.167941</td>\n",
       "    </tr>\n",
       "    <tr>\n",
       "      <th>2392</th>\n",
       "      <td>3637</td>\n",
       "      <td>53.448624</td>\n",
       "      <td>-6.167745</td>\n",
       "    </tr>\n",
       "  </tbody>\n",
       "</table>\n",
       "</div>"
      ],
      "text/plain": [
       "     StopID        Lat       Lon\n",
       "2337   3581  53.446697 -6.171781\n",
       "2338   3582  53.448593 -6.167941\n",
       "2392   3637  53.448624 -6.167745"
      ]
     },
     "execution_count": 18,
     "metadata": {},
     "output_type": "execute_result"
    }
   ],
   "source": [
    "# Find StopID exist in gps data not in google transit data\n",
    "not_in_google12 = compare_google12_gpsest[compare_google12_gpsest.stop_name.isnull()]\n",
    "not_in_google12.drop(['stop_id', 'stop_name', 'stop_lat', 'stop_lon'], axis=1, inplace=True)\n",
    "not_in_google12.head(3)"
   ]
  },
  {
   "cell_type": "code",
   "execution_count": 19,
   "metadata": {
    "collapsed": false
   },
   "outputs": [
    {
     "name": "stderr",
     "output_type": "stream",
     "text": [
      "/Users/EmmaChang/anaconda/lib/python3.6/site-packages/ipykernel_launcher.py:4: SettingWithCopyWarning: \n",
      "A value is trying to be set on a copy of a slice from a DataFrame.\n",
      "Try using .loc[row_indexer,col_indexer] = value instead\n",
      "\n",
      "See the caveats in the documentation: http://pandas.pydata.org/pandas-docs/stable/indexing.html#indexing-view-versus-copy\n",
      "  after removing the cwd from sys.path.\n"
     ]
    },
    {
     "data": {
      "text/html": [
       "<div>\n",
       "<style>\n",
       "    .dataframe thead tr:only-child th {\n",
       "        text-align: right;\n",
       "    }\n",
       "\n",
       "    .dataframe thead th {\n",
       "        text-align: left;\n",
       "    }\n",
       "\n",
       "    .dataframe tbody tr th {\n",
       "        vertical-align: top;\n",
       "    }\n",
       "</style>\n",
       "<table border=\"1\" class=\"dataframe\">\n",
       "  <thead>\n",
       "    <tr style=\"text-align: right;\">\n",
       "      <th></th>\n",
       "      <th>stop_id</th>\n",
       "      <th>stop_name</th>\n",
       "      <th>stop_lat</th>\n",
       "      <th>stop_lon</th>\n",
       "      <th>StopID_google</th>\n",
       "      <th>merge_id</th>\n",
       "      <th>StopID_gps</th>\n",
       "      <th>Lat</th>\n",
       "      <th>Lon</th>\n",
       "    </tr>\n",
       "  </thead>\n",
       "  <tbody>\n",
       "    <tr>\n",
       "      <th>0</th>\n",
       "      <td>8220DB000002</td>\n",
       "      <td>Parnell Square, Rotunda</td>\n",
       "      <td>53.352244</td>\n",
       "      <td>-6.263693</td>\n",
       "      <td>0002</td>\n",
       "      <td>1</td>\n",
       "      <td>3581</td>\n",
       "      <td>53.446697</td>\n",
       "      <td>-6.171781</td>\n",
       "    </tr>\n",
       "    <tr>\n",
       "      <th>1</th>\n",
       "      <td>8220DB000002</td>\n",
       "      <td>Parnell Square, Rotunda</td>\n",
       "      <td>53.352244</td>\n",
       "      <td>-6.263693</td>\n",
       "      <td>0002</td>\n",
       "      <td>1</td>\n",
       "      <td>3582</td>\n",
       "      <td>53.448593</td>\n",
       "      <td>-6.167941</td>\n",
       "    </tr>\n",
       "    <tr>\n",
       "      <th>2</th>\n",
       "      <td>8220DB000002</td>\n",
       "      <td>Parnell Square, Rotunda</td>\n",
       "      <td>53.352244</td>\n",
       "      <td>-6.263693</td>\n",
       "      <td>0002</td>\n",
       "      <td>1</td>\n",
       "      <td>3637</td>\n",
       "      <td>53.448624</td>\n",
       "      <td>-6.167745</td>\n",
       "    </tr>\n",
       "  </tbody>\n",
       "</table>\n",
       "</div>"
      ],
      "text/plain": [
       "        stop_id                stop_name   stop_lat  stop_lon StopID_google  \\\n",
       "0  8220DB000002  Parnell Square, Rotunda  53.352244 -6.263693          0002   \n",
       "1  8220DB000002  Parnell Square, Rotunda  53.352244 -6.263693          0002   \n",
       "2  8220DB000002  Parnell Square, Rotunda  53.352244 -6.263693          0002   \n",
       "\n",
       "   merge_id StopID_gps        Lat       Lon  \n",
       "0         1       3581  53.446697 -6.171781  \n",
       "1         1       3582  53.448593 -6.167941  \n",
       "2         1       3637  53.448624 -6.167745  "
      ]
     },
     "execution_count": 19,
     "metadata": {},
     "output_type": "execute_result"
    }
   ],
   "source": [
    "# In order to find the possible replacement here to product the \"not_in_google12\" with \"stops_2012\"\n",
    "stops_2012_temp = stops_2012\n",
    "stops_2012_temp['merge_id'] = np.ones((stops_2012_temp.shape[0],1 ), dtype=np.int16)\n",
    "not_in_google12['merge_id'] = np.ones((not_in_google12.shape[0],1 ), dtype=np.int16)\n",
    "production = pd.merge(stops_2012_temp, not_in_google12, on='merge_id', suffixes=('_google','_gps'))\n",
    "production.head(3)"
   ]
  },
  {
   "cell_type": "code",
   "execution_count": 20,
   "metadata": {
    "collapsed": false
   },
   "outputs": [
    {
     "data": {
      "text/html": [
       "<div>\n",
       "<style>\n",
       "    .dataframe thead tr:only-child th {\n",
       "        text-align: right;\n",
       "    }\n",
       "\n",
       "    .dataframe thead th {\n",
       "        text-align: left;\n",
       "    }\n",
       "\n",
       "    .dataframe tbody tr th {\n",
       "        vertical-align: top;\n",
       "    }\n",
       "</style>\n",
       "<table border=\"1\" class=\"dataframe\">\n",
       "  <thead>\n",
       "    <tr style=\"text-align: right;\">\n",
       "      <th></th>\n",
       "      <th>stop_id</th>\n",
       "      <th>stop_name</th>\n",
       "      <th>stop_lat</th>\n",
       "      <th>stop_lon</th>\n",
       "      <th>StopID_google</th>\n",
       "      <th>merge_id</th>\n",
       "      <th>StopID_gps</th>\n",
       "      <th>Lat</th>\n",
       "      <th>Lon</th>\n",
       "      <th>distance_diff</th>\n",
       "    </tr>\n",
       "  </thead>\n",
       "  <tbody>\n",
       "    <tr>\n",
       "      <th>0</th>\n",
       "      <td>8220DB000002</td>\n",
       "      <td>Parnell Square, Rotunda</td>\n",
       "      <td>53.352244</td>\n",
       "      <td>-6.263693</td>\n",
       "      <td>0002</td>\n",
       "      <td>1</td>\n",
       "      <td>3581</td>\n",
       "      <td>53.446697</td>\n",
       "      <td>-6.171781</td>\n",
       "      <td>12145.871698</td>\n",
       "    </tr>\n",
       "    <tr>\n",
       "      <th>1</th>\n",
       "      <td>8220DB000002</td>\n",
       "      <td>Parnell Square, Rotunda</td>\n",
       "      <td>53.352244</td>\n",
       "      <td>-6.263693</td>\n",
       "      <td>0002</td>\n",
       "      <td>1</td>\n",
       "      <td>3582</td>\n",
       "      <td>53.448593</td>\n",
       "      <td>-6.167941</td>\n",
       "      <td>12456.518848</td>\n",
       "    </tr>\n",
       "  </tbody>\n",
       "</table>\n",
       "</div>"
      ],
      "text/plain": [
       "        stop_id                stop_name   stop_lat  stop_lon StopID_google  \\\n",
       "0  8220DB000002  Parnell Square, Rotunda  53.352244 -6.263693          0002   \n",
       "1  8220DB000002  Parnell Square, Rotunda  53.352244 -6.263693          0002   \n",
       "\n",
       "   merge_id StopID_gps        Lat       Lon  distance_diff  \n",
       "0         1       3581  53.446697 -6.171781   12145.871698  \n",
       "1         1       3582  53.448593 -6.167941   12456.518848  "
      ]
     },
     "execution_count": 20,
     "metadata": {},
     "output_type": "execute_result"
    }
   ],
   "source": [
    "# Here calculate distance between each production.\n",
    "from geopy.distance import great_circle\n",
    "production['distance_diff'] = production.loc[:, ['Lat','Lon','stop_lat','stop_lon']].apply(lambda x: great_circle((x[0],x[1]), (x[2],x[3])).meters, axis=1)\n",
    "production.head(2)"
   ]
  },
  {
   "cell_type": "code",
   "execution_count": 21,
   "metadata": {
    "collapsed": false
   },
   "outputs": [
    {
     "data": {
      "text/html": [
       "<div>\n",
       "<style>\n",
       "    .dataframe thead tr:only-child th {\n",
       "        text-align: right;\n",
       "    }\n",
       "\n",
       "    .dataframe thead th {\n",
       "        text-align: left;\n",
       "    }\n",
       "\n",
       "    .dataframe tbody tr th {\n",
       "        vertical-align: top;\n",
       "    }\n",
       "</style>\n",
       "<table border=\"1\" class=\"dataframe\">\n",
       "  <thead>\n",
       "    <tr style=\"text-align: right;\">\n",
       "      <th></th>\n",
       "      <th>stop_id</th>\n",
       "      <th>stop_name</th>\n",
       "      <th>stop_lat</th>\n",
       "      <th>stop_lon</th>\n",
       "      <th>StopID_google</th>\n",
       "      <th>merge_id</th>\n",
       "      <th>StopID_gps</th>\n",
       "      <th>Lat</th>\n",
       "      <th>Lon</th>\n",
       "      <th>distance_diff</th>\n",
       "    </tr>\n",
       "  </thead>\n",
       "  <tbody>\n",
       "    <tr>\n",
       "      <th>16303</th>\n",
       "      <td>8220DB000339</td>\n",
       "      <td>Burgh Quay, Dublin City South</td>\n",
       "      <td>53.347255</td>\n",
       "      <td>-6.256896</td>\n",
       "      <td>0339</td>\n",
       "      <td>1</td>\n",
       "      <td>7543</td>\n",
       "      <td>53.347473</td>\n",
       "      <td>-6.255754</td>\n",
       "      <td>79.634691</td>\n",
       "    </tr>\n",
       "    <tr>\n",
       "      <th>16305</th>\n",
       "      <td>8220DB000339</td>\n",
       "      <td>Burgh Quay, Dublin City South</td>\n",
       "      <td>53.347255</td>\n",
       "      <td>-6.256896</td>\n",
       "      <td>0339</td>\n",
       "      <td>1</td>\n",
       "      <td>7545</td>\n",
       "      <td>53.347420</td>\n",
       "      <td>-6.256560</td>\n",
       "      <td>28.881757</td>\n",
       "    </tr>\n",
       "  </tbody>\n",
       "</table>\n",
       "</div>"
      ],
      "text/plain": [
       "            stop_id                      stop_name   stop_lat  stop_lon  \\\n",
       "16303  8220DB000339  Burgh Quay, Dublin City South  53.347255 -6.256896   \n",
       "16305  8220DB000339  Burgh Quay, Dublin City South  53.347255 -6.256896   \n",
       "\n",
       "      StopID_google  merge_id StopID_gps        Lat       Lon  distance_diff  \n",
       "16303          0339         1       7543  53.347473 -6.255754      79.634691  \n",
       "16305          0339         1       7545  53.347420 -6.256560      28.881757  "
      ]
     },
     "execution_count": 21,
     "metadata": {},
     "output_type": "execute_result"
    }
   ],
   "source": [
    "# Use the minimal distance as the possible replacement.\n",
    "production_min = production[production.groupby(['StopID_gps'])['distance_diff'].transform('min') == production['distance_diff']]\n",
    "production_min.head(2)"
   ]
  },
  {
   "cell_type": "markdown",
   "metadata": {},
   "source": [
    "#### Observation\n",
    "From table can find out that, duplicate in googletransit data:\n",
    "* 8220DB007270 -> is 7220 in gps data\n",
    "* 8220PB003854,  8250DB00661 can drop\n",
    "* 8250DB002561 -> is 7550 in gps"
   ]
  },
  {
   "cell_type": "code",
   "execution_count": 22,
   "metadata": {
    "collapsed": true
   },
   "outputs": [],
   "source": [
    "# So we will replace 8220DB007270 to '7220' and 8250DB002561 to '7250' in google transit.\n",
    "# Others replace gps StopID to corresponding StopID_google\n",
    "# Here drop StopID_google == '3854_1' is because duplicate\n",
    "production_min = production_min[~production_min.StopID_google.isin(['3854_1', '7270_1', '2561_1'])]"
   ]
  },
  {
   "cell_type": "markdown",
   "metadata": {},
   "source": [
    "#### Solution\n",
    "(1) Replace those distance < 150 to google transit stop_id\n",
    "(2) Delete those distance > 150"
   ]
  },
  {
   "cell_type": "code",
   "execution_count": 23,
   "metadata": {
    "collapsed": true
   },
   "outputs": [],
   "source": [
    "replace = production_min[production_min.distance_diff < 150].loc[:,['StopID_gps', 'StopID_google']]\n",
    "delete = production_min[production_min.distance_diff >= 150].loc[:,['StopID_gps', 'StopID_google']]"
   ]
  },
  {
   "cell_type": "code",
   "execution_count": 24,
   "metadata": {
    "collapsed": false
   },
   "outputs": [
    {
     "data": {
      "text/html": [
       "<div>\n",
       "<style>\n",
       "    .dataframe thead tr:only-child th {\n",
       "        text-align: right;\n",
       "    }\n",
       "\n",
       "    .dataframe thead th {\n",
       "        text-align: left;\n",
       "    }\n",
       "\n",
       "    .dataframe tbody tr th {\n",
       "        vertical-align: top;\n",
       "    }\n",
       "</style>\n",
       "<table border=\"1\" class=\"dataframe\">\n",
       "  <thead>\n",
       "    <tr style=\"text-align: right;\">\n",
       "      <th></th>\n",
       "      <th>StopID_gps</th>\n",
       "      <th>StopID_google</th>\n",
       "    </tr>\n",
       "  </thead>\n",
       "  <tbody>\n",
       "    <tr>\n",
       "      <th>165708</th>\n",
       "      <td>7482</td>\n",
       "      <td>0323</td>\n",
       "    </tr>\n",
       "    <tr>\n",
       "      <th>165784</th>\n",
       "      <td>7502</td>\n",
       "      <td>0324</td>\n",
       "    </tr>\n",
       "    <tr>\n",
       "      <th>165831</th>\n",
       "      <td>7479</td>\n",
       "      <td>0327</td>\n",
       "    </tr>\n",
       "  </tbody>\n",
       "</table>\n",
       "</div>"
      ],
      "text/plain": [
       "       StopID_gps StopID_google\n",
       "165708       7482          0323\n",
       "165784       7502          0324\n",
       "165831       7479          0327"
      ]
     },
     "execution_count": 24,
     "metadata": {},
     "output_type": "execute_result"
    }
   ],
   "source": [
    "delete.head(3)"
   ]
  },
  {
   "cell_type": "markdown",
   "metadata": {},
   "source": [
    "#### Step 4. Replace and delete"
   ]
  },
  {
   "cell_type": "code",
   "execution_count": 25,
   "metadata": {
    "collapsed": true
   },
   "outputs": [],
   "source": [
    "# Delete\n",
    "temp = pd.merge(res, delete, left_on='StopID', right_on='StopID_gps', how='outer')\n",
    "temp = temp[temp.StopID_gps.isnull()]"
   ]
  },
  {
   "cell_type": "code",
   "execution_count": 26,
   "metadata": {
    "collapsed": true
   },
   "outputs": [],
   "source": [
    "temp.drop(['StopID_gps', 'StopID_google'], axis=1, inplace=True)"
   ]
  },
  {
   "cell_type": "code",
   "execution_count": 27,
   "metadata": {
    "collapsed": true
   },
   "outputs": [],
   "source": [
    "# Replace\n",
    "temp2 = pd.merge(temp, replace, left_on='StopID', right_on='StopID_gps', how='outer')\n",
    "temp2['StopID'] = temp2.loc[:,['StopID_google', 'StopID']].apply(lambda x: x[1] if pd.isnull(x[0]) else x[0], axis=1)"
   ]
  },
  {
   "cell_type": "code",
   "execution_count": 28,
   "metadata": {
    "collapsed": true
   },
   "outputs": [],
   "source": [
    "res = temp2.loc[:,['Timestamp', 'JourneyPatternID', 'TimeFrame', 'VehicleJourneyID', 'Lon', 'Lat', 'VehicleID', 'StopID', 'AtStop', 'Day']]"
   ]
  },
  {
   "cell_type": "markdown",
   "metadata": {},
   "source": [
    "### Part II. Delete stopID should not exist on that JourneyPatternID\n",
    "In this part, we use google transit data as base to delete those StopID should not exist on that JPID. In order to do that, we need to find the possible mapping of JourneyPatternID to shape_id in google transit data. First we will find those JPID is certainly can map to a shape_id. Others that cannot not sure map to certaon trip_id will use the other way to check the which StopID should not exist on that JourneyPatternID."
   ]
  },
  {
   "cell_type": "markdown",
   "metadata": {},
   "source": [
    "#### Step 1. Prepare data to compare\n",
    "First, find the stop_id of each trip_id in GTFS data and the StopID of the JourneyPatternID."
   ]
  },
  {
   "cell_type": "markdown",
   "metadata": {},
   "source": [
    "#### 1. GTFS"
   ]
  },
  {
   "cell_type": "code",
   "execution_count": 29,
   "metadata": {
    "collapsed": true
   },
   "outputs": [],
   "source": [
    "# Read in stop_times.csv and trips.csv\n",
    "stop_times_2012 = pd.read_csv('stop_times.csv')\n",
    "trips_2012 = pd.read_csv('trips.csv')\n",
    "\n",
    "# Merge by trip_id\n",
    "# trip_id here has the same meaning of JourneyPatternID\n",
    "merge = pd.merge(stop_times_2012, trips_2012, on='trip_id', how='outer')\n",
    "\n",
    "# Keep only necessary columns\n",
    "merge.drop(['arrival_time','departure_time','pickup_type','drop_off_type','service_id','shape_dist_traveled'], axis=1, inplace=True)"
   ]
  },
  {
   "cell_type": "code",
   "execution_count": 30,
   "metadata": {
    "collapsed": true
   },
   "outputs": [],
   "source": [
    "# Seporate trip_id to route, stop_id to StopID\n",
    "# Route\n",
    "merge['route_short'] = merge['trip_id'].apply(lambda x: x[x.index('-')+1:])\n",
    "merge['route_short'] = merge['route_short'].apply(lambda x: x[: x.index('-')])\n",
    "merge['route_short'] = merge['route_short'].apply(lambda x: str(x).zfill(4))\n",
    "\n",
    "# StopID\n",
    "merge['StopID'] = merge['stop_id'].apply(lambda x: x[-4:])"
   ]
  },
  {
   "cell_type": "code",
   "execution_count": 31,
   "metadata": {
    "collapsed": true
   },
   "outputs": [],
   "source": [
    "# Find StopID and the sequence of that shape_id\n",
    "gb = merge.groupby(['shape_id', 'route_short', 'direction_id','stop_sequence', 'StopID'])\n",
    "gbc = gb.count()\n",
    "gbc.reset_index(['shape_id', 'route_short', 'direction_id','stop_sequence', 'StopID'], inplace=True)\n",
    "transit_shapeID_stopID = gbc.drop(['trip_id','stop_id','route_id','trip_headsign'], axis=1)"
   ]
  },
  {
   "cell_type": "code",
   "execution_count": 32,
   "metadata": {
    "collapsed": false,
    "scrolled": true
   },
   "outputs": [
    {
     "data": {
      "text/html": [
       "<div>\n",
       "<style>\n",
       "    .dataframe thead tr:only-child th {\n",
       "        text-align: right;\n",
       "    }\n",
       "\n",
       "    .dataframe thead th {\n",
       "        text-align: left;\n",
       "    }\n",
       "\n",
       "    .dataframe tbody tr th {\n",
       "        vertical-align: top;\n",
       "    }\n",
       "</style>\n",
       "<table border=\"1\" class=\"dataframe\">\n",
       "  <thead>\n",
       "    <tr style=\"text-align: right;\">\n",
       "      <th></th>\n",
       "      <th>shape_id</th>\n",
       "      <th>route_short</th>\n",
       "      <th>direction_id</th>\n",
       "      <th>stop_sequence</th>\n",
       "      <th>StopID</th>\n",
       "    </tr>\n",
       "  </thead>\n",
       "  <tbody>\n",
       "    <tr>\n",
       "      <th>0</th>\n",
       "      <td>0-1-y12-1.1.O</td>\n",
       "      <td>0001</td>\n",
       "      <td>0</td>\n",
       "      <td>1</td>\n",
       "      <td>0226</td>\n",
       "    </tr>\n",
       "    <tr>\n",
       "      <th>1</th>\n",
       "      <td>0-1-y12-1.1.O</td>\n",
       "      <td>0001</td>\n",
       "      <td>0</td>\n",
       "      <td>2</td>\n",
       "      <td>0228</td>\n",
       "    </tr>\n",
       "    <tr>\n",
       "      <th>2</th>\n",
       "      <td>0-1-y12-1.1.O</td>\n",
       "      <td>0001</td>\n",
       "      <td>0</td>\n",
       "      <td>3</td>\n",
       "      <td>0229</td>\n",
       "    </tr>\n",
       "    <tr>\n",
       "      <th>3</th>\n",
       "      <td>0-1-y12-1.1.O</td>\n",
       "      <td>0001</td>\n",
       "      <td>0</td>\n",
       "      <td>4</td>\n",
       "      <td>0227</td>\n",
       "    </tr>\n",
       "    <tr>\n",
       "      <th>4</th>\n",
       "      <td>0-1-y12-1.1.O</td>\n",
       "      <td>0001</td>\n",
       "      <td>0</td>\n",
       "      <td>5</td>\n",
       "      <td>0230</td>\n",
       "    </tr>\n",
       "  </tbody>\n",
       "</table>\n",
       "</div>"
      ],
      "text/plain": [
       "        shape_id route_short  direction_id  stop_sequence StopID\n",
       "0  0-1-y12-1.1.O        0001             0              1   0226\n",
       "1  0-1-y12-1.1.O        0001             0              2   0228\n",
       "2  0-1-y12-1.1.O        0001             0              3   0229\n",
       "3  0-1-y12-1.1.O        0001             0              4   0227\n",
       "4  0-1-y12-1.1.O        0001             0              5   0230"
      ]
     },
     "execution_count": 32,
     "metadata": {},
     "output_type": "execute_result"
    }
   ],
   "source": [
    "# Now we have shape_id to its corresponding StopID and sequence\n",
    "transit_shapeID_stopID.head(5)"
   ]
  },
  {
   "cell_type": "markdown",
   "metadata": {},
   "source": [
    "#### 2. JourneyPatternID to its possible StopID"
   ]
  },
  {
   "cell_type": "code",
   "execution_count": 33,
   "metadata": {
    "collapsed": true
   },
   "outputs": [],
   "source": [
    "# Get JourneyPatternID and its StopID\n",
    "temp = res[res.AtStop == True]\n",
    "gb = temp.groupby(['JourneyPatternID', 'StopID'])\n",
    "gc = gb.count()"
   ]
  },
  {
   "cell_type": "code",
   "execution_count": 34,
   "metadata": {
    "collapsed": true
   },
   "outputs": [],
   "source": [
    "# Clean up\n",
    "gbc = gc[~gc.Timestamp.isnull()] # Doing this here is cause the feather will include all column, so clean up a little here\n",
    "gbc.reset_index(['JourneyPatternID', 'StopID'], inplace=True)\n",
    "gps_JPID_StopID = gbc.loc[:,['JourneyPatternID', 'StopID', 'AtStop']]\n",
    "gps_JPID_StopID = gps_JPID_StopID.rename(columns = {'AtStop':'Count'})"
   ]
  },
  {
   "cell_type": "code",
   "execution_count": 35,
   "metadata": {
    "collapsed": false,
    "scrolled": true
   },
   "outputs": [
    {
     "data": {
      "text/html": [
       "<div>\n",
       "<style>\n",
       "    .dataframe thead tr:only-child th {\n",
       "        text-align: right;\n",
       "    }\n",
       "\n",
       "    .dataframe thead th {\n",
       "        text-align: left;\n",
       "    }\n",
       "\n",
       "    .dataframe tbody tr th {\n",
       "        vertical-align: top;\n",
       "    }\n",
       "</style>\n",
       "<table border=\"1\" class=\"dataframe\">\n",
       "  <thead>\n",
       "    <tr style=\"text-align: right;\">\n",
       "      <th></th>\n",
       "      <th>JourneyPatternID</th>\n",
       "      <th>StopID</th>\n",
       "      <th>Count</th>\n",
       "      <th>route_short</th>\n",
       "      <th>Direction</th>\n",
       "    </tr>\n",
       "  </thead>\n",
       "  <tbody>\n",
       "    <tr>\n",
       "      <th>0</th>\n",
       "      <td>00010001</td>\n",
       "      <td>0044</td>\n",
       "      <td>799.0</td>\n",
       "      <td>0001</td>\n",
       "      <td>0001</td>\n",
       "    </tr>\n",
       "    <tr>\n",
       "      <th>1</th>\n",
       "      <td>00010001</td>\n",
       "      <td>0045</td>\n",
       "      <td>1398.0</td>\n",
       "      <td>0001</td>\n",
       "      <td>0001</td>\n",
       "    </tr>\n",
       "    <tr>\n",
       "      <th>2</th>\n",
       "      <td>00010001</td>\n",
       "      <td>0046</td>\n",
       "      <td>1092.0</td>\n",
       "      <td>0001</td>\n",
       "      <td>0001</td>\n",
       "    </tr>\n",
       "    <tr>\n",
       "      <th>3</th>\n",
       "      <td>00010001</td>\n",
       "      <td>0047</td>\n",
       "      <td>1010.0</td>\n",
       "      <td>0001</td>\n",
       "      <td>0001</td>\n",
       "    </tr>\n",
       "    <tr>\n",
       "      <th>4</th>\n",
       "      <td>00010001</td>\n",
       "      <td>0048</td>\n",
       "      <td>1005.0</td>\n",
       "      <td>0001</td>\n",
       "      <td>0001</td>\n",
       "    </tr>\n",
       "  </tbody>\n",
       "</table>\n",
       "</div>"
      ],
      "text/plain": [
       "  JourneyPatternID StopID   Count route_short Direction\n",
       "0         00010001   0044   799.0        0001      0001\n",
       "1         00010001   0045  1398.0        0001      0001\n",
       "2         00010001   0046  1092.0        0001      0001\n",
       "3         00010001   0047  1010.0        0001      0001\n",
       "4         00010001   0048  1005.0        0001      0001"
      ]
     },
     "execution_count": 35,
     "metadata": {},
     "output_type": "execute_result"
    }
   ],
   "source": [
    "# Separate JourneyPatternID to route and direction\n",
    "gps_JPID_StopID['route_short'] = gps_JPID_StopID['JourneyPatternID'].str[:4]\n",
    "gps_JPID_StopID['Direction'] = gps_JPID_StopID['JourneyPatternID'].str[4:]\n",
    "\n",
    "\n",
    "# Now we have JourneyPatternID to its possible StopID\n",
    "gps_JPID_StopID.head(5)"
   ]
  },
  {
   "cell_type": "markdown",
   "metadata": {},
   "source": [
    "0720 add\n",
    "#### Step 2. Check if the number of trip_id is match with JourneyPatternID\n",
    "In this section, we try to find out if the number of trip_id under each route in googletransit2012 is the same number of JourneyPatternID in gps data. For example, for route 007B has trip_id \"0-7B-y12-1.176.O\" and \"0-7B-y12-1.177.I\"; JourneyPatternID \"007B0001\" and \"007B1001\". So we know at least there is one-to-one mapping. Other scenario see document \"compare_route_googletransit_vs_gps.xlsx\""
   ]
  },
  {
   "cell_type": "code",
   "execution_count": 36,
   "metadata": {
    "collapsed": false,
    "scrolled": true
   },
   "outputs": [
    {
     "data": {
      "text/html": [
       "<div>\n",
       "<style>\n",
       "    .dataframe thead tr:only-child th {\n",
       "        text-align: right;\n",
       "    }\n",
       "\n",
       "    .dataframe thead th {\n",
       "        text-align: left;\n",
       "    }\n",
       "\n",
       "    .dataframe tbody tr th {\n",
       "        vertical-align: top;\n",
       "    }\n",
       "</style>\n",
       "<table border=\"1\" class=\"dataframe\">\n",
       "  <thead>\n",
       "    <tr style=\"text-align: right;\">\n",
       "      <th></th>\n",
       "      <th>route_short</th>\n",
       "      <th>shape_id</th>\n",
       "    </tr>\n",
       "  </thead>\n",
       "  <tbody>\n",
       "    <tr>\n",
       "      <th>0</th>\n",
       "      <td>0001</td>\n",
       "      <td>0-1-y12-1.1.O</td>\n",
       "    </tr>\n",
       "    <tr>\n",
       "      <th>1</th>\n",
       "      <td>0001</td>\n",
       "      <td>0-1-y12-1.2.O</td>\n",
       "    </tr>\n",
       "    <tr>\n",
       "      <th>2</th>\n",
       "      <td>0001</td>\n",
       "      <td>0-1-y12-1.3.O</td>\n",
       "    </tr>\n",
       "    <tr>\n",
       "      <th>3</th>\n",
       "      <td>0001</td>\n",
       "      <td>0-1-y12-1.4.I</td>\n",
       "    </tr>\n",
       "    <tr>\n",
       "      <th>4</th>\n",
       "      <td>0001</td>\n",
       "      <td>0-1-y12-1.5.I</td>\n",
       "    </tr>\n",
       "  </tbody>\n",
       "</table>\n",
       "</div>"
      ],
      "text/plain": [
       "  route_short       shape_id\n",
       "0        0001  0-1-y12-1.1.O\n",
       "1        0001  0-1-y12-1.2.O\n",
       "2        0001  0-1-y12-1.3.O\n",
       "3        0001  0-1-y12-1.4.I\n",
       "4        0001  0-1-y12-1.5.I"
      ]
     },
     "execution_count": 36,
     "metadata": {},
     "output_type": "execute_result"
    }
   ],
   "source": [
    "gb_tss = transit_shapeID_stopID.groupby(['route_short','shape_id'])\n",
    "gb_tss_c = gb_tss.count()\n",
    "gb_tss_c = gb_tss_c.reset_index(['route_short','shape_id'])\n",
    "gb_tss_c.drop(['direction_id', 'stop_sequence', 'StopID'], axis=1, inplace=True)\n",
    "gb_tss_c.head(5)"
   ]
  },
  {
   "cell_type": "code",
   "execution_count": 37,
   "metadata": {
    "collapsed": false,
    "scrolled": true
   },
   "outputs": [
    {
     "data": {
      "text/html": [
       "<div>\n",
       "<style>\n",
       "    .dataframe thead tr:only-child th {\n",
       "        text-align: right;\n",
       "    }\n",
       "\n",
       "    .dataframe thead th {\n",
       "        text-align: left;\n",
       "    }\n",
       "\n",
       "    .dataframe tbody tr th {\n",
       "        vertical-align: top;\n",
       "    }\n",
       "</style>\n",
       "<table border=\"1\" class=\"dataframe\">\n",
       "  <thead>\n",
       "    <tr style=\"text-align: right;\">\n",
       "      <th></th>\n",
       "      <th>route_short</th>\n",
       "      <th>JourneyPatternID</th>\n",
       "    </tr>\n",
       "  </thead>\n",
       "  <tbody>\n",
       "    <tr>\n",
       "      <th>0</th>\n",
       "      <td>0001</td>\n",
       "      <td>00010001</td>\n",
       "    </tr>\n",
       "    <tr>\n",
       "      <th>1</th>\n",
       "      <td>0001</td>\n",
       "      <td>00010002</td>\n",
       "    </tr>\n",
       "    <tr>\n",
       "      <th>2</th>\n",
       "      <td>0001</td>\n",
       "      <td>00010003</td>\n",
       "    </tr>\n",
       "    <tr>\n",
       "      <th>3</th>\n",
       "      <td>0001</td>\n",
       "      <td>00011001</td>\n",
       "    </tr>\n",
       "    <tr>\n",
       "      <th>4</th>\n",
       "      <td>0001</td>\n",
       "      <td>00011002</td>\n",
       "    </tr>\n",
       "  </tbody>\n",
       "</table>\n",
       "</div>"
      ],
      "text/plain": [
       "  route_short JourneyPatternID\n",
       "0        0001         00010001\n",
       "1        0001         00010002\n",
       "2        0001         00010003\n",
       "3        0001         00011001\n",
       "4        0001         00011002"
      ]
     },
     "execution_count": 37,
     "metadata": {},
     "output_type": "execute_result"
    }
   ],
   "source": [
    "gb_gjs = gps_JPID_StopID.groupby(['route_short','JourneyPatternID'])\n",
    "gb_gjs_c = gb_gjs.count()\n",
    "gb_gjs_c = gb_gjs_c.reset_index(['route_short','JourneyPatternID'])\n",
    "gb_gjs_c.drop(['StopID', 'Count', 'Direction'], axis=1, inplace=True)\n",
    "gb_gjs_c.head(5)"
   ]
  },
  {
   "cell_type": "code",
   "execution_count": 38,
   "metadata": {
    "collapsed": true
   },
   "outputs": [],
   "source": [
    "# Route exist both in GPS and google transit\n",
    "inter = set(gb_tss_c.route_short.unique()) & set(gb_gjs_c.route_short.unique())\n",
    "\n",
    "tss_l = []\n",
    "gjs_l = []\n",
    "\n",
    "for r in inter:\n",
    "    tss_l.append(gb_tss_c[gb_tss_c.route_short == r])\n",
    "    gjs_l.append(gb_gjs_c[gb_gjs_c.route_short == r])\n",
    "\n",
    "#     \n",
    "tss_l[0] = tss_l[0].reset_index()\n",
    "gjs_l[0] = gjs_l[0].reset_index()\n",
    "df = pd.concat([tss_l[0], gjs_l[0]], axis=1)\n",
    "\n",
    "\n",
    "for i in range(1, len(tss_l)):\n",
    "    tss_l[i] = tss_l[i].reset_index()\n",
    "    gjs_l[i] = gjs_l[i].reset_index()\n",
    "    temp = pd.concat([tss_l[i], gjs_l[i]], axis=1)\n",
    "    df = pd.concat([df, temp], axis=0)\n"
   ]
  },
  {
   "cell_type": "code",
   "execution_count": 39,
   "metadata": {
    "collapsed": true,
    "scrolled": true
   },
   "outputs": [],
   "source": [
    "# Route not in GPS data\n",
    "diff = set(gb_tss_c.route_short.unique()) - inter\n",
    "\n",
    "df2 = pd.DataFrame(columns = df.columns)\n",
    "for r in diff:\n",
    "    x = gb_tss_c[gb_tss_c.route_short == r]\n",
    "    x = x.reset_index()\n",
    "    y = gb_gjs_c[gb_gjs_c.route_short == r]\n",
    "    y = y.reset_index()\n",
    "    temp = pd.concat([x, y], axis=1)\n",
    "    df2 = pd.concat([df2, temp], axis=0)\n",
    "\n",
    "# Route not in google transit data\n",
    "\n",
    "diff = set(gb_gjs_c.route_short.unique()) - inter\n",
    "\n",
    "#df2 = pd.DataFrame(columns = df.columns)\n",
    "for r in diff:\n",
    "    x = gb_tss_c[gb_tss_c.route_short == r]\n",
    "    x = x.reset_index()\n",
    "    y = gb_gjs_c[gb_gjs_c.route_short == r]\n",
    "    y = y.reset_index()\n",
    "    temp = pd.concat([x, y], axis=1)\n",
    "    df2 = pd.concat([df2, temp], axis=0)\n"
   ]
  },
  {
   "cell_type": "code",
   "execution_count": 40,
   "metadata": {
    "collapsed": true
   },
   "outputs": [],
   "source": [
    "out = pd.concat([df,df2], axis=0)\n",
    "out.drop(['index'], axis=1, inplace=True)\n",
    "out.to_csv('compare_route_googletransit_vs_gps.csv', index=False)"
   ]
  },
  {
   "cell_type": "markdown",
   "metadata": {},
   "source": [
    "#### Step3. Mapping the possible trip_id to JourneyPatternID\n",
    "In order to find the possible trip_id to JourneyPatternID, here transfer the sequence of stop_id in each trip_id to set. The same as StopID of each JourneyPatternID.\n",
    "The reason to transfer to a set is because we can use the set intersection method to find out the common StopID between two sets. Example, JourneyPatternID 00010001 has stopID {1,2,3,4}, 00010002 has {1,3,5} in gps data and trip_id 0-1-y12-1.1.O has stop_id {1,2,3,4}. So we can get the length of intersection from 00010001 is 4 and 00010002 is 2. Which means 00010001 is more likely is trip_id 0-1-y12-1.1.O"
   ]
  },
  {
   "cell_type": "markdown",
   "metadata": {},
   "source": [
    "0720 Revised\n",
    "#### 1. Remain only those route is both exist in googletransit and gps data\n",
    "Due to the observation above, we found out there are few route not exist in googletransit. So, we will delete it at this moment."
   ]
  },
  {
   "cell_type": "code",
   "execution_count": 41,
   "metadata": {
    "collapsed": true,
    "scrolled": true
   },
   "outputs": [],
   "source": [
    "# In diff set are those route not exist in googletransit\n",
    "inter = set(gb_tss_c.route_short.unique()) & set(gb_gjs_c.route_short.unique())\n",
    "diff = set(gb_gjs_c.route_short.unique()) - inter\n",
    "\n",
    "res['Route'] = res['JourneyPatternID'].str[:4]\n",
    "res = res[~res.Route.isin(list(diff))]"
   ]
  },
  {
   "cell_type": "markdown",
   "metadata": {},
   "source": [
    "#### 2. Get StopID set of googletransit data"
   ]
  },
  {
   "cell_type": "code",
   "execution_count": 42,
   "metadata": {
    "collapsed": true
   },
   "outputs": [],
   "source": [
    "# Sort by shape_id and stopID\n",
    "transit_shapeID_stopID.sort_values(['shape_id', 'StopID'], inplace=True)\n",
    "\n",
    "# Store each StopID of each shape into set\n",
    "shapeID_stopID_set = {}\n",
    "shape_unique = transit_shapeID_stopID.shape_id.unique()\n",
    "\n",
    "for s in shape_unique:\n",
    "    temp = []\n",
    "    for stopid in transit_shapeID_stopID[transit_shapeID_stopID.shape_id == s]['StopID']:\n",
    "        temp.append(stopid)\n",
    "        temp.sort()\n",
    "    shapeID_stopID_set[s] = [set(temp), temp]"
   ]
  },
  {
   "cell_type": "code",
   "execution_count": 43,
   "metadata": {
    "collapsed": true
   },
   "outputs": [],
   "source": [
    "# Here transform to dataframe so can merge later\n",
    "\n",
    "# Get the shape_id to its stopID list\n",
    "shapeID_stopID_df = pd.DataFrame(shapeID_stopID_set, index=['StopID_set', 'StopID_list'])\n",
    "shapeID_stopID_df = shapeID_stopID_df.T\n",
    "shapeID_stopID_df = shapeID_stopID_df.reset_index()\n",
    "shapeID_stopID_df = shapeID_stopID_df.rename(columns = {'index':'shape_id'})"
   ]
  },
  {
   "cell_type": "code",
   "execution_count": 44,
   "metadata": {
    "collapsed": true
   },
   "outputs": [],
   "source": [
    "# Separate shape_id to route\n",
    "shapeID_stopID_df['route_short'] = shapeID_stopID_df['shape_id'].apply(lambda x: x[x.index('-')+1:][:x[x.index('-')+1:].index('-')])\n",
    "shapeID_stopID_df['route_short'] = shapeID_stopID_df['route_short'].apply(lambda x: str(x).zfill(4))"
   ]
  },
  {
   "cell_type": "code",
   "execution_count": 45,
   "metadata": {
    "collapsed": false,
    "scrolled": true
   },
   "outputs": [
    {
     "data": {
      "text/html": [
       "<div>\n",
       "<style>\n",
       "    .dataframe thead tr:only-child th {\n",
       "        text-align: right;\n",
       "    }\n",
       "\n",
       "    .dataframe thead th {\n",
       "        text-align: left;\n",
       "    }\n",
       "\n",
       "    .dataframe tbody tr th {\n",
       "        vertical-align: top;\n",
       "    }\n",
       "</style>\n",
       "<table border=\"1\" class=\"dataframe\">\n",
       "  <thead>\n",
       "    <tr style=\"text-align: right;\">\n",
       "      <th></th>\n",
       "      <th>shape_id</th>\n",
       "      <th>StopID_set</th>\n",
       "      <th>StopID_list</th>\n",
       "      <th>route_short</th>\n",
       "    </tr>\n",
       "  </thead>\n",
       "  <tbody>\n",
       "    <tr>\n",
       "      <th>0</th>\n",
       "      <td>0-1-y12-1.1.O</td>\n",
       "      <td>{0050, 0271, 0265, 0340, 1641, 0229, 0354, 280...</td>\n",
       "      <td>[0044, 0045, 0046, 0047, 0048, 0049, 0050, 005...</td>\n",
       "      <td>0001</td>\n",
       "    </tr>\n",
       "    <tr>\n",
       "      <th>1</th>\n",
       "      <td>0-1-y12-1.2.O</td>\n",
       "      <td>{0271, 0265, 0340, 0354, 2804, 0378, 0355, 035...</td>\n",
       "      <td>[0265, 0271, 0340, 0350, 0351, 0352, 0353, 035...</td>\n",
       "      <td>0001</td>\n",
       "    </tr>\n",
       "    <tr>\n",
       "      <th>2</th>\n",
       "      <td>0-1-y12-1.3.O</td>\n",
       "      <td>{0050, 0271, 0265, 1641, 0229, 0045, 4432, 022...</td>\n",
       "      <td>[0044, 0045, 0046, 0047, 0048, 0049, 0050, 005...</td>\n",
       "      <td>0001</td>\n",
       "    </tr>\n",
       "    <tr>\n",
       "      <th>3</th>\n",
       "      <td>0-1-y12-1.4.I</td>\n",
       "      <td>{0205, 0223, 0010, 0319, 0017, 0384, 0085, 020...</td>\n",
       "      <td>[0010, 0012, 0014, 0015, 0017, 0018, 0019, 002...</td>\n",
       "      <td>0001</td>\n",
       "    </tr>\n",
       "    <tr>\n",
       "      <th>4</th>\n",
       "      <td>0-1-y12-1.5.I</td>\n",
       "      <td>{0010, 0319, 0384, 0392, 0387, 0396, 0399, 039...</td>\n",
       "      <td>[0010, 0278, 0319, 0371, 0381, 0382, 0383, 038...</td>\n",
       "      <td>0001</td>\n",
       "    </tr>\n",
       "  </tbody>\n",
       "</table>\n",
       "</div>"
      ],
      "text/plain": [
       "        shape_id                                         StopID_set  \\\n",
       "0  0-1-y12-1.1.O  {0050, 0271, 0265, 0340, 1641, 0229, 0354, 280...   \n",
       "1  0-1-y12-1.2.O  {0271, 0265, 0340, 0354, 2804, 0378, 0355, 035...   \n",
       "2  0-1-y12-1.3.O  {0050, 0271, 0265, 1641, 0229, 0045, 4432, 022...   \n",
       "3  0-1-y12-1.4.I  {0205, 0223, 0010, 0319, 0017, 0384, 0085, 020...   \n",
       "4  0-1-y12-1.5.I  {0010, 0319, 0384, 0392, 0387, 0396, 0399, 039...   \n",
       "\n",
       "                                         StopID_list route_short  \n",
       "0  [0044, 0045, 0046, 0047, 0048, 0049, 0050, 005...        0001  \n",
       "1  [0265, 0271, 0340, 0350, 0351, 0352, 0353, 035...        0001  \n",
       "2  [0044, 0045, 0046, 0047, 0048, 0049, 0050, 005...        0001  \n",
       "3  [0010, 0012, 0014, 0015, 0017, 0018, 0019, 002...        0001  \n",
       "4  [0010, 0278, 0319, 0371, 0381, 0382, 0383, 038...        0001  "
      ]
     },
     "execution_count": 45,
     "metadata": {},
     "output_type": "execute_result"
    }
   ],
   "source": [
    "# Now we get the shape_id to its StopID set\n",
    "shapeID_stopID_df.head(5)"
   ]
  },
  {
   "cell_type": "markdown",
   "metadata": {},
   "source": [
    "#### 3. StopID set of gps data"
   ]
  },
  {
   "cell_type": "code",
   "execution_count": 46,
   "metadata": {
    "collapsed": true
   },
   "outputs": [],
   "source": [
    "# The same operation here for gps data\n",
    "# Sort by JourneyPatternID and stopID\n",
    "gps_JPID_StopID.sort_values(['JourneyPatternID', 'StopID'], inplace=True)\n",
    "\n",
    "# Store each StopID of each JourneyPatternID into list\n",
    "JPID_stopID_set = {}\n",
    "JPID_unique = gps_JPID_StopID.JourneyPatternID.unique()\n",
    "\n",
    "for s in JPID_unique:\n",
    "    temp = []\n",
    "    for stopid in gps_JPID_StopID[gps_JPID_StopID.JourneyPatternID == s]['StopID']:\n",
    "        temp.append(stopid)\n",
    "        temp.sort()\n",
    "    JPID_stopID_set[s] = [set(temp), temp]"
   ]
  },
  {
   "cell_type": "code",
   "execution_count": 47,
   "metadata": {
    "collapsed": false,
    "scrolled": true
   },
   "outputs": [
    {
     "data": {
      "text/html": [
       "<div>\n",
       "<style>\n",
       "    .dataframe thead tr:only-child th {\n",
       "        text-align: right;\n",
       "    }\n",
       "\n",
       "    .dataframe thead th {\n",
       "        text-align: left;\n",
       "    }\n",
       "\n",
       "    .dataframe tbody tr th {\n",
       "        vertical-align: top;\n",
       "    }\n",
       "</style>\n",
       "<table border=\"1\" class=\"dataframe\">\n",
       "  <thead>\n",
       "    <tr style=\"text-align: right;\">\n",
       "      <th></th>\n",
       "      <th>JourneyPatternID</th>\n",
       "      <th>StopID_set</th>\n",
       "      <th>StopID_list</th>\n",
       "    </tr>\n",
       "  </thead>\n",
       "  <tbody>\n",
       "    <tr>\n",
       "      <th>0</th>\n",
       "      <td>00010001</td>\n",
       "      <td>{0050, 0271, 0265, 0340, 1641, 0319, 0229, 035...</td>\n",
       "      <td>[0044, 0045, 0046, 0047, 0048, 0049, 0050, 005...</td>\n",
       "    </tr>\n",
       "    <tr>\n",
       "      <th>1</th>\n",
       "      <td>00010002</td>\n",
       "      <td>{0271, 0265, 0340, 0354, 2804, 0378, 0355, 035...</td>\n",
       "      <td>[0265, 0271, 0340, 0350, 0351, 0352, 0353, 035...</td>\n",
       "    </tr>\n",
       "    <tr>\n",
       "      <th>2</th>\n",
       "      <td>00010003</td>\n",
       "      <td>{0205, 0050, 0271, 0265, 1641, 0229, 0045, 443...</td>\n",
       "      <td>[0045, 0046, 0047, 0048, 0049, 0050, 0051, 005...</td>\n",
       "    </tr>\n",
       "    <tr>\n",
       "      <th>3</th>\n",
       "      <td>00011001</td>\n",
       "      <td>{0205, 0271, 0265, 0340, 0223, 0010, 0319, 001...</td>\n",
       "      <td>[0010, 0012, 0014, 0015, 0017, 0018, 0019, 002...</td>\n",
       "    </tr>\n",
       "    <tr>\n",
       "      <th>4</th>\n",
       "      <td>00011002</td>\n",
       "      <td>{0265, 0010, 0319, 0384, 0378, 0392, 0387, 039...</td>\n",
       "      <td>[0010, 0265, 0278, 0319, 0371, 0372, 0378, 038...</td>\n",
       "    </tr>\n",
       "    <tr>\n",
       "      <th>5</th>\n",
       "      <td>00040001</td>\n",
       "      <td>{0408, 0410, 0038, 0186, 6085, 6234, 2051, 040...</td>\n",
       "      <td>[0006, 0037, 0038, 0039, 0040, 0091, 0094, 011...</td>\n",
       "    </tr>\n",
       "    <tr>\n",
       "      <th>6</th>\n",
       "      <td>00040002</td>\n",
       "      <td>{0038, 0186, 0185, 0147, 0113, 0037, 0332, 018...</td>\n",
       "      <td>[0037, 0038, 0040, 0112, 0113, 0115, 0127, 014...</td>\n",
       "    </tr>\n",
       "    <tr>\n",
       "      <th>7</th>\n",
       "      <td>00041001</td>\n",
       "      <td>{0281, 0483, 2051, 0148, 0090, 0472, 0322, 009...</td>\n",
       "      <td>[0006, 0027, 0028, 0029, 0037, 0040, 0090, 009...</td>\n",
       "    </tr>\n",
       "    <tr>\n",
       "      <th>8</th>\n",
       "      <td>00041002</td>\n",
       "      <td>{0281, 0483, 2051, 7330, 0469, 0475, 0488, 608...</td>\n",
       "      <td>[0281, 0400, 0469, 0471, 0473, 0475, 0478, 047...</td>\n",
       "    </tr>\n",
       "    <tr>\n",
       "      <th>9</th>\n",
       "      <td>00070001</td>\n",
       "      <td>{0408, 3041, 0410, 2046, 3037, 4982, 0409, 204...</td>\n",
       "      <td>[0273, 0402, 0405, 0408, 0409, 0410, 0411, 041...</td>\n",
       "    </tr>\n",
       "    <tr>\n",
       "      <th>10</th>\n",
       "      <td>00070002</td>\n",
       "      <td>{0408, 3041, 0410, 2046, 3037, 0409, 2044, 303...</td>\n",
       "      <td>[0273, 0402, 0405, 0408, 0409, 0410, 0411, 041...</td>\n",
       "    </tr>\n",
       "    <tr>\n",
       "      <th>11</th>\n",
       "      <td>00070003</td>\n",
       "      <td>{3041, 3037, 3033, 3216, 3213, 3204, 3203, 321...</td>\n",
       "      <td>[0422, 0423, 0425, 0427, 0428, 0429, 2035, 204...</td>\n",
       "    </tr>\n",
       "    <tr>\n",
       "      <th>12</th>\n",
       "      <td>00070004</td>\n",
       "      <td>{0408, 3041, 0410, 3037, 0409, 3033, 0414, 321...</td>\n",
       "      <td>[0273, 0402, 0405, 0408, 0409, 0410, 0411, 041...</td>\n",
       "    </tr>\n",
       "    <tr>\n",
       "      <th>13</th>\n",
       "      <td>00070005</td>\n",
       "      <td>{0408, 3041, 0410, 3037, 0409, 3033, 0414, 321...</td>\n",
       "      <td>[0273, 0402, 0405, 0408, 0409, 0410, 0411, 041...</td>\n",
       "    </tr>\n",
       "    <tr>\n",
       "      <th>14</th>\n",
       "      <td>00071001</td>\n",
       "      <td>{0408, 0483, 3072, 3235, 0409, 3068, 3228, 323...</td>\n",
       "      <td>[0008, 0273, 0279, 0400, 0402, 0408, 0409, 041...</td>\n",
       "    </tr>\n",
       "    <tr>\n",
       "      <th>15</th>\n",
       "      <td>00071002</td>\n",
       "      <td>{0483, 3072, 3068, 3228, 3216, 3213, 3230, 047...</td>\n",
       "      <td>[0008, 0273, 0279, 0400, 0402, 0416, 0417, 042...</td>\n",
       "    </tr>\n",
       "    <tr>\n",
       "      <th>16</th>\n",
       "      <td>00071003</td>\n",
       "      <td>{0483, 3072, 3235, 3068, 3228, 3230, 0472, 323...</td>\n",
       "      <td>[0008, 0273, 0279, 0400, 0415, 0469, 0470, 047...</td>\n",
       "    </tr>\n",
       "    <tr>\n",
       "      <th>17</th>\n",
       "      <td>00071004</td>\n",
       "      <td>{0483, 3072, 3068, 3228, 3230, 0472, 3232, 047...</td>\n",
       "      <td>[0008, 0279, 0400, 0415, 0469, 0470, 0471, 047...</td>\n",
       "    </tr>\n",
       "    <tr>\n",
       "      <th>18</th>\n",
       "      <td>00080001</td>\n",
       "      <td>{0408, 0410, 2046, 3037, 3057, 0409, 3033, 041...</td>\n",
       "      <td>[0273, 0402, 0405, 0408, 0409, 0410, 0411, 041...</td>\n",
       "    </tr>\n",
       "    <tr>\n",
       "      <th>19</th>\n",
       "      <td>00081001</td>\n",
       "      <td>{3057, 0483, 3058, 0472, 0477, 0469, 0279, 305...</td>\n",
       "      <td>[0008, 0279, 0400, 0469, 0470, 0471, 0472, 047...</td>\n",
       "    </tr>\n",
       "    <tr>\n",
       "      <th>20</th>\n",
       "      <td>00081002</td>\n",
       "      <td>{3057, 0483, 0472, 0477, 0469, 0279, 3081, 047...</td>\n",
       "      <td>[0008, 0279, 0400, 0469, 0470, 0471, 0472, 047...</td>\n",
       "    </tr>\n",
       "    <tr>\n",
       "      <th>21</th>\n",
       "      <td>00090001</td>\n",
       "      <td>{1288, 0038, 0186, 1286, 1350, 1289, 2391, 128...</td>\n",
       "      <td>[0004, 0037, 0038, 0039, 0040, 0115, 0136, 013...</td>\n",
       "    </tr>\n",
       "    <tr>\n",
       "      <th>22</th>\n",
       "      <td>00090002</td>\n",
       "      <td>{0038, 0186, 0185, 0147, 0037, 4788, 0189, 014...</td>\n",
       "      <td>[0037, 0038, 0039, 0040, 0115, 0136, 0137, 013...</td>\n",
       "    </tr>\n",
       "    <tr>\n",
       "      <th>23</th>\n",
       "      <td>00091001</td>\n",
       "      <td>{1355, 0281, 1350, 2433, 0148, 2460, 0319, 489...</td>\n",
       "      <td>[0004, 0027, 0028, 0029, 0090, 0091, 0129, 013...</td>\n",
       "    </tr>\n",
       "    <tr>\n",
       "      <th>24</th>\n",
       "      <td>00091002</td>\n",
       "      <td>{1355, 0281, 1350, 2433, 2460, 0319, 2444, 244...</td>\n",
       "      <td>[0004, 0281, 0319, 1344, 1345, 1347, 1348, 134...</td>\n",
       "    </tr>\n",
       "    <tr>\n",
       "      <th>25</th>\n",
       "      <td>00110001</td>\n",
       "      <td>{0850, 0842, 0050, 0038, 0845, 0848, 0043, 027...</td>\n",
       "      <td>[0010, 0032, 0035, 0036, 0037, 0038, 0039, 004...</td>\n",
       "    </tr>\n",
       "    <tr>\n",
       "      <th>26</th>\n",
       "      <td>00110002</td>\n",
       "      <td>{6122, 0041, 0038, 0049, 0046, 0040, 0036, 004...</td>\n",
       "      <td>[0035, 0036, 0037, 0038, 0040, 0041, 0042, 004...</td>\n",
       "    </tr>\n",
       "    <tr>\n",
       "      <th>27</th>\n",
       "      <td>00111001</td>\n",
       "      <td>{0842, 6122, 0023, 0908, 0271, 0786, 0010, 088...</td>\n",
       "      <td>[0010, 0012, 0014, 0015, 0017, 0018, 0019, 002...</td>\n",
       "    </tr>\n",
       "    <tr>\n",
       "      <th>28</th>\n",
       "      <td>00111002</td>\n",
       "      <td>{0908, 0786, 0010, 0886, 3029, 0881, 0906, 303...</td>\n",
       "      <td>[0010, 0278, 0320, 0447, 0449, 0453, 0454, 078...</td>\n",
       "    </tr>\n",
       "    <tr>\n",
       "      <th>29</th>\n",
       "      <td>00130001</td>\n",
       "      <td>{2165, 2141, 1940, 1937, 1956, 2145, 4670, 719...</td>\n",
       "      <td>[0007, 0037, 0038, 0039, 0044, 0045, 0046, 004...</td>\n",
       "    </tr>\n",
       "    <tr>\n",
       "      <th>...</th>\n",
       "      <td>...</td>\n",
       "      <td>...</td>\n",
       "      <td>...</td>\n",
       "    </tr>\n",
       "    <tr>\n",
       "      <th>453</th>\n",
       "      <td>067X0003</td>\n",
       "      <td>{7239, 3909, 3907, 3902, 3897, 3892, 7050, 440...</td>\n",
       "      <td>[0312, 0318, 1444, 1445, 1447, 2201, 2213, 221...</td>\n",
       "    </tr>\n",
       "    <tr>\n",
       "      <th>454</th>\n",
       "      <td>067X1001</td>\n",
       "      <td>{4001, 3921, 0315, 0756, 0336, 0752, 0757, 708...</td>\n",
       "      <td>[0315, 0336, 0406, 0747, 0748, 0749, 0750, 075...</td>\n",
       "    </tr>\n",
       "    <tr>\n",
       "      <th>455</th>\n",
       "      <td>067X1002</td>\n",
       "      <td>{4001, 3921, 7110, 0315, 0756, 0336, 0752, 075...</td>\n",
       "      <td>[0315, 0336, 0406, 0747, 0748, 0749, 0750, 075...</td>\n",
       "    </tr>\n",
       "    <tr>\n",
       "      <th>456</th>\n",
       "      <td>068A0001</td>\n",
       "      <td>{1288, 1286, 1371, 1370, 1289, 1282, 4456, 136...</td>\n",
       "      <td>[1278, 1282, 1284, 1285, 1286, 1288, 1289, 136...</td>\n",
       "    </tr>\n",
       "    <tr>\n",
       "      <th>457</th>\n",
       "      <td>068A1001</td>\n",
       "      <td>{1355, 1350, 1385, 1380, 1376, 1382, 1348, 138...</td>\n",
       "      <td>[1348, 1349, 1350, 1352, 1353, 1354, 1355, 135...</td>\n",
       "    </tr>\n",
       "    <tr>\n",
       "      <th>458</th>\n",
       "      <td>069X0001</td>\n",
       "      <td>{3437, 4495, 4720, 2637, 3435, 5126, 3441, 210...</td>\n",
       "      <td>[1443, 1444, 1445, 1956, 2109, 2637, 3432, 343...</td>\n",
       "    </tr>\n",
       "    <tr>\n",
       "      <th>459</th>\n",
       "      <td>069X1001</td>\n",
       "      <td>{1358, 3455, 3461, 2176, 5192, 3447, 4564, 441...</td>\n",
       "      <td>[1358, 1480, 2176, 3447, 3454, 3455, 3461, 441...</td>\n",
       "    </tr>\n",
       "    <tr>\n",
       "      <th>460</th>\n",
       "      <td>07470001</td>\n",
       "      <td>{0271, 2499, 4508, 4521, 4717, 7402, 2507, 740...</td>\n",
       "      <td>[0271, 0496, 1359, 2002, 2498, 2499, 2507, 366...</td>\n",
       "    </tr>\n",
       "    <tr>\n",
       "      <th>461</th>\n",
       "      <td>07471001</td>\n",
       "      <td>{7399, 6032, 4319, 0271, 3665, 7397, 7400, 740...</td>\n",
       "      <td>[0271, 0620, 1172, 1445, 1935, 3665, 3669, 431...</td>\n",
       "    </tr>\n",
       "    <tr>\n",
       "      <th>462</th>\n",
       "      <td>076A0001</td>\n",
       "      <td>{2960, 4409, 4347, 2668, 4795, 5006, 2127, 702...</td>\n",
       "      <td>[1840, 1841, 1842, 2124, 2125, 2126, 2127, 212...</td>\n",
       "    </tr>\n",
       "    <tr>\n",
       "      <th>463</th>\n",
       "      <td>076A1001</td>\n",
       "      <td>{2119, 2688, 4795, 7510, 2115, 4646, 2363, 501...</td>\n",
       "      <td>[1813, 1814, 2110, 2111, 2112, 2114, 2115, 211...</td>\n",
       "    </tr>\n",
       "    <tr>\n",
       "      <th>464</th>\n",
       "      <td>077A0001</td>\n",
       "      <td>{2421, 2564, 2573, 4930, 2314, 7459, 2315, 255...</td>\n",
       "      <td>[0351, 0352, 0395, 0396, 0397, 0398, 0399, 040...</td>\n",
       "    </tr>\n",
       "    <tr>\n",
       "      <th>465</th>\n",
       "      <td>077A1001</td>\n",
       "      <td>{1424, 2568, 2373, 2591, 2184, 2428, 0340, 493...</td>\n",
       "      <td>[0340, 0350, 0351, 0352, 0353, 0354, 0395, 039...</td>\n",
       "    </tr>\n",
       "    <tr>\n",
       "      <th>466</th>\n",
       "      <td>079A0001</td>\n",
       "      <td>{6020, 2649, 2653, 2647, 2660, 2704, 7012, 602...</td>\n",
       "      <td>[0326, 1443, 1444, 1445, 2637, 2638, 2644, 264...</td>\n",
       "    </tr>\n",
       "    <tr>\n",
       "      <th>467</th>\n",
       "      <td>079A1001</td>\n",
       "      <td>{2700, 2663, 1480, 4413, 7435, 2704, 5134, 290...</td>\n",
       "      <td>[0326, 1358, 1443, 1445, 1476, 1477, 1480, 263...</td>\n",
       "    </tr>\n",
       "    <tr>\n",
       "      <th>468</th>\n",
       "      <td>083A0001</td>\n",
       "      <td>{7350, 1017, 0186, 2491, 1076, 2489, 0315, 155...</td>\n",
       "      <td>[0173, 0174, 0175, 0176, 0181, 0182, 0183, 018...</td>\n",
       "    </tr>\n",
       "    <tr>\n",
       "      <th>469</th>\n",
       "      <td>083A0002</td>\n",
       "      <td>{1017, 0186, 2491, 1076, 2489, 0315, 2488, 445...</td>\n",
       "      <td>[0173, 0174, 0175, 0176, 0181, 0182, 0183, 018...</td>\n",
       "    </tr>\n",
       "    <tr>\n",
       "      <th>470</th>\n",
       "      <td>083A1001</td>\n",
       "      <td>{0158, 1355, 0154, 7350, 2473, 6234, 1555, 031...</td>\n",
       "      <td>[0133, 0134, 0138, 0151, 0153, 0154, 0155, 015...</td>\n",
       "    </tr>\n",
       "    <tr>\n",
       "      <th>471</th>\n",
       "      <td>083A1002</td>\n",
       "      <td>{0158, 1355, 0154, 2473, 0319, 4890, 0151, 246...</td>\n",
       "      <td>[0133, 0134, 0138, 0151, 0153, 0154, 0155, 015...</td>\n",
       "    </tr>\n",
       "    <tr>\n",
       "      <th>472</th>\n",
       "      <td>084A0001</td>\n",
       "      <td>{4126, 4128, 3132, 4131, 3082, 4154, 4155, 311...</td>\n",
       "      <td>[3082, 3114, 3115, 3116, 3117, 3118, 3119, 312...</td>\n",
       "    </tr>\n",
       "    <tr>\n",
       "      <th>473</th>\n",
       "      <td>084A0002</td>\n",
       "      <td>{4126, 4128, 3132, 4131, 4155, 3118, 4125, 412...</td>\n",
       "      <td>[0422, 0423, 0425, 0426, 0427, 0429, 3032, 311...</td>\n",
       "    </tr>\n",
       "    <tr>\n",
       "      <th>474</th>\n",
       "      <td>084A1001</td>\n",
       "      <td>{4202, 3082, 4201, 4154, 3143, 4205, 4206, 308...</td>\n",
       "      <td>[2995, 3079, 3080, 3081, 3082, 3140, 3141, 314...</td>\n",
       "    </tr>\n",
       "    <tr>\n",
       "      <th>475</th>\n",
       "      <td>084A1002</td>\n",
       "      <td>{4202, 3082, 4201, 4154, 3143, 4205, 0472, 047...</td>\n",
       "      <td>[0469, 0470, 0472, 0473, 0475, 0476, 0477, 047...</td>\n",
       "    </tr>\n",
       "    <tr>\n",
       "      <th>476</th>\n",
       "      <td>084X0001</td>\n",
       "      <td>{4283, 0848, 4224, 7461, 0401, 4588, 2007, 423...</td>\n",
       "      <td>[0401, 0746, 0758, 0760, 0844, 0846, 0848, 200...</td>\n",
       "    </tr>\n",
       "    <tr>\n",
       "      <th>477</th>\n",
       "      <td>084X0002</td>\n",
       "      <td>{0848, 4224, 7461, 0401, 4588, 2007, 4230, 201...</td>\n",
       "      <td>[0401, 0746, 0758, 0760, 0844, 0846, 0848, 200...</td>\n",
       "    </tr>\n",
       "    <tr>\n",
       "      <th>478</th>\n",
       "      <td>084X1001</td>\n",
       "      <td>{0791, 4283, 0768, 0786, 4281, 3143, 4284, 427...</td>\n",
       "      <td>[0317, 0401, 0768, 0772, 0775, 0786, 0791, 079...</td>\n",
       "    </tr>\n",
       "    <tr>\n",
       "      <th>479</th>\n",
       "      <td>084X1002</td>\n",
       "      <td>{0791, 4283, 0768, 0786, 3143, 4284, 4273, 746...</td>\n",
       "      <td>[0317, 0768, 0772, 0775, 0786, 0791, 0792, 090...</td>\n",
       "    </tr>\n",
       "    <tr>\n",
       "      <th>480</th>\n",
       "      <td>86-2</td>\n",
       "      <td>{3255, 7361, 3124, 3270, 2013, 3318, 3273, 439...</td>\n",
       "      <td>[2013, 2879, 3124, 3255, 3270, 3272, 3273, 331...</td>\n",
       "    </tr>\n",
       "    <tr>\n",
       "      <th>481</th>\n",
       "      <td>OL77X101</td>\n",
       "      <td>{1358, 1424, 2373, 2187, 0350, 2425, 4714, 077...</td>\n",
       "      <td>[0350, 0493, 0779, 1358, 1424, 1436, 2187, 219...</td>\n",
       "    </tr>\n",
       "    <tr>\n",
       "      <th>482</th>\n",
       "      <td>PP071001</td>\n",
       "      <td>{3224, 4962, 3240, 0493, 0476, 4705, 0487, 307...</td>\n",
       "      <td>[0279, 0476, 0487, 0493, 3076, 3080, 3222, 322...</td>\n",
       "    </tr>\n",
       "  </tbody>\n",
       "</table>\n",
       "<p>483 rows × 3 columns</p>\n",
       "</div>"
      ],
      "text/plain": [
       "    JourneyPatternID                                         StopID_set  \\\n",
       "0           00010001  {0050, 0271, 0265, 0340, 1641, 0319, 0229, 035...   \n",
       "1           00010002  {0271, 0265, 0340, 0354, 2804, 0378, 0355, 035...   \n",
       "2           00010003  {0205, 0050, 0271, 0265, 1641, 0229, 0045, 443...   \n",
       "3           00011001  {0205, 0271, 0265, 0340, 0223, 0010, 0319, 001...   \n",
       "4           00011002  {0265, 0010, 0319, 0384, 0378, 0392, 0387, 039...   \n",
       "5           00040001  {0408, 0410, 0038, 0186, 6085, 6234, 2051, 040...   \n",
       "6           00040002  {0038, 0186, 0185, 0147, 0113, 0037, 0332, 018...   \n",
       "7           00041001  {0281, 0483, 2051, 0148, 0090, 0472, 0322, 009...   \n",
       "8           00041002  {0281, 0483, 2051, 7330, 0469, 0475, 0488, 608...   \n",
       "9           00070001  {0408, 3041, 0410, 2046, 3037, 4982, 0409, 204...   \n",
       "10          00070002  {0408, 3041, 0410, 2046, 3037, 0409, 2044, 303...   \n",
       "11          00070003  {3041, 3037, 3033, 3216, 3213, 3204, 3203, 321...   \n",
       "12          00070004  {0408, 3041, 0410, 3037, 0409, 3033, 0414, 321...   \n",
       "13          00070005  {0408, 3041, 0410, 3037, 0409, 3033, 0414, 321...   \n",
       "14          00071001  {0408, 0483, 3072, 3235, 0409, 3068, 3228, 323...   \n",
       "15          00071002  {0483, 3072, 3068, 3228, 3216, 3213, 3230, 047...   \n",
       "16          00071003  {0483, 3072, 3235, 3068, 3228, 3230, 0472, 323...   \n",
       "17          00071004  {0483, 3072, 3068, 3228, 3230, 0472, 3232, 047...   \n",
       "18          00080001  {0408, 0410, 2046, 3037, 3057, 0409, 3033, 041...   \n",
       "19          00081001  {3057, 0483, 3058, 0472, 0477, 0469, 0279, 305...   \n",
       "20          00081002  {3057, 0483, 0472, 0477, 0469, 0279, 3081, 047...   \n",
       "21          00090001  {1288, 0038, 0186, 1286, 1350, 1289, 2391, 128...   \n",
       "22          00090002  {0038, 0186, 0185, 0147, 0037, 4788, 0189, 014...   \n",
       "23          00091001  {1355, 0281, 1350, 2433, 0148, 2460, 0319, 489...   \n",
       "24          00091002  {1355, 0281, 1350, 2433, 2460, 0319, 2444, 244...   \n",
       "25          00110001  {0850, 0842, 0050, 0038, 0845, 0848, 0043, 027...   \n",
       "26          00110002  {6122, 0041, 0038, 0049, 0046, 0040, 0036, 004...   \n",
       "27          00111001  {0842, 6122, 0023, 0908, 0271, 0786, 0010, 088...   \n",
       "28          00111002  {0908, 0786, 0010, 0886, 3029, 0881, 0906, 303...   \n",
       "29          00130001  {2165, 2141, 1940, 1937, 1956, 2145, 4670, 719...   \n",
       "..               ...                                                ...   \n",
       "453         067X0003  {7239, 3909, 3907, 3902, 3897, 3892, 7050, 440...   \n",
       "454         067X1001  {4001, 3921, 0315, 0756, 0336, 0752, 0757, 708...   \n",
       "455         067X1002  {4001, 3921, 7110, 0315, 0756, 0336, 0752, 075...   \n",
       "456         068A0001  {1288, 1286, 1371, 1370, 1289, 1282, 4456, 136...   \n",
       "457         068A1001  {1355, 1350, 1385, 1380, 1376, 1382, 1348, 138...   \n",
       "458         069X0001  {3437, 4495, 4720, 2637, 3435, 5126, 3441, 210...   \n",
       "459         069X1001  {1358, 3455, 3461, 2176, 5192, 3447, 4564, 441...   \n",
       "460         07470001  {0271, 2499, 4508, 4521, 4717, 7402, 2507, 740...   \n",
       "461         07471001  {7399, 6032, 4319, 0271, 3665, 7397, 7400, 740...   \n",
       "462         076A0001  {2960, 4409, 4347, 2668, 4795, 5006, 2127, 702...   \n",
       "463         076A1001  {2119, 2688, 4795, 7510, 2115, 4646, 2363, 501...   \n",
       "464         077A0001  {2421, 2564, 2573, 4930, 2314, 7459, 2315, 255...   \n",
       "465         077A1001  {1424, 2568, 2373, 2591, 2184, 2428, 0340, 493...   \n",
       "466         079A0001  {6020, 2649, 2653, 2647, 2660, 2704, 7012, 602...   \n",
       "467         079A1001  {2700, 2663, 1480, 4413, 7435, 2704, 5134, 290...   \n",
       "468         083A0001  {7350, 1017, 0186, 2491, 1076, 2489, 0315, 155...   \n",
       "469         083A0002  {1017, 0186, 2491, 1076, 2489, 0315, 2488, 445...   \n",
       "470         083A1001  {0158, 1355, 0154, 7350, 2473, 6234, 1555, 031...   \n",
       "471         083A1002  {0158, 1355, 0154, 2473, 0319, 4890, 0151, 246...   \n",
       "472         084A0001  {4126, 4128, 3132, 4131, 3082, 4154, 4155, 311...   \n",
       "473         084A0002  {4126, 4128, 3132, 4131, 4155, 3118, 4125, 412...   \n",
       "474         084A1001  {4202, 3082, 4201, 4154, 3143, 4205, 4206, 308...   \n",
       "475         084A1002  {4202, 3082, 4201, 4154, 3143, 4205, 0472, 047...   \n",
       "476         084X0001  {4283, 0848, 4224, 7461, 0401, 4588, 2007, 423...   \n",
       "477         084X0002  {0848, 4224, 7461, 0401, 4588, 2007, 4230, 201...   \n",
       "478         084X1001  {0791, 4283, 0768, 0786, 4281, 3143, 4284, 427...   \n",
       "479         084X1002  {0791, 4283, 0768, 0786, 3143, 4284, 4273, 746...   \n",
       "480             86-2  {3255, 7361, 3124, 3270, 2013, 3318, 3273, 439...   \n",
       "481         OL77X101  {1358, 1424, 2373, 2187, 0350, 2425, 4714, 077...   \n",
       "482         PP071001  {3224, 4962, 3240, 0493, 0476, 4705, 0487, 307...   \n",
       "\n",
       "                                           StopID_list  \n",
       "0    [0044, 0045, 0046, 0047, 0048, 0049, 0050, 005...  \n",
       "1    [0265, 0271, 0340, 0350, 0351, 0352, 0353, 035...  \n",
       "2    [0045, 0046, 0047, 0048, 0049, 0050, 0051, 005...  \n",
       "3    [0010, 0012, 0014, 0015, 0017, 0018, 0019, 002...  \n",
       "4    [0010, 0265, 0278, 0319, 0371, 0372, 0378, 038...  \n",
       "5    [0006, 0037, 0038, 0039, 0040, 0091, 0094, 011...  \n",
       "6    [0037, 0038, 0040, 0112, 0113, 0115, 0127, 014...  \n",
       "7    [0006, 0027, 0028, 0029, 0037, 0040, 0090, 009...  \n",
       "8    [0281, 0400, 0469, 0471, 0473, 0475, 0478, 047...  \n",
       "9    [0273, 0402, 0405, 0408, 0409, 0410, 0411, 041...  \n",
       "10   [0273, 0402, 0405, 0408, 0409, 0410, 0411, 041...  \n",
       "11   [0422, 0423, 0425, 0427, 0428, 0429, 2035, 204...  \n",
       "12   [0273, 0402, 0405, 0408, 0409, 0410, 0411, 041...  \n",
       "13   [0273, 0402, 0405, 0408, 0409, 0410, 0411, 041...  \n",
       "14   [0008, 0273, 0279, 0400, 0402, 0408, 0409, 041...  \n",
       "15   [0008, 0273, 0279, 0400, 0402, 0416, 0417, 042...  \n",
       "16   [0008, 0273, 0279, 0400, 0415, 0469, 0470, 047...  \n",
       "17   [0008, 0279, 0400, 0415, 0469, 0470, 0471, 047...  \n",
       "18   [0273, 0402, 0405, 0408, 0409, 0410, 0411, 041...  \n",
       "19   [0008, 0279, 0400, 0469, 0470, 0471, 0472, 047...  \n",
       "20   [0008, 0279, 0400, 0469, 0470, 0471, 0472, 047...  \n",
       "21   [0004, 0037, 0038, 0039, 0040, 0115, 0136, 013...  \n",
       "22   [0037, 0038, 0039, 0040, 0115, 0136, 0137, 013...  \n",
       "23   [0004, 0027, 0028, 0029, 0090, 0091, 0129, 013...  \n",
       "24   [0004, 0281, 0319, 1344, 1345, 1347, 1348, 134...  \n",
       "25   [0010, 0032, 0035, 0036, 0037, 0038, 0039, 004...  \n",
       "26   [0035, 0036, 0037, 0038, 0040, 0041, 0042, 004...  \n",
       "27   [0010, 0012, 0014, 0015, 0017, 0018, 0019, 002...  \n",
       "28   [0010, 0278, 0320, 0447, 0449, 0453, 0454, 078...  \n",
       "29   [0007, 0037, 0038, 0039, 0044, 0045, 0046, 004...  \n",
       "..                                                 ...  \n",
       "453  [0312, 0318, 1444, 1445, 1447, 2201, 2213, 221...  \n",
       "454  [0315, 0336, 0406, 0747, 0748, 0749, 0750, 075...  \n",
       "455  [0315, 0336, 0406, 0747, 0748, 0749, 0750, 075...  \n",
       "456  [1278, 1282, 1284, 1285, 1286, 1288, 1289, 136...  \n",
       "457  [1348, 1349, 1350, 1352, 1353, 1354, 1355, 135...  \n",
       "458  [1443, 1444, 1445, 1956, 2109, 2637, 3432, 343...  \n",
       "459  [1358, 1480, 2176, 3447, 3454, 3455, 3461, 441...  \n",
       "460  [0271, 0496, 1359, 2002, 2498, 2499, 2507, 366...  \n",
       "461  [0271, 0620, 1172, 1445, 1935, 3665, 3669, 431...  \n",
       "462  [1840, 1841, 1842, 2124, 2125, 2126, 2127, 212...  \n",
       "463  [1813, 1814, 2110, 2111, 2112, 2114, 2115, 211...  \n",
       "464  [0351, 0352, 0395, 0396, 0397, 0398, 0399, 040...  \n",
       "465  [0340, 0350, 0351, 0352, 0353, 0354, 0395, 039...  \n",
       "466  [0326, 1443, 1444, 1445, 2637, 2638, 2644, 264...  \n",
       "467  [0326, 1358, 1443, 1445, 1476, 1477, 1480, 263...  \n",
       "468  [0173, 0174, 0175, 0176, 0181, 0182, 0183, 018...  \n",
       "469  [0173, 0174, 0175, 0176, 0181, 0182, 0183, 018...  \n",
       "470  [0133, 0134, 0138, 0151, 0153, 0154, 0155, 015...  \n",
       "471  [0133, 0134, 0138, 0151, 0153, 0154, 0155, 015...  \n",
       "472  [3082, 3114, 3115, 3116, 3117, 3118, 3119, 312...  \n",
       "473  [0422, 0423, 0425, 0426, 0427, 0429, 3032, 311...  \n",
       "474  [2995, 3079, 3080, 3081, 3082, 3140, 3141, 314...  \n",
       "475  [0469, 0470, 0472, 0473, 0475, 0476, 0477, 047...  \n",
       "476  [0401, 0746, 0758, 0760, 0844, 0846, 0848, 200...  \n",
       "477  [0401, 0746, 0758, 0760, 0844, 0846, 0848, 200...  \n",
       "478  [0317, 0401, 0768, 0772, 0775, 0786, 0791, 079...  \n",
       "479  [0317, 0768, 0772, 0775, 0786, 0791, 0792, 090...  \n",
       "480  [2013, 2879, 3124, 3255, 3270, 3272, 3273, 331...  \n",
       "481  [0350, 0493, 0779, 1358, 1424, 1436, 2187, 219...  \n",
       "482  [0279, 0476, 0487, 0493, 3076, 3080, 3222, 322...  \n",
       "\n",
       "[483 rows x 3 columns]"
      ]
     },
     "execution_count": 47,
     "metadata": {},
     "output_type": "execute_result"
    }
   ],
   "source": [
    "# Get the JourneyPatternID to its stopID list\n",
    "JPID_stopID_df = pd.DataFrame(JPID_stopID_set, index=['StopID_set', 'StopID_list'])\n",
    "JPID_stopID_df = JPID_stopID_df.T\n",
    "JPID_stopID_df = JPID_stopID_df.reset_index()\n",
    "JPID_stopID_df = JPID_stopID_df.rename(columns = {'index':'JourneyPatternID'})\n",
    "JPID_stopID_df.head(5)"
   ]
  },
  {
   "cell_type": "code",
   "execution_count": 48,
   "metadata": {
    "collapsed": true
   },
   "outputs": [],
   "source": [
    "# Get the route from JourneyPatternID\n",
    "JPID_stopID_df['route_short'] = JPID_stopID_df['JourneyPatternID'].str[:4]"
   ]
  },
  {
   "cell_type": "code",
   "execution_count": 49,
   "metadata": {
    "collapsed": false,
    "scrolled": true
   },
   "outputs": [
    {
     "data": {
      "text/html": [
       "<div>\n",
       "<style>\n",
       "    .dataframe thead tr:only-child th {\n",
       "        text-align: right;\n",
       "    }\n",
       "\n",
       "    .dataframe thead th {\n",
       "        text-align: left;\n",
       "    }\n",
       "\n",
       "    .dataframe tbody tr th {\n",
       "        vertical-align: top;\n",
       "    }\n",
       "</style>\n",
       "<table border=\"1\" class=\"dataframe\">\n",
       "  <thead>\n",
       "    <tr style=\"text-align: right;\">\n",
       "      <th></th>\n",
       "      <th>JourneyPatternID</th>\n",
       "      <th>StopID_set</th>\n",
       "      <th>StopID_list</th>\n",
       "      <th>route_short</th>\n",
       "    </tr>\n",
       "  </thead>\n",
       "  <tbody>\n",
       "    <tr>\n",
       "      <th>0</th>\n",
       "      <td>00010001</td>\n",
       "      <td>{0050, 0271, 0265, 0340, 1641, 0319, 0229, 035...</td>\n",
       "      <td>[0044, 0045, 0046, 0047, 0048, 0049, 0050, 005...</td>\n",
       "      <td>0001</td>\n",
       "    </tr>\n",
       "    <tr>\n",
       "      <th>1</th>\n",
       "      <td>00010002</td>\n",
       "      <td>{0271, 0265, 0340, 0354, 2804, 0378, 0355, 035...</td>\n",
       "      <td>[0265, 0271, 0340, 0350, 0351, 0352, 0353, 035...</td>\n",
       "      <td>0001</td>\n",
       "    </tr>\n",
       "    <tr>\n",
       "      <th>2</th>\n",
       "      <td>00010003</td>\n",
       "      <td>{0205, 0050, 0271, 0265, 1641, 0229, 0045, 443...</td>\n",
       "      <td>[0045, 0046, 0047, 0048, 0049, 0050, 0051, 005...</td>\n",
       "      <td>0001</td>\n",
       "    </tr>\n",
       "    <tr>\n",
       "      <th>3</th>\n",
       "      <td>00011001</td>\n",
       "      <td>{0205, 0271, 0265, 0340, 0223, 0010, 0319, 001...</td>\n",
       "      <td>[0010, 0012, 0014, 0015, 0017, 0018, 0019, 002...</td>\n",
       "      <td>0001</td>\n",
       "    </tr>\n",
       "    <tr>\n",
       "      <th>4</th>\n",
       "      <td>00011002</td>\n",
       "      <td>{0265, 0010, 0319, 0384, 0378, 0392, 0387, 039...</td>\n",
       "      <td>[0010, 0265, 0278, 0319, 0371, 0372, 0378, 038...</td>\n",
       "      <td>0001</td>\n",
       "    </tr>\n",
       "  </tbody>\n",
       "</table>\n",
       "</div>"
      ],
      "text/plain": [
       "  JourneyPatternID                                         StopID_set  \\\n",
       "0         00010001  {0050, 0271, 0265, 0340, 1641, 0319, 0229, 035...   \n",
       "1         00010002  {0271, 0265, 0340, 0354, 2804, 0378, 0355, 035...   \n",
       "2         00010003  {0205, 0050, 0271, 0265, 1641, 0229, 0045, 443...   \n",
       "3         00011001  {0205, 0271, 0265, 0340, 0223, 0010, 0319, 001...   \n",
       "4         00011002  {0265, 0010, 0319, 0384, 0378, 0392, 0387, 039...   \n",
       "\n",
       "                                         StopID_list route_short  \n",
       "0  [0044, 0045, 0046, 0047, 0048, 0049, 0050, 005...        0001  \n",
       "1  [0265, 0271, 0340, 0350, 0351, 0352, 0353, 035...        0001  \n",
       "2  [0045, 0046, 0047, 0048, 0049, 0050, 0051, 005...        0001  \n",
       "3  [0010, 0012, 0014, 0015, 0017, 0018, 0019, 002...        0001  \n",
       "4  [0010, 0265, 0278, 0319, 0371, 0372, 0378, 038...        0001  "
      ]
     },
     "execution_count": 49,
     "metadata": {},
     "output_type": "execute_result"
    }
   ],
   "source": [
    "# Now we also have JourneyPatternID to its StopID list\n",
    "JPID_stopID_df.head(5)"
   ]
  },
  {
   "cell_type": "markdown",
   "metadata": {},
   "source": [
    "#### 3. Now merge and find the length of common StopID between two set"
   ]
  },
  {
   "cell_type": "code",
   "execution_count": 50,
   "metadata": {
    "collapsed": true
   },
   "outputs": [],
   "source": [
    "# Merge two datafram base on the route_short (cause for now we still don't know which JourneyPatternID is which trip_id)\n",
    "merge = pd.merge(shapeID_stopID_df, JPID_stopID_df, on='route_short', how='inner')"
   ]
  },
  {
   "cell_type": "code",
   "execution_count": 51,
   "metadata": {
    "collapsed": true
   },
   "outputs": [],
   "source": [
    "# Find the common StopID of googletransport and gps\n",
    "# (x[0] & x[1]) is for python set structure to find the common elements between two sets\n",
    "merge['common_len'] = merge.loc[:,['StopID_set_x', 'StopID_set_y']].apply(lambda x: len(x[0] & x[1]), axis=1)\n",
    "merge['shape_id_len'] = merge['StopID_list_x'].apply(lambda x: len(x))\n",
    "merge['JourneyPatternID_len'] = merge['StopID_list_y'].apply(lambda x: len(x))\n",
    "\n",
    "merge['JPID_len-shapid_len'] = merge['JourneyPatternID_len'] - merge['shape_id_len']\n",
    "merge = merge[merge['JPID_len-shapid_len'] == 0]"
   ]
  },
  {
   "cell_type": "code",
   "execution_count": 52,
   "metadata": {
    "collapsed": false,
    "scrolled": true
   },
   "outputs": [
    {
     "data": {
      "text/html": [
       "<div>\n",
       "<style>\n",
       "    .dataframe thead tr:only-child th {\n",
       "        text-align: right;\n",
       "    }\n",
       "\n",
       "    .dataframe thead th {\n",
       "        text-align: left;\n",
       "    }\n",
       "\n",
       "    .dataframe tbody tr th {\n",
       "        vertical-align: top;\n",
       "    }\n",
       "</style>\n",
       "<table border=\"1\" class=\"dataframe\">\n",
       "  <thead>\n",
       "    <tr style=\"text-align: right;\">\n",
       "      <th></th>\n",
       "      <th>shape_id</th>\n",
       "      <th>StopID_set_x</th>\n",
       "      <th>StopID_list_x</th>\n",
       "      <th>route_short</th>\n",
       "      <th>JourneyPatternID</th>\n",
       "      <th>StopID_set_y</th>\n",
       "      <th>StopID_list_y</th>\n",
       "      <th>common_len</th>\n",
       "      <th>shape_id_len</th>\n",
       "      <th>JourneyPatternID_len</th>\n",
       "      <th>JPID_len-shapid_len</th>\n",
       "    </tr>\n",
       "  </thead>\n",
       "  <tbody>\n",
       "    <tr>\n",
       "      <th>7</th>\n",
       "      <td>0-1-y12-1.2.O</td>\n",
       "      <td>{0271, 0265, 0340, 0354, 2804, 0378, 0355, 035...</td>\n",
       "      <td>[0265, 0271, 0340, 0350, 0351, 0352, 0353, 035...</td>\n",
       "      <td>0001</td>\n",
       "      <td>00010003</td>\n",
       "      <td>{0205, 0050, 0271, 0265, 1641, 0229, 0045, 443...</td>\n",
       "      <td>[0045, 0046, 0047, 0048, 0049, 0050, 0051, 005...</td>\n",
       "      <td>2</td>\n",
       "      <td>21</td>\n",
       "      <td>21</td>\n",
       "      <td>0</td>\n",
       "    </tr>\n",
       "    <tr>\n",
       "      <th>15</th>\n",
       "      <td>0-1-y12-1.4.I</td>\n",
       "      <td>{0205, 0223, 0010, 0319, 0017, 0384, 0085, 020...</td>\n",
       "      <td>[0010, 0012, 0014, 0015, 0017, 0018, 0019, 002...</td>\n",
       "      <td>0001</td>\n",
       "      <td>00010001</td>\n",
       "      <td>{0050, 0271, 0265, 0340, 1641, 0319, 0229, 035...</td>\n",
       "      <td>[0044, 0045, 0046, 0047, 0048, 0049, 0050, 005...</td>\n",
       "      <td>5</td>\n",
       "      <td>46</td>\n",
       "      <td>46</td>\n",
       "      <td>0</td>\n",
       "    </tr>\n",
       "    <tr>\n",
       "      <th>25</th>\n",
       "      <td>0-102-y12-1.85.O</td>\n",
       "      <td>{4331, 3705, 1040, 3634, 3613, 0940, 3641, 438...</td>\n",
       "      <td>[0733, 0788, 0815, 0816, 0905, 0913, 0914, 093...</td>\n",
       "      <td>0102</td>\n",
       "      <td>01020001</td>\n",
       "      <td>{4331, 3705, 1040, 3634, 3613, 0940, 3641, 438...</td>\n",
       "      <td>[0733, 0788, 0815, 0816, 0905, 0913, 0914, 093...</td>\n",
       "      <td>52</td>\n",
       "      <td>52</td>\n",
       "      <td>52</td>\n",
       "      <td>0</td>\n",
       "    </tr>\n",
       "    <tr>\n",
       "      <th>34</th>\n",
       "      <td>0-104-y12-1.88.O</td>\n",
       "      <td>{0251, 1651, 0223, 0250, 1197, 4791, 4784, 022...</td>\n",
       "      <td>[0218, 0219, 0220, 0221, 0222, 0223, 0224, 022...</td>\n",
       "      <td>0104</td>\n",
       "      <td>01040001</td>\n",
       "      <td>{0251, 1651, 0223, 0250, 1197, 4791, 4784, 022...</td>\n",
       "      <td>[0218, 0219, 0220, 0221, 0222, 0223, 0224, 022...</td>\n",
       "      <td>32</td>\n",
       "      <td>32</td>\n",
       "      <td>32</td>\n",
       "      <td>0</td>\n",
       "    </tr>\n",
       "    <tr>\n",
       "      <th>79</th>\n",
       "      <td>0-120-y12-1.101.I</td>\n",
       "      <td>{0408, 0829, 0410, 0284, 0079, 0409, 0414, 006...</td>\n",
       "      <td>[0030, 0068, 0069, 0075, 0079, 0080, 0082, 026...</td>\n",
       "      <td>0120</td>\n",
       "      <td>01201002</td>\n",
       "      <td>{0408, 0829, 0410, 0284, 0079, 0409, 0414, 006...</td>\n",
       "      <td>[0030, 0068, 0069, 0075, 0079, 0080, 0082, 026...</td>\n",
       "      <td>35</td>\n",
       "      <td>35</td>\n",
       "      <td>35</td>\n",
       "      <td>0</td>\n",
       "    </tr>\n",
       "  </tbody>\n",
       "</table>\n",
       "</div>"
      ],
      "text/plain": [
       "             shape_id                                       StopID_set_x  \\\n",
       "7       0-1-y12-1.2.O  {0271, 0265, 0340, 0354, 2804, 0378, 0355, 035...   \n",
       "15      0-1-y12-1.4.I  {0205, 0223, 0010, 0319, 0017, 0384, 0085, 020...   \n",
       "25   0-102-y12-1.85.O  {4331, 3705, 1040, 3634, 3613, 0940, 3641, 438...   \n",
       "34   0-104-y12-1.88.O  {0251, 1651, 0223, 0250, 1197, 4791, 4784, 022...   \n",
       "79  0-120-y12-1.101.I  {0408, 0829, 0410, 0284, 0079, 0409, 0414, 006...   \n",
       "\n",
       "                                        StopID_list_x route_short  \\\n",
       "7   [0265, 0271, 0340, 0350, 0351, 0352, 0353, 035...        0001   \n",
       "15  [0010, 0012, 0014, 0015, 0017, 0018, 0019, 002...        0001   \n",
       "25  [0733, 0788, 0815, 0816, 0905, 0913, 0914, 093...        0102   \n",
       "34  [0218, 0219, 0220, 0221, 0222, 0223, 0224, 022...        0104   \n",
       "79  [0030, 0068, 0069, 0075, 0079, 0080, 0082, 026...        0120   \n",
       "\n",
       "   JourneyPatternID                                       StopID_set_y  \\\n",
       "7          00010003  {0205, 0050, 0271, 0265, 1641, 0229, 0045, 443...   \n",
       "15         00010001  {0050, 0271, 0265, 0340, 1641, 0319, 0229, 035...   \n",
       "25         01020001  {4331, 3705, 1040, 3634, 3613, 0940, 3641, 438...   \n",
       "34         01040001  {0251, 1651, 0223, 0250, 1197, 4791, 4784, 022...   \n",
       "79         01201002  {0408, 0829, 0410, 0284, 0079, 0409, 0414, 006...   \n",
       "\n",
       "                                        StopID_list_y  common_len  \\\n",
       "7   [0045, 0046, 0047, 0048, 0049, 0050, 0051, 005...           2   \n",
       "15  [0044, 0045, 0046, 0047, 0048, 0049, 0050, 005...           5   \n",
       "25  [0733, 0788, 0815, 0816, 0905, 0913, 0914, 093...          52   \n",
       "34  [0218, 0219, 0220, 0221, 0222, 0223, 0224, 022...          32   \n",
       "79  [0030, 0068, 0069, 0075, 0079, 0080, 0082, 026...          35   \n",
       "\n",
       "    shape_id_len  JourneyPatternID_len  JPID_len-shapid_len  \n",
       "7             21                    21                    0  \n",
       "15            46                    46                    0  \n",
       "25            52                    52                    0  \n",
       "34            32                    32                    0  \n",
       "79            35                    35                    0  "
      ]
     },
     "execution_count": 52,
     "metadata": {},
     "output_type": "execute_result"
    }
   ],
   "source": [
    "# Get the maxmun common len in each shape_id\n",
    "merge_max = merge[merge.groupby(['shape_id'])['common_len'].transform('max') == merge['common_len']]\n",
    "merge_max.head(5)"
   ]
  },
  {
   "cell_type": "code",
   "execution_count": 53,
   "metadata": {
    "collapsed": false,
    "scrolled": true
   },
   "outputs": [
    {
     "data": {
      "text/html": [
       "<div>\n",
       "<style>\n",
       "    .dataframe thead tr:only-child th {\n",
       "        text-align: right;\n",
       "    }\n",
       "\n",
       "    .dataframe thead th {\n",
       "        text-align: left;\n",
       "    }\n",
       "\n",
       "    .dataframe tbody tr th {\n",
       "        vertical-align: top;\n",
       "    }\n",
       "</style>\n",
       "<table border=\"1\" class=\"dataframe\">\n",
       "  <thead>\n",
       "    <tr style=\"text-align: right;\">\n",
       "      <th></th>\n",
       "      <th>route_short</th>\n",
       "      <th>JourneyPatternID</th>\n",
       "      <th>shape_id</th>\n",
       "      <th>StopID_list_x</th>\n",
       "    </tr>\n",
       "  </thead>\n",
       "  <tbody>\n",
       "    <tr>\n",
       "      <th>7</th>\n",
       "      <td>0001</td>\n",
       "      <td>00010003</td>\n",
       "      <td>0-1-y12-1.2.O</td>\n",
       "      <td>[0265, 0271, 0340, 0350, 0351, 0352, 0353, 035...</td>\n",
       "    </tr>\n",
       "    <tr>\n",
       "      <th>15</th>\n",
       "      <td>0001</td>\n",
       "      <td>00010001</td>\n",
       "      <td>0-1-y12-1.4.I</td>\n",
       "      <td>[0010, 0012, 0014, 0015, 0017, 0018, 0019, 002...</td>\n",
       "    </tr>\n",
       "    <tr>\n",
       "      <th>25</th>\n",
       "      <td>0102</td>\n",
       "      <td>01020001</td>\n",
       "      <td>0-102-y12-1.85.O</td>\n",
       "      <td>[0733, 0788, 0815, 0816, 0905, 0913, 0914, 093...</td>\n",
       "    </tr>\n",
       "    <tr>\n",
       "      <th>34</th>\n",
       "      <td>0104</td>\n",
       "      <td>01040001</td>\n",
       "      <td>0-104-y12-1.88.O</td>\n",
       "      <td>[0218, 0219, 0220, 0221, 0222, 0223, 0224, 022...</td>\n",
       "    </tr>\n",
       "    <tr>\n",
       "      <th>79</th>\n",
       "      <td>0120</td>\n",
       "      <td>01201002</td>\n",
       "      <td>0-120-y12-1.101.I</td>\n",
       "      <td>[0030, 0068, 0069, 0075, 0079, 0080, 0082, 026...</td>\n",
       "    </tr>\n",
       "  </tbody>\n",
       "</table>\n",
       "</div>"
      ],
      "text/plain": [
       "   route_short JourneyPatternID           shape_id  \\\n",
       "7         0001         00010003      0-1-y12-1.2.O   \n",
       "15        0001         00010001      0-1-y12-1.4.I   \n",
       "25        0102         01020001   0-102-y12-1.85.O   \n",
       "34        0104         01040001   0-104-y12-1.88.O   \n",
       "79        0120         01201002  0-120-y12-1.101.I   \n",
       "\n",
       "                                        StopID_list_x  \n",
       "7   [0265, 0271, 0340, 0350, 0351, 0352, 0353, 035...  \n",
       "15  [0010, 0012, 0014, 0015, 0017, 0018, 0019, 002...  \n",
       "25  [0733, 0788, 0815, 0816, 0905, 0913, 0914, 093...  \n",
       "34  [0218, 0219, 0220, 0221, 0222, 0223, 0224, 022...  \n",
       "79  [0030, 0068, 0069, 0075, 0079, 0080, 0082, 026...  "
      ]
     },
     "execution_count": 53,
     "metadata": {},
     "output_type": "execute_result"
    }
   ],
   "source": [
    "# Now we get the JourneyPatternID to its possible shape_id\n",
    "# Here could have duplicate JPID but it's the same StopID_list so doesn't matter map to which shape_id, they are the same\n",
    "map_JPId_shapeID = merge_max.loc[:, ['route_short', 'JourneyPatternID', 'shape_id', 'StopID_list_x']]\n",
    "map_JPId_shapeID.head(5)"
   ]
  },
  {
   "cell_type": "code",
   "execution_count": 54,
   "metadata": {
    "collapsed": true
   },
   "outputs": [],
   "source": [
    "# Export to csv\n",
    "#map_JPId_shapeID.to_csv('map_JPID_to_shape_id.csv', index=False)"
   ]
  },
  {
   "cell_type": "code",
   "execution_count": 55,
   "metadata": {
    "collapsed": false
   },
   "outputs": [
    {
     "data": {
      "text/plain": [
       "(70675418, 11)"
      ]
     },
     "execution_count": 55,
     "metadata": {},
     "output_type": "execute_result"
    }
   ],
   "source": [
    "res.shape"
   ]
  },
  {
   "cell_type": "markdown",
   "metadata": {},
   "source": [
    "#### Step 4. Now delete those rows that StopID should not in that JourneyPatternID"
   ]
  },
  {
   "cell_type": "code",
   "execution_count": 56,
   "metadata": {
    "collapsed": false,
    "scrolled": true
   },
   "outputs": [
    {
     "data": {
      "text/html": [
       "<div>\n",
       "<style>\n",
       "    .dataframe thead tr:only-child th {\n",
       "        text-align: right;\n",
       "    }\n",
       "\n",
       "    .dataframe thead th {\n",
       "        text-align: left;\n",
       "    }\n",
       "\n",
       "    .dataframe tbody tr th {\n",
       "        vertical-align: top;\n",
       "    }\n",
       "</style>\n",
       "<table border=\"1\" class=\"dataframe\">\n",
       "  <thead>\n",
       "    <tr style=\"text-align: right;\">\n",
       "      <th></th>\n",
       "      <th>JourneyPatternID</th>\n",
       "      <th>StopID</th>\n",
       "    </tr>\n",
       "  </thead>\n",
       "  <tbody>\n",
       "    <tr>\n",
       "      <th>0</th>\n",
       "      <td>00010003</td>\n",
       "      <td>0265</td>\n",
       "    </tr>\n",
       "    <tr>\n",
       "      <th>1</th>\n",
       "      <td>00010003</td>\n",
       "      <td>0271</td>\n",
       "    </tr>\n",
       "    <tr>\n",
       "      <th>2</th>\n",
       "      <td>00010003</td>\n",
       "      <td>0340</td>\n",
       "    </tr>\n",
       "    <tr>\n",
       "      <th>3</th>\n",
       "      <td>00010003</td>\n",
       "      <td>0350</td>\n",
       "    </tr>\n",
       "    <tr>\n",
       "      <th>4</th>\n",
       "      <td>00010003</td>\n",
       "      <td>0351</td>\n",
       "    </tr>\n",
       "    <tr>\n",
       "      <th>5</th>\n",
       "      <td>00010003</td>\n",
       "      <td>0352</td>\n",
       "    </tr>\n",
       "    <tr>\n",
       "      <th>6</th>\n",
       "      <td>00010003</td>\n",
       "      <td>0353</td>\n",
       "    </tr>\n",
       "    <tr>\n",
       "      <th>7</th>\n",
       "      <td>00010003</td>\n",
       "      <td>0354</td>\n",
       "    </tr>\n",
       "    <tr>\n",
       "      <th>8</th>\n",
       "      <td>00010003</td>\n",
       "      <td>0355</td>\n",
       "    </tr>\n",
       "    <tr>\n",
       "      <th>9</th>\n",
       "      <td>00010003</td>\n",
       "      <td>0356</td>\n",
       "    </tr>\n",
       "    <tr>\n",
       "      <th>10</th>\n",
       "      <td>00010003</td>\n",
       "      <td>0357</td>\n",
       "    </tr>\n",
       "    <tr>\n",
       "      <th>11</th>\n",
       "      <td>00010003</td>\n",
       "      <td>0372</td>\n",
       "    </tr>\n",
       "    <tr>\n",
       "      <th>12</th>\n",
       "      <td>00010003</td>\n",
       "      <td>0373</td>\n",
       "    </tr>\n",
       "    <tr>\n",
       "      <th>13</th>\n",
       "      <td>00010003</td>\n",
       "      <td>0374</td>\n",
       "    </tr>\n",
       "    <tr>\n",
       "      <th>14</th>\n",
       "      <td>00010003</td>\n",
       "      <td>0375</td>\n",
       "    </tr>\n",
       "    <tr>\n",
       "      <th>15</th>\n",
       "      <td>00010003</td>\n",
       "      <td>0376</td>\n",
       "    </tr>\n",
       "    <tr>\n",
       "      <th>16</th>\n",
       "      <td>00010003</td>\n",
       "      <td>0377</td>\n",
       "    </tr>\n",
       "    <tr>\n",
       "      <th>17</th>\n",
       "      <td>00010003</td>\n",
       "      <td>0378</td>\n",
       "    </tr>\n",
       "    <tr>\n",
       "      <th>18</th>\n",
       "      <td>00010003</td>\n",
       "      <td>0380</td>\n",
       "    </tr>\n",
       "    <tr>\n",
       "      <th>19</th>\n",
       "      <td>00010003</td>\n",
       "      <td>0390</td>\n",
       "    </tr>\n",
       "    <tr>\n",
       "      <th>20</th>\n",
       "      <td>00010003</td>\n",
       "      <td>2804</td>\n",
       "    </tr>\n",
       "    <tr>\n",
       "      <th>21</th>\n",
       "      <td>00010001</td>\n",
       "      <td>0010</td>\n",
       "    </tr>\n",
       "    <tr>\n",
       "      <th>22</th>\n",
       "      <td>00010001</td>\n",
       "      <td>0012</td>\n",
       "    </tr>\n",
       "    <tr>\n",
       "      <th>23</th>\n",
       "      <td>00010001</td>\n",
       "      <td>0014</td>\n",
       "    </tr>\n",
       "    <tr>\n",
       "      <th>24</th>\n",
       "      <td>00010001</td>\n",
       "      <td>0015</td>\n",
       "    </tr>\n",
       "    <tr>\n",
       "      <th>25</th>\n",
       "      <td>00010001</td>\n",
       "      <td>0017</td>\n",
       "    </tr>\n",
       "    <tr>\n",
       "      <th>26</th>\n",
       "      <td>00010001</td>\n",
       "      <td>0018</td>\n",
       "    </tr>\n",
       "    <tr>\n",
       "      <th>27</th>\n",
       "      <td>00010001</td>\n",
       "      <td>0019</td>\n",
       "    </tr>\n",
       "    <tr>\n",
       "      <th>28</th>\n",
       "      <td>00010001</td>\n",
       "      <td>0021</td>\n",
       "    </tr>\n",
       "    <tr>\n",
       "      <th>29</th>\n",
       "      <td>00010001</td>\n",
       "      <td>0085</td>\n",
       "    </tr>\n",
       "    <tr>\n",
       "      <th>...</th>\n",
       "      <td>...</td>\n",
       "      <td>...</td>\n",
       "    </tr>\n",
       "    <tr>\n",
       "      <th>5612</th>\n",
       "      <td>084X1001</td>\n",
       "      <td>2060</td>\n",
       "    </tr>\n",
       "    <tr>\n",
       "      <th>5613</th>\n",
       "      <td>084X1001</td>\n",
       "      <td>2062</td>\n",
       "    </tr>\n",
       "    <tr>\n",
       "      <th>5614</th>\n",
       "      <td>084X1001</td>\n",
       "      <td>2064</td>\n",
       "    </tr>\n",
       "    <tr>\n",
       "      <th>5615</th>\n",
       "      <td>084X1001</td>\n",
       "      <td>3143</td>\n",
       "    </tr>\n",
       "    <tr>\n",
       "      <th>5616</th>\n",
       "      <td>084X1001</td>\n",
       "      <td>3144</td>\n",
       "    </tr>\n",
       "    <tr>\n",
       "      <th>5617</th>\n",
       "      <td>084X1001</td>\n",
       "      <td>3145</td>\n",
       "    </tr>\n",
       "    <tr>\n",
       "      <th>5618</th>\n",
       "      <td>084X1001</td>\n",
       "      <td>4253</td>\n",
       "    </tr>\n",
       "    <tr>\n",
       "      <th>5619</th>\n",
       "      <td>084X1001</td>\n",
       "      <td>4260</td>\n",
       "    </tr>\n",
       "    <tr>\n",
       "      <th>5620</th>\n",
       "      <td>084X1001</td>\n",
       "      <td>4266</td>\n",
       "    </tr>\n",
       "    <tr>\n",
       "      <th>5621</th>\n",
       "      <td>084X1001</td>\n",
       "      <td>4268</td>\n",
       "    </tr>\n",
       "    <tr>\n",
       "      <th>5622</th>\n",
       "      <td>084X1001</td>\n",
       "      <td>4273</td>\n",
       "    </tr>\n",
       "    <tr>\n",
       "      <th>5623</th>\n",
       "      <td>084X1001</td>\n",
       "      <td>4277</td>\n",
       "    </tr>\n",
       "    <tr>\n",
       "      <th>5624</th>\n",
       "      <td>084X1001</td>\n",
       "      <td>4281</td>\n",
       "    </tr>\n",
       "    <tr>\n",
       "      <th>5625</th>\n",
       "      <td>084X1001</td>\n",
       "      <td>4283</td>\n",
       "    </tr>\n",
       "    <tr>\n",
       "      <th>5626</th>\n",
       "      <td>084X1001</td>\n",
       "      <td>4284</td>\n",
       "    </tr>\n",
       "    <tr>\n",
       "      <th>5627</th>\n",
       "      <td>084X1001</td>\n",
       "      <td>4295</td>\n",
       "    </tr>\n",
       "    <tr>\n",
       "      <th>5628</th>\n",
       "      <td>084X1001</td>\n",
       "      <td>4296</td>\n",
       "    </tr>\n",
       "    <tr>\n",
       "      <th>5629</th>\n",
       "      <td>084X1001</td>\n",
       "      <td>4301</td>\n",
       "    </tr>\n",
       "    <tr>\n",
       "      <th>5630</th>\n",
       "      <td>084X1001</td>\n",
       "      <td>4302</td>\n",
       "    </tr>\n",
       "    <tr>\n",
       "      <th>5631</th>\n",
       "      <td>084X1001</td>\n",
       "      <td>4590</td>\n",
       "    </tr>\n",
       "    <tr>\n",
       "      <th>5632</th>\n",
       "      <td>084X1001</td>\n",
       "      <td>4591</td>\n",
       "    </tr>\n",
       "    <tr>\n",
       "      <th>5633</th>\n",
       "      <td>084X1001</td>\n",
       "      <td>4727</td>\n",
       "    </tr>\n",
       "    <tr>\n",
       "      <th>5634</th>\n",
       "      <td>084X1001</td>\n",
       "      <td>4842</td>\n",
       "    </tr>\n",
       "    <tr>\n",
       "      <th>5635</th>\n",
       "      <td>084X1001</td>\n",
       "      <td>5128</td>\n",
       "    </tr>\n",
       "    <tr>\n",
       "      <th>5636</th>\n",
       "      <td>084X1001</td>\n",
       "      <td>7296</td>\n",
       "    </tr>\n",
       "    <tr>\n",
       "      <th>5637</th>\n",
       "      <td>084X1001</td>\n",
       "      <td>7366</td>\n",
       "    </tr>\n",
       "    <tr>\n",
       "      <th>5638</th>\n",
       "      <td>084X1001</td>\n",
       "      <td>7367</td>\n",
       "    </tr>\n",
       "    <tr>\n",
       "      <th>5639</th>\n",
       "      <td>084X1001</td>\n",
       "      <td>7368</td>\n",
       "    </tr>\n",
       "    <tr>\n",
       "      <th>5640</th>\n",
       "      <td>084X1001</td>\n",
       "      <td>7461</td>\n",
       "    </tr>\n",
       "    <tr>\n",
       "      <th>5641</th>\n",
       "      <td>084X1001</td>\n",
       "      <td>7462</td>\n",
       "    </tr>\n",
       "  </tbody>\n",
       "</table>\n",
       "<p>5642 rows × 2 columns</p>\n",
       "</div>"
      ],
      "text/plain": [
       "     JourneyPatternID StopID\n",
       "0            00010003   0265\n",
       "1            00010003   0271\n",
       "2            00010003   0340\n",
       "3            00010003   0350\n",
       "4            00010003   0351\n",
       "5            00010003   0352\n",
       "6            00010003   0353\n",
       "7            00010003   0354\n",
       "8            00010003   0355\n",
       "9            00010003   0356\n",
       "10           00010003   0357\n",
       "11           00010003   0372\n",
       "12           00010003   0373\n",
       "13           00010003   0374\n",
       "14           00010003   0375\n",
       "15           00010003   0376\n",
       "16           00010003   0377\n",
       "17           00010003   0378\n",
       "18           00010003   0380\n",
       "19           00010003   0390\n",
       "20           00010003   2804\n",
       "21           00010001   0010\n",
       "22           00010001   0012\n",
       "23           00010001   0014\n",
       "24           00010001   0015\n",
       "25           00010001   0017\n",
       "26           00010001   0018\n",
       "27           00010001   0019\n",
       "28           00010001   0021\n",
       "29           00010001   0085\n",
       "...               ...    ...\n",
       "5612         084X1001   2060\n",
       "5613         084X1001   2062\n",
       "5614         084X1001   2064\n",
       "5615         084X1001   3143\n",
       "5616         084X1001   3144\n",
       "5617         084X1001   3145\n",
       "5618         084X1001   4253\n",
       "5619         084X1001   4260\n",
       "5620         084X1001   4266\n",
       "5621         084X1001   4268\n",
       "5622         084X1001   4273\n",
       "5623         084X1001   4277\n",
       "5624         084X1001   4281\n",
       "5625         084X1001   4283\n",
       "5626         084X1001   4284\n",
       "5627         084X1001   4295\n",
       "5628         084X1001   4296\n",
       "5629         084X1001   4301\n",
       "5630         084X1001   4302\n",
       "5631         084X1001   4590\n",
       "5632         084X1001   4591\n",
       "5633         084X1001   4727\n",
       "5634         084X1001   4842\n",
       "5635         084X1001   5128\n",
       "5636         084X1001   7296\n",
       "5637         084X1001   7366\n",
       "5638         084X1001   7367\n",
       "5639         084X1001   7368\n",
       "5640         084X1001   7461\n",
       "5641         084X1001   7462\n",
       "\n",
       "[5642 rows x 2 columns]"
      ]
     },
     "execution_count": 56,
     "metadata": {},
     "output_type": "execute_result"
    }
   ],
   "source": [
    "# Base on the mapping made before we can know what StopID should on that routes\n",
    "# Before we already get the shape_id to its StopID sequence, so we use this as basic\n",
    "#transit_shapeID_stopID\n",
    "# Add JourneyPatternID column\n",
    "map_JPID_to_stopID = pd.merge(transit_shapeID_stopID, map_JPId_shapeID, on='shape_id', how='inner')\n",
    "map_JPID_to_stopID = map_JPID_to_stopID.loc[:,['JourneyPatternID', 'StopID']]\n",
    "map_JPID_to_stopID"
   ]
  },
  {
   "cell_type": "markdown",
   "metadata": {},
   "source": [
    "#### 0720 revised\n",
    "Split into 2 situation. For those JourneyPatternID certainly can map to certain trip_id, we delete those StopID should not on that JouurneyPatternID. Others, we still use the way to delete outlier to judge if need to be remove."
   ]
  },
  {
   "cell_type": "markdown",
   "metadata": {},
   "source": [
    "#### First sub-set: JourneyPatternID can map to certain trip_id"
   ]
  },
  {
   "cell_type": "code",
   "execution_count": 57,
   "metadata": {
    "collapsed": false
   },
   "outputs": [
    {
     "data": {
      "text/plain": [
       "(5554681, 11)"
      ]
     },
     "execution_count": 57,
     "metadata": {},
     "output_type": "execute_result"
    }
   ],
   "source": [
    "# Get those JPID can map to trip_id\n",
    "can_map = map_JPID_to_stopID['JourneyPatternID'].unique()\n",
    "res_sub1 = res[res.JourneyPatternID.isin(can_map)]\n",
    "res_sub1.shape"
   ]
  },
  {
   "cell_type": "code",
   "execution_count": 58,
   "metadata": {
    "collapsed": false,
    "scrolled": true
   },
   "outputs": [
    {
     "data": {
      "text/html": [
       "<div>\n",
       "<style>\n",
       "    .dataframe thead tr:only-child th {\n",
       "        text-align: right;\n",
       "    }\n",
       "\n",
       "    .dataframe thead th {\n",
       "        text-align: left;\n",
       "    }\n",
       "\n",
       "    .dataframe tbody tr th {\n",
       "        vertical-align: top;\n",
       "    }\n",
       "</style>\n",
       "<table border=\"1\" class=\"dataframe\">\n",
       "  <thead>\n",
       "    <tr style=\"text-align: right;\">\n",
       "      <th></th>\n",
       "      <th>Timestamp</th>\n",
       "      <th>JourneyPatternID</th>\n",
       "      <th>TimeFrame</th>\n",
       "      <th>VehicleJourneyID</th>\n",
       "      <th>Lon</th>\n",
       "      <th>Lat</th>\n",
       "      <th>VehicleID</th>\n",
       "      <th>StopID</th>\n",
       "      <th>AtStop</th>\n",
       "      <th>Day</th>\n",
       "      <th>Route</th>\n",
       "    </tr>\n",
       "  </thead>\n",
       "  <tbody>\n",
       "    <tr>\n",
       "      <th>0</th>\n",
       "      <td>2013-01-30 19:03:05</td>\n",
       "      <td>00131003</td>\n",
       "      <td>2013-01-30</td>\n",
       "      <td>3356</td>\n",
       "      <td>-6.280505</td>\n",
       "      <td>53.343040</td>\n",
       "      <td>33408</td>\n",
       "      <td>1998</td>\n",
       "      <td>True</td>\n",
       "      <td>Wednesday</td>\n",
       "      <td>0013</td>\n",
       "    </tr>\n",
       "    <tr>\n",
       "      <th>1</th>\n",
       "      <td>2013-01-30 19:03:05</td>\n",
       "      <td>00131003</td>\n",
       "      <td>2013-01-30</td>\n",
       "      <td>3356</td>\n",
       "      <td>-6.280505</td>\n",
       "      <td>53.343040</td>\n",
       "      <td>33408</td>\n",
       "      <td>1998</td>\n",
       "      <td>True</td>\n",
       "      <td>Wednesday</td>\n",
       "      <td>0013</td>\n",
       "    </tr>\n",
       "    <tr>\n",
       "      <th>2</th>\n",
       "      <td>2013-01-30 19:03:23</td>\n",
       "      <td>00131003</td>\n",
       "      <td>2013-01-30</td>\n",
       "      <td>3356</td>\n",
       "      <td>-6.279584</td>\n",
       "      <td>53.342880</td>\n",
       "      <td>33408</td>\n",
       "      <td>1998</td>\n",
       "      <td>False</td>\n",
       "      <td>Wednesday</td>\n",
       "      <td>0013</td>\n",
       "    </tr>\n",
       "    <tr>\n",
       "      <th>3</th>\n",
       "      <td>2013-01-30 19:03:23</td>\n",
       "      <td>00131003</td>\n",
       "      <td>2013-01-30</td>\n",
       "      <td>3356</td>\n",
       "      <td>-6.279584</td>\n",
       "      <td>53.342880</td>\n",
       "      <td>33408</td>\n",
       "      <td>1998</td>\n",
       "      <td>False</td>\n",
       "      <td>Wednesday</td>\n",
       "      <td>0013</td>\n",
       "    </tr>\n",
       "    <tr>\n",
       "      <th>4</th>\n",
       "      <td>2013-01-30 19:03:44</td>\n",
       "      <td>00131003</td>\n",
       "      <td>2013-01-30</td>\n",
       "      <td>3356</td>\n",
       "      <td>-6.279526</td>\n",
       "      <td>53.342869</td>\n",
       "      <td>33408</td>\n",
       "      <td>1998</td>\n",
       "      <td>False</td>\n",
       "      <td>Wednesday</td>\n",
       "      <td>0013</td>\n",
       "    </tr>\n",
       "    <tr>\n",
       "      <th>5</th>\n",
       "      <td>2013-01-30 19:03:44</td>\n",
       "      <td>00131003</td>\n",
       "      <td>2013-01-30</td>\n",
       "      <td>3356</td>\n",
       "      <td>-6.279526</td>\n",
       "      <td>53.342869</td>\n",
       "      <td>33408</td>\n",
       "      <td>1998</td>\n",
       "      <td>False</td>\n",
       "      <td>Wednesday</td>\n",
       "      <td>0013</td>\n",
       "    </tr>\n",
       "    <tr>\n",
       "      <th>6</th>\n",
       "      <td>2013-01-30 19:04:04</td>\n",
       "      <td>00131003</td>\n",
       "      <td>2013-01-30</td>\n",
       "      <td>3356</td>\n",
       "      <td>-6.277749</td>\n",
       "      <td>53.342812</td>\n",
       "      <td>33408</td>\n",
       "      <td>1998</td>\n",
       "      <td>False</td>\n",
       "      <td>Wednesday</td>\n",
       "      <td>0013</td>\n",
       "    </tr>\n",
       "    <tr>\n",
       "      <th>7</th>\n",
       "      <td>2013-01-30 19:04:04</td>\n",
       "      <td>00131003</td>\n",
       "      <td>2013-01-30</td>\n",
       "      <td>3356</td>\n",
       "      <td>-6.277749</td>\n",
       "      <td>53.342812</td>\n",
       "      <td>33408</td>\n",
       "      <td>1998</td>\n",
       "      <td>False</td>\n",
       "      <td>Wednesday</td>\n",
       "      <td>0013</td>\n",
       "    </tr>\n",
       "    <tr>\n",
       "      <th>8</th>\n",
       "      <td>2013-01-30 19:04:25</td>\n",
       "      <td>00131003</td>\n",
       "      <td>2013-01-30</td>\n",
       "      <td>3356</td>\n",
       "      <td>-6.275193</td>\n",
       "      <td>53.343319</td>\n",
       "      <td>33408</td>\n",
       "      <td>1998</td>\n",
       "      <td>False</td>\n",
       "      <td>Wednesday</td>\n",
       "      <td>0013</td>\n",
       "    </tr>\n",
       "    <tr>\n",
       "      <th>9</th>\n",
       "      <td>2013-01-30 19:04:25</td>\n",
       "      <td>00131003</td>\n",
       "      <td>2013-01-30</td>\n",
       "      <td>3356</td>\n",
       "      <td>-6.275193</td>\n",
       "      <td>53.343319</td>\n",
       "      <td>33408</td>\n",
       "      <td>1998</td>\n",
       "      <td>False</td>\n",
       "      <td>Wednesday</td>\n",
       "      <td>0013</td>\n",
       "    </tr>\n",
       "  </tbody>\n",
       "</table>\n",
       "</div>"
      ],
      "text/plain": [
       "            Timestamp JourneyPatternID  TimeFrame VehicleJourneyID       Lon  \\\n",
       "0 2013-01-30 19:03:05         00131003 2013-01-30             3356 -6.280505   \n",
       "1 2013-01-30 19:03:05         00131003 2013-01-30             3356 -6.280505   \n",
       "2 2013-01-30 19:03:23         00131003 2013-01-30             3356 -6.279584   \n",
       "3 2013-01-30 19:03:23         00131003 2013-01-30             3356 -6.279584   \n",
       "4 2013-01-30 19:03:44         00131003 2013-01-30             3356 -6.279526   \n",
       "5 2013-01-30 19:03:44         00131003 2013-01-30             3356 -6.279526   \n",
       "6 2013-01-30 19:04:04         00131003 2013-01-30             3356 -6.277749   \n",
       "7 2013-01-30 19:04:04         00131003 2013-01-30             3356 -6.277749   \n",
       "8 2013-01-30 19:04:25         00131003 2013-01-30             3356 -6.275193   \n",
       "9 2013-01-30 19:04:25         00131003 2013-01-30             3356 -6.275193   \n",
       "\n",
       "         Lat VehicleID StopID  AtStop        Day Route  \n",
       "0  53.343040     33408   1998    True  Wednesday  0013  \n",
       "1  53.343040     33408   1998    True  Wednesday  0013  \n",
       "2  53.342880     33408   1998   False  Wednesday  0013  \n",
       "3  53.342880     33408   1998   False  Wednesday  0013  \n",
       "4  53.342869     33408   1998   False  Wednesday  0013  \n",
       "5  53.342869     33408   1998   False  Wednesday  0013  \n",
       "6  53.342812     33408   1998   False  Wednesday  0013  \n",
       "7  53.342812     33408   1998   False  Wednesday  0013  \n",
       "8  53.343319     33408   1998   False  Wednesday  0013  \n",
       "9  53.343319     33408   1998   False  Wednesday  0013  "
      ]
     },
     "execution_count": 58,
     "metadata": {},
     "output_type": "execute_result"
    }
   ],
   "source": [
    "# Now start to delete\n",
    "# merge res and map_JPID_to_stopID\n",
    "\n",
    "res_sub1 = pd.merge(res_sub1, map_JPID_to_stopID, on=['JourneyPatternID','StopID'], how='inner')\n",
    "res_sub1.head(10)"
   ]
  },
  {
   "cell_type": "code",
   "execution_count": 59,
   "metadata": {
    "collapsed": false,
    "scrolled": true
   },
   "outputs": [
    {
     "data": {
      "text/plain": [
       "(5069620, 11)"
      ]
     },
     "execution_count": 59,
     "metadata": {},
     "output_type": "execute_result"
    }
   ],
   "source": [
    "res_sub1.shape"
   ]
  },
  {
   "cell_type": "markdown",
   "metadata": {
    "collapsed": true
   },
   "source": [
    "#### Second sub-set: If cannot map to any JournayPatternID\n",
    "In version 3, use the outlier mean - 1.5*IQR to delete the outlier. In this version, for those JourneyPatternID not sure map to which trip_id we use \"mean - 1.5*IQR\" to delete the outlier."
   ]
  },
  {
   "cell_type": "code",
   "execution_count": 60,
   "metadata": {
    "collapsed": false
   },
   "outputs": [
    {
     "data": {
      "text/plain": [
       "(65120737, 11)"
      ]
     },
     "execution_count": 60,
     "metadata": {},
     "output_type": "execute_result"
    }
   ],
   "source": [
    "res_sub2 = res[~res.JourneyPatternID.isin(can_map)]\n",
    "res_sub2.shape"
   ]
  },
  {
   "cell_type": "code",
   "execution_count": 61,
   "metadata": {
    "collapsed": true
   },
   "outputs": [],
   "source": [
    "# Count how many times that StopID occurs in the certain JourneyPatternID\n",
    "\n",
    "gb = res_sub2.groupby(['JourneyPatternID', 'StopID'])\n",
    "idx = pd.DataFrame(gb['AtStop'].count())"
   ]
  },
  {
   "cell_type": "code",
   "execution_count": 62,
   "metadata": {
    "collapsed": true
   },
   "outputs": [],
   "source": [
    "# Set index back to data\n",
    "\n",
    "idx.reset_index(['JourneyPatternID', 'StopID'], inplace=True)\n",
    "\n",
    "# Rename column\n",
    "\n",
    "idx = idx.rename(columns = {'AtStop':'AtStopCount'})"
   ]
  },
  {
   "cell_type": "code",
   "execution_count": 63,
   "metadata": {
    "collapsed": true
   },
   "outputs": [],
   "source": [
    "# In order to find the outlier, here calculate the mean and IQR of that JourneyPatternID + StopID\n",
    "\n",
    "gb2 = idx.groupby(['JourneyPatternID'])\n",
    "gb2count =  gb2['AtStopCount'].mean()\n",
    "gb2q =  gb2['AtStopCount'].quantile(.75) - gb2['AtStopCount'].quantile(.25)\n",
    "idx2 = pd.concat([pd.DataFrame(gb2count),pd.DataFrame(gb2q)], axis=1)\n",
    "\n",
    "# In order to merge with idx, here set JourneyPatternID back to data\n",
    "\n",
    "idx2.reset_index(['JourneyPatternID'], inplace=True)\n",
    "idx2.columns = ['JourneyPatternID', 'AtStopCountMean', 'AtStopCountIQR']"
   ]
  },
  {
   "cell_type": "code",
   "execution_count": 64,
   "metadata": {
    "collapsed": true
   },
   "outputs": [],
   "source": [
    "# Calculate mean - 2 * IQR\n",
    "\n",
    "idx2['AtStopCountLowerBound'] = idx2['AtStopCountMean'] - 2* idx2['AtStopCountIQR']"
   ]
  },
  {
   "cell_type": "code",
   "execution_count": 65,
   "metadata": {
    "collapsed": true
   },
   "outputs": [],
   "source": [
    "# Compare the time that StopID occurs of its JourneyPatternID with the lowerbound\n",
    "\n",
    "merge = pd.merge(idx, idx2, on=['JourneyPatternID'], how='outer')\n",
    "\n",
    "# merge will only keep those JourneyPatternID + StopID is outlier\n",
    "\n",
    "merge = merge[merge['AtStopCount'] < merge['AtStopCountLowerBound']]\n",
    "\n",
    "# Clean up..\n",
    "\n",
    "merge.drop(['AtStopCount', 'AtStopCountMean', 'AtStopCountIQR'], axis=1, inplace=True)"
   ]
  },
  {
   "cell_type": "code",
   "execution_count": 66,
   "metadata": {
    "collapsed": false
   },
   "outputs": [
    {
     "name": "stderr",
     "output_type": "stream",
     "text": [
      "/Users/EmmaChang/anaconda/lib/python3.6/site-packages/ipykernel_launcher.py:8: SettingWithCopyWarning: \n",
      "A value is trying to be set on a copy of a slice from a DataFrame\n",
      "\n",
      "See the caveats in the documentation: http://pandas.pydata.org/pandas-docs/stable/indexing.html#indexing-view-versus-copy\n",
      "  \n"
     ]
    }
   ],
   "source": [
    "# Merge with res, then those AtStopCountLowerBound is null should be kept\n",
    "\n",
    "merge2 = pd.merge(res_sub2, merge, on=['JourneyPatternID', 'StopID'], how='outer',suffixes='OA')\n",
    "res_sub2 = merge2[merge2['AtStopCountLowerBound'].isnull()]\n",
    "\n",
    "# Clean up\n",
    "\n",
    "res_sub2.drop('AtStopCountLowerBound', axis=1, inplace=True)\n",
    "del merge, merge2"
   ]
  },
  {
   "cell_type": "code",
   "execution_count": 67,
   "metadata": {
    "collapsed": false
   },
   "outputs": [
    {
     "data": {
      "text/html": [
       "<div>\n",
       "<style>\n",
       "    .dataframe thead tr:only-child th {\n",
       "        text-align: right;\n",
       "    }\n",
       "\n",
       "    .dataframe thead th {\n",
       "        text-align: left;\n",
       "    }\n",
       "\n",
       "    .dataframe tbody tr th {\n",
       "        vertical-align: top;\n",
       "    }\n",
       "</style>\n",
       "<table border=\"1\" class=\"dataframe\">\n",
       "  <thead>\n",
       "    <tr style=\"text-align: right;\">\n",
       "      <th></th>\n",
       "      <th>Timestamp</th>\n",
       "      <th>JourneyPatternID</th>\n",
       "      <th>TimeFrame</th>\n",
       "      <th>VehicleJourneyID</th>\n",
       "      <th>Lon</th>\n",
       "      <th>Lat</th>\n",
       "      <th>VehicleID</th>\n",
       "      <th>StopID</th>\n",
       "      <th>AtStop</th>\n",
       "      <th>Day</th>\n",
       "      <th>Route</th>\n",
       "    </tr>\n",
       "  </thead>\n",
       "  <tbody>\n",
       "    <tr>\n",
       "      <th>0</th>\n",
       "      <td>2013-01-30 19:03:05</td>\n",
       "      <td>00131003</td>\n",
       "      <td>2013-01-30</td>\n",
       "      <td>3356</td>\n",
       "      <td>-6.280505</td>\n",
       "      <td>53.343040</td>\n",
       "      <td>33408</td>\n",
       "      <td>1998</td>\n",
       "      <td>True</td>\n",
       "      <td>Wednesday</td>\n",
       "      <td>0013</td>\n",
       "    </tr>\n",
       "    <tr>\n",
       "      <th>1</th>\n",
       "      <td>2013-01-30 19:03:05</td>\n",
       "      <td>00131003</td>\n",
       "      <td>2013-01-30</td>\n",
       "      <td>3356</td>\n",
       "      <td>-6.280505</td>\n",
       "      <td>53.343040</td>\n",
       "      <td>33408</td>\n",
       "      <td>1998</td>\n",
       "      <td>True</td>\n",
       "      <td>Wednesday</td>\n",
       "      <td>0013</td>\n",
       "    </tr>\n",
       "    <tr>\n",
       "      <th>2</th>\n",
       "      <td>2013-01-30 19:03:23</td>\n",
       "      <td>00131003</td>\n",
       "      <td>2013-01-30</td>\n",
       "      <td>3356</td>\n",
       "      <td>-6.279584</td>\n",
       "      <td>53.342880</td>\n",
       "      <td>33408</td>\n",
       "      <td>1998</td>\n",
       "      <td>False</td>\n",
       "      <td>Wednesday</td>\n",
       "      <td>0013</td>\n",
       "    </tr>\n",
       "    <tr>\n",
       "      <th>3</th>\n",
       "      <td>2013-01-30 19:03:23</td>\n",
       "      <td>00131003</td>\n",
       "      <td>2013-01-30</td>\n",
       "      <td>3356</td>\n",
       "      <td>-6.279584</td>\n",
       "      <td>53.342880</td>\n",
       "      <td>33408</td>\n",
       "      <td>1998</td>\n",
       "      <td>False</td>\n",
       "      <td>Wednesday</td>\n",
       "      <td>0013</td>\n",
       "    </tr>\n",
       "    <tr>\n",
       "      <th>4</th>\n",
       "      <td>2013-01-30 19:03:44</td>\n",
       "      <td>00131003</td>\n",
       "      <td>2013-01-30</td>\n",
       "      <td>3356</td>\n",
       "      <td>-6.279526</td>\n",
       "      <td>53.342869</td>\n",
       "      <td>33408</td>\n",
       "      <td>1998</td>\n",
       "      <td>False</td>\n",
       "      <td>Wednesday</td>\n",
       "      <td>0013</td>\n",
       "    </tr>\n",
       "  </tbody>\n",
       "</table>\n",
       "</div>"
      ],
      "text/plain": [
       "            Timestamp JourneyPatternID  TimeFrame VehicleJourneyID       Lon  \\\n",
       "0 2013-01-30 19:03:05         00131003 2013-01-30             3356 -6.280505   \n",
       "1 2013-01-30 19:03:05         00131003 2013-01-30             3356 -6.280505   \n",
       "2 2013-01-30 19:03:23         00131003 2013-01-30             3356 -6.279584   \n",
       "3 2013-01-30 19:03:23         00131003 2013-01-30             3356 -6.279584   \n",
       "4 2013-01-30 19:03:44         00131003 2013-01-30             3356 -6.279526   \n",
       "\n",
       "         Lat VehicleID StopID  AtStop        Day Route  \n",
       "0  53.343040     33408   1998    True  Wednesday  0013  \n",
       "1  53.343040     33408   1998    True  Wednesday  0013  \n",
       "2  53.342880     33408   1998   False  Wednesday  0013  \n",
       "3  53.342880     33408   1998   False  Wednesday  0013  \n",
       "4  53.342869     33408   1998   False  Wednesday  0013  "
      ]
     },
     "execution_count": 67,
     "metadata": {},
     "output_type": "execute_result"
    }
   ],
   "source": [
    "# Concat two files together\n",
    "\n",
    "res = pd.concat([res_sub1, res_sub2], axis=0)\n",
    "res.head(5)"
   ]
  },
  {
   "cell_type": "code",
   "execution_count": 68,
   "metadata": {
    "collapsed": true
   },
   "outputs": [],
   "source": [
    "res.reset_index(inplace=True)\n",
    "res.to_feather('stage_two_clean_part_one.feather')"
   ]
  },
  {
   "cell_type": "code",
   "execution_count": 72,
   "metadata": {
    "collapsed": false
   },
   "outputs": [
    {
     "data": {
      "text/plain": [
       "(70177566, 12)"
      ]
     },
     "execution_count": 72,
     "metadata": {},
     "output_type": "execute_result"
    }
   ],
   "source": [
    "res.shape"
   ]
  },
  {
   "cell_type": "markdown",
   "metadata": {},
   "source": [
    "### Part III. "
   ]
  },
  {
   "cell_type": "markdown",
   "metadata": {},
   "source": [
    "#### 1. Delete those rows of same TimeFrame + JourneyPatternID  +  VehicleJourneyID which unique StopID under n.\n",
    "* 0711: Delete those rows of same TimeFrame + JourneyPatternID + VehicleJourneyID + VehicleID occurance under n times. test n = 10\n",
    "* 0806 revised:TimeFrame + JourneyPatternID  +  VehicleJourneyID which unique StopID under n. n = 5"
   ]
  },
  {
   "cell_type": "code",
   "execution_count": 73,
   "metadata": {
    "collapsed": true
   },
   "outputs": [],
   "source": [
    "gb = res.groupby(['TimeFrame', 'JourneyPatternID', 'VehicleJourneyID'])"
   ]
  },
  {
   "cell_type": "code",
   "execution_count": 74,
   "metadata": {
    "collapsed": true
   },
   "outputs": [],
   "source": [
    "# Delete those count is less than 10\n",
    "\n",
    "gbcount = gb.StopID.nunique()\n",
    "idx = pd.DataFrame(gbcount[gbcount < 5])"
   ]
  },
  {
   "cell_type": "code",
   "execution_count": 75,
   "metadata": {
    "collapsed": true
   },
   "outputs": [],
   "source": [
    "# Set the index back to data\n",
    "\n",
    "idx.reset_index(['TimeFrame', 'JourneyPatternID', 'VehicleJourneyID'], inplace=True)"
   ]
  },
  {
   "cell_type": "code",
   "execution_count": 76,
   "metadata": {
    "collapsed": false
   },
   "outputs": [
    {
     "name": "stderr",
     "output_type": "stream",
     "text": [
      "/Users/EmmaChang/anaconda/lib/python3.6/site-packages/ipykernel_launcher.py:11: SettingWithCopyWarning: \n",
      "A value is trying to be set on a copy of a slice from a DataFrame\n",
      "\n",
      "See the caveats in the documentation: http://pandas.pydata.org/pandas-docs/stable/indexing.html#indexing-view-versus-copy\n",
      "  # This is added back by InteractiveShellApp.init_path()\n"
     ]
    }
   ],
   "source": [
    "# Merge back to res to see which one should be keep\n",
    "\n",
    "merge = pd.merge(res, idx, on=['TimeFrame', 'JourneyPatternID', 'VehicleJourneyID'], how='outer',suffixes='oa')\n",
    "\n",
    "# If null means that row should keep\n",
    "\n",
    "res = merge[merge['StopIDa'].isnull()]\n",
    "\n",
    "# Clean up\n",
    "\n",
    "res.drop('StopIDa', axis=1, inplace=True)\n",
    "res = res.rename(columns = {'StopIDo':'StopID'})\n",
    "del merge"
   ]
  },
  {
   "cell_type": "markdown",
   "metadata": {},
   "source": [
    "#### 2. Delete those rows of same TimeFrame + VehicleJourneyID  but exist over one JourneyPatternID"
   ]
  },
  {
   "cell_type": "code",
   "execution_count": 77,
   "metadata": {
    "collapsed": true,
    "scrolled": true
   },
   "outputs": [],
   "source": [
    "# Due to make following function work need to change datatype here\n",
    "\n",
    "res[\"JourneyPatternID\"] = res[\"JourneyPatternID\"].astype(\"object\")\n",
    "\n",
    "# Check how many unique JourneyPatternID under that group (if over 1 is abnormal)\n",
    "\n",
    "gb = res.groupby(['TimeFrame', 'VehicleJourneyID'])\n",
    "idx = pd.DataFrame(gb['JourneyPatternID'].unique())\n",
    "idx['JourneyPatternID'] = idx['JourneyPatternID'].apply(lambda x: len(x))"
   ]
  },
  {
   "cell_type": "code",
   "execution_count": 78,
   "metadata": {
    "collapsed": true
   },
   "outputs": [],
   "source": [
    "# Get those rows which unique JourneyPatternID are over 1\n",
    "\n",
    "idx = idx[idx.JourneyPatternID > 1]\n",
    "\n",
    "# Set the index back to data\n",
    "\n",
    "idx.reset_index(['TimeFrame', 'VehicleJourneyID'], inplace=True)\n"
   ]
  },
  {
   "cell_type": "code",
   "execution_count": 79,
   "metadata": {
    "collapsed": false
   },
   "outputs": [
    {
     "name": "stderr",
     "output_type": "stream",
     "text": [
      "/Users/EmmaChang/anaconda/lib/python3.6/site-packages/ipykernel_launcher.py:12: SettingWithCopyWarning: \n",
      "A value is trying to be set on a copy of a slice from a DataFrame\n",
      "\n",
      "See the caveats in the documentation: http://pandas.pydata.org/pandas-docs/stable/indexing.html#indexing-view-versus-copy\n",
      "  if sys.path[0] == '':\n"
     ]
    }
   ],
   "source": [
    "# Merge with res then can see if is null at the column JourneyPatternIDA then should keep\n",
    "# suffixes='OA' : is set column name to JourneyPatternIDO and JourneyPatternIDA\n",
    "\n",
    "merge = pd.merge(res, idx, on=['TimeFrame', 'VehicleJourneyID'], how='outer',suffixes='OA')\n",
    "\n",
    "# Keep those JourneyPatternIDA is null\n",
    "\n",
    "res = merge[merge['JourneyPatternIDA'].isnull()]\n",
    "\n",
    "# Clean up\n",
    "\n",
    "res.drop('JourneyPatternIDA', axis=1, inplace=True)\n",
    "res = res.rename(columns = {'JourneyPatternIDO':'JourneyPatternID'})\n",
    "del merge"
   ]
  },
  {
   "cell_type": "code",
   "execution_count": 80,
   "metadata": {
    "collapsed": false
   },
   "outputs": [
    {
     "data": {
      "text/plain": [
       "(69539231, 12)"
      ]
     },
     "execution_count": 80,
     "metadata": {},
     "output_type": "execute_result"
    }
   ],
   "source": [
    "res.shape"
   ]
  },
  {
   "cell_type": "code",
   "execution_count": 81,
   "metadata": {
    "collapsed": false
   },
   "outputs": [
    {
     "ename": "SyntaxError",
     "evalue": "invalid syntax (<ipython-input-81-f9ef205a8f26>, line 1)",
     "output_type": "error",
     "traceback": [
      "\u001b[0;36m  File \u001b[0;32m\"<ipython-input-81-f9ef205a8f26>\"\u001b[0;36m, line \u001b[0;32m1\u001b[0m\n\u001b[0;31m    stop here\u001b[0m\n\u001b[0m            ^\u001b[0m\n\u001b[0;31mSyntaxError\u001b[0m\u001b[0;31m:\u001b[0m invalid syntax\n"
     ]
    }
   ],
   "source": [
    "stop here"
   ]
  },
  {
   "cell_type": "code",
   "execution_count": null,
   "metadata": {
    "collapsed": true
   },
   "outputs": [],
   "source": [
    "# Store as feather\n",
    "\n",
    "#res = res.reset_index()\n",
    "#res.to_feather('DBus_stage_three_clean_v1_step1.feather')"
   ]
  },
  {
   "cell_type": "markdown",
   "metadata": {},
   "source": [
    " "
   ]
  },
  {
   "cell_type": "markdown",
   "metadata": {},
   "source": [
    "### Part III. Add Weather Information"
   ]
  },
  {
   "cell_type": "code",
   "execution_count": null,
   "metadata": {
    "collapsed": true
   },
   "outputs": [],
   "source": [
    "#res = pd.read_feather('DBus_stage_three_clean_v1_step2.feather')\n",
    "#res.head(5)"
   ]
  },
  {
   "cell_type": "code",
   "execution_count": 82,
   "metadata": {
    "collapsed": true
   },
   "outputs": [],
   "source": [
    "# Read weather data\n",
    "ch = pd.read_csv('Casement_Hourly_Nov12Jan13_WindRainOnly.csv')\n",
    "dh = pd.read_csv('DubAirport_Hourly_Nov12Jan13_WindRainOnly.csv')\n",
    "ph = pd.read_csv('PhoenixPark_Hourly_Nov12Jan13_RainOnly.csv')"
   ]
  },
  {
   "cell_type": "code",
   "execution_count": 83,
   "metadata": {
    "collapsed": false,
    "scrolled": true
   },
   "outputs": [
    {
     "data": {
      "text/plain": [
       "date     object\n",
       "rain    float64\n",
       "wdsp      int64\n",
       "dtype: object"
      ]
     },
     "execution_count": 83,
     "metadata": {},
     "output_type": "execute_result"
    }
   ],
   "source": [
    "dh.dtypes"
   ]
  },
  {
   "cell_type": "code",
   "execution_count": 84,
   "metadata": {
    "collapsed": true,
    "scrolled": true
   },
   "outputs": [],
   "source": [
    "from datetime import datetime\n",
    "ch['DateTime'] = ch['date'].apply(lambda x: datetime.strptime(x, '%m/%d/%Y %H:%M'))\n",
    "ch['DateTime'] = ch['DateTime'].apply(lambda x: datetime.strftime(x, '%Y-%m-%d %H'))\n",
    "\n",
    "dh['DateTime'] = dh['date'].apply(lambda x: datetime.strptime(x, '%m/%d/%Y %H:%M'))\n",
    "dh['DateTime'] = dh['DateTime'].apply(lambda x: datetime.strftime(x, '%Y-%m-%d %H'))\n",
    "\n",
    "\n",
    "ph['DateTime'] = ph['date'].apply(lambda x: datetime.strptime(x, '%d/%m/%Y %H:%M'))\n",
    "ph['DateTime'] = ph['DateTime'].apply(lambda x: datetime.strftime(x, '%Y-%m-%d %H'))"
   ]
  },
  {
   "cell_type": "code",
   "execution_count": 85,
   "metadata": {
    "collapsed": true
   },
   "outputs": [],
   "source": [
    "ch.drop('date', axis=1, inplace=True)\n",
    "dh.drop('date', axis=1, inplace=True)\n",
    "ph.drop('date', axis=1, inplace=True)"
   ]
  },
  {
   "cell_type": "code",
   "execution_count": 86,
   "metadata": {
    "collapsed": false,
    "scrolled": true
   },
   "outputs": [
    {
     "data": {
      "text/html": [
       "<div>\n",
       "<style>\n",
       "    .dataframe thead tr:only-child th {\n",
       "        text-align: right;\n",
       "    }\n",
       "\n",
       "    .dataframe thead th {\n",
       "        text-align: left;\n",
       "    }\n",
       "\n",
       "    .dataframe tbody tr th {\n",
       "        vertical-align: top;\n",
       "    }\n",
       "</style>\n",
       "<table border=\"1\" class=\"dataframe\">\n",
       "  <thead>\n",
       "    <tr style=\"text-align: right;\">\n",
       "      <th></th>\n",
       "      <th>rain_x</th>\n",
       "      <th>wdsp_x</th>\n",
       "      <th>DateTime</th>\n",
       "      <th>rain_y</th>\n",
       "      <th>wdsp_y</th>\n",
       "      <th>rain</th>\n",
       "    </tr>\n",
       "  </thead>\n",
       "  <tbody>\n",
       "    <tr>\n",
       "      <th>0</th>\n",
       "      <td>0.0</td>\n",
       "      <td>8</td>\n",
       "      <td>2012-11-06 00</td>\n",
       "      <td>0.0</td>\n",
       "      <td>10</td>\n",
       "      <td>0</td>\n",
       "    </tr>\n",
       "    <tr>\n",
       "      <th>1</th>\n",
       "      <td>0.0</td>\n",
       "      <td>8</td>\n",
       "      <td>2012-11-06 01</td>\n",
       "      <td>0.0</td>\n",
       "      <td>10</td>\n",
       "      <td>0</td>\n",
       "    </tr>\n",
       "    <tr>\n",
       "      <th>2</th>\n",
       "      <td>0.0</td>\n",
       "      <td>10</td>\n",
       "      <td>2012-11-06 02</td>\n",
       "      <td>0.0</td>\n",
       "      <td>10</td>\n",
       "      <td>0</td>\n",
       "    </tr>\n",
       "    <tr>\n",
       "      <th>3</th>\n",
       "      <td>0.0</td>\n",
       "      <td>11</td>\n",
       "      <td>2012-11-06 03</td>\n",
       "      <td>0.0</td>\n",
       "      <td>13</td>\n",
       "      <td>0</td>\n",
       "    </tr>\n",
       "    <tr>\n",
       "      <th>4</th>\n",
       "      <td>0.0</td>\n",
       "      <td>10</td>\n",
       "      <td>2012-11-06 04</td>\n",
       "      <td>0.0</td>\n",
       "      <td>12</td>\n",
       "      <td>0</td>\n",
       "    </tr>\n",
       "  </tbody>\n",
       "</table>\n",
       "</div>"
      ],
      "text/plain": [
       "   rain_x  wdsp_x       DateTime  rain_y  wdsp_y rain\n",
       "0     0.0       8  2012-11-06 00     0.0      10    0\n",
       "1     0.0       8  2012-11-06 01     0.0      10    0\n",
       "2     0.0      10  2012-11-06 02     0.0      10    0\n",
       "3     0.0      11  2012-11-06 03     0.0      13    0\n",
       "4     0.0      10  2012-11-06 04     0.0      12    0"
      ]
     },
     "execution_count": 86,
     "metadata": {},
     "output_type": "execute_result"
    }
   ],
   "source": [
    "# Merge\n",
    "merge = pd.merge(ch, dh, on='DateTime', how='outer')\n",
    "merge = pd.merge(merge, ph, on='DateTime', how='outer')\n",
    "merge.head(5)"
   ]
  },
  {
   "cell_type": "code",
   "execution_count": 87,
   "metadata": {
    "collapsed": false
   },
   "outputs": [
    {
     "data": {
      "text/plain": [
       "rain_x      0\n",
       "wdsp_x      0\n",
       "DateTime    0\n",
       "rain_y      0\n",
       "wdsp_y      0\n",
       "rain        0\n",
       "dtype: int64"
      ]
     },
     "execution_count": 87,
     "metadata": {},
     "output_type": "execute_result"
    }
   ],
   "source": [
    "merge.isnull().sum()"
   ]
  },
  {
   "cell_type": "code",
   "execution_count": 88,
   "metadata": {
    "collapsed": false
   },
   "outputs": [
    {
     "name": "stderr",
     "output_type": "stream",
     "text": [
      "/Users/EmmaChang/anaconda/lib/python3.6/site-packages/ipykernel_launcher.py:2: FutureWarning: convert_objects is deprecated.  Use the data-type specific converters pd.to_datetime, pd.to_timedelta and pd.to_numeric.\n",
      "  \n"
     ]
    },
    {
     "data": {
      "text/plain": [
       "rain_x      float64\n",
       "wdsp_x        int64\n",
       "DateTime     object\n",
       "rain_y      float64\n",
       "wdsp_y        int64\n",
       "rain        float64\n",
       "dtype: object"
      ]
     },
     "execution_count": 88,
     "metadata": {},
     "output_type": "execute_result"
    }
   ],
   "source": [
    "# Convert to float\n",
    "merge['rain'] = merge['rain'].convert_objects(convert_numeric=True)\n",
    "merge.dtypes"
   ]
  },
  {
   "cell_type": "code",
   "execution_count": 89,
   "metadata": {
    "collapsed": false,
    "scrolled": true
   },
   "outputs": [
    {
     "data": {
      "text/html": [
       "<div>\n",
       "<style>\n",
       "    .dataframe thead tr:only-child th {\n",
       "        text-align: right;\n",
       "    }\n",
       "\n",
       "    .dataframe thead th {\n",
       "        text-align: left;\n",
       "    }\n",
       "\n",
       "    .dataframe tbody tr th {\n",
       "        vertical-align: top;\n",
       "    }\n",
       "</style>\n",
       "<table border=\"1\" class=\"dataframe\">\n",
       "  <thead>\n",
       "    <tr style=\"text-align: right;\">\n",
       "      <th></th>\n",
       "      <th>DateTime</th>\n",
       "      <th>Rain_Avg</th>\n",
       "      <th>Wind_Speed_Avg</th>\n",
       "    </tr>\n",
       "  </thead>\n",
       "  <tbody>\n",
       "    <tr>\n",
       "      <th>0</th>\n",
       "      <td>2012-11-06 00</td>\n",
       "      <td>0.000000</td>\n",
       "      <td>9.0</td>\n",
       "    </tr>\n",
       "    <tr>\n",
       "      <th>1</th>\n",
       "      <td>2012-11-06 01</td>\n",
       "      <td>0.000000</td>\n",
       "      <td>9.0</td>\n",
       "    </tr>\n",
       "    <tr>\n",
       "      <th>2</th>\n",
       "      <td>2012-11-06 02</td>\n",
       "      <td>0.000000</td>\n",
       "      <td>10.0</td>\n",
       "    </tr>\n",
       "    <tr>\n",
       "      <th>3</th>\n",
       "      <td>2012-11-06 03</td>\n",
       "      <td>0.000000</td>\n",
       "      <td>12.0</td>\n",
       "    </tr>\n",
       "    <tr>\n",
       "      <th>4</th>\n",
       "      <td>2012-11-06 04</td>\n",
       "      <td>0.000000</td>\n",
       "      <td>11.0</td>\n",
       "    </tr>\n",
       "    <tr>\n",
       "      <th>5</th>\n",
       "      <td>2012-11-06 05</td>\n",
       "      <td>0.000000</td>\n",
       "      <td>11.5</td>\n",
       "    </tr>\n",
       "    <tr>\n",
       "      <th>6</th>\n",
       "      <td>2012-11-06 06</td>\n",
       "      <td>0.000000</td>\n",
       "      <td>12.0</td>\n",
       "    </tr>\n",
       "    <tr>\n",
       "      <th>7</th>\n",
       "      <td>2012-11-06 07</td>\n",
       "      <td>0.033333</td>\n",
       "      <td>14.5</td>\n",
       "    </tr>\n",
       "    <tr>\n",
       "      <th>8</th>\n",
       "      <td>2012-11-06 08</td>\n",
       "      <td>0.000000</td>\n",
       "      <td>15.0</td>\n",
       "    </tr>\n",
       "    <tr>\n",
       "      <th>9</th>\n",
       "      <td>2012-11-06 09</td>\n",
       "      <td>0.000000</td>\n",
       "      <td>15.5</td>\n",
       "    </tr>\n",
       "    <tr>\n",
       "      <th>10</th>\n",
       "      <td>2012-11-06 10</td>\n",
       "      <td>0.000000</td>\n",
       "      <td>16.5</td>\n",
       "    </tr>\n",
       "    <tr>\n",
       "      <th>11</th>\n",
       "      <td>2012-11-06 11</td>\n",
       "      <td>0.000000</td>\n",
       "      <td>17.5</td>\n",
       "    </tr>\n",
       "    <tr>\n",
       "      <th>12</th>\n",
       "      <td>2012-11-06 12</td>\n",
       "      <td>0.000000</td>\n",
       "      <td>17.5</td>\n",
       "    </tr>\n",
       "    <tr>\n",
       "      <th>13</th>\n",
       "      <td>2012-11-06 13</td>\n",
       "      <td>0.000000</td>\n",
       "      <td>17.0</td>\n",
       "    </tr>\n",
       "    <tr>\n",
       "      <th>14</th>\n",
       "      <td>2012-11-06 14</td>\n",
       "      <td>0.000000</td>\n",
       "      <td>17.0</td>\n",
       "    </tr>\n",
       "    <tr>\n",
       "      <th>15</th>\n",
       "      <td>2012-11-06 15</td>\n",
       "      <td>0.000000</td>\n",
       "      <td>16.5</td>\n",
       "    </tr>\n",
       "    <tr>\n",
       "      <th>16</th>\n",
       "      <td>2012-11-06 16</td>\n",
       "      <td>0.000000</td>\n",
       "      <td>15.5</td>\n",
       "    </tr>\n",
       "    <tr>\n",
       "      <th>17</th>\n",
       "      <td>2012-11-06 17</td>\n",
       "      <td>0.000000</td>\n",
       "      <td>14.0</td>\n",
       "    </tr>\n",
       "    <tr>\n",
       "      <th>18</th>\n",
       "      <td>2012-11-06 18</td>\n",
       "      <td>0.000000</td>\n",
       "      <td>14.0</td>\n",
       "    </tr>\n",
       "    <tr>\n",
       "      <th>19</th>\n",
       "      <td>2012-11-06 19</td>\n",
       "      <td>0.000000</td>\n",
       "      <td>16.0</td>\n",
       "    </tr>\n",
       "    <tr>\n",
       "      <th>20</th>\n",
       "      <td>2012-11-06 20</td>\n",
       "      <td>0.000000</td>\n",
       "      <td>15.0</td>\n",
       "    </tr>\n",
       "    <tr>\n",
       "      <th>21</th>\n",
       "      <td>2012-11-06 21</td>\n",
       "      <td>0.000000</td>\n",
       "      <td>14.0</td>\n",
       "    </tr>\n",
       "    <tr>\n",
       "      <th>22</th>\n",
       "      <td>2012-11-06 22</td>\n",
       "      <td>0.000000</td>\n",
       "      <td>16.0</td>\n",
       "    </tr>\n",
       "    <tr>\n",
       "      <th>23</th>\n",
       "      <td>2012-11-06 23</td>\n",
       "      <td>0.000000</td>\n",
       "      <td>15.5</td>\n",
       "    </tr>\n",
       "    <tr>\n",
       "      <th>24</th>\n",
       "      <td>2012-11-07 00</td>\n",
       "      <td>0.000000</td>\n",
       "      <td>16.0</td>\n",
       "    </tr>\n",
       "    <tr>\n",
       "      <th>25</th>\n",
       "      <td>2012-11-07 01</td>\n",
       "      <td>0.000000</td>\n",
       "      <td>16.0</td>\n",
       "    </tr>\n",
       "    <tr>\n",
       "      <th>26</th>\n",
       "      <td>2012-11-07 02</td>\n",
       "      <td>0.000000</td>\n",
       "      <td>16.0</td>\n",
       "    </tr>\n",
       "    <tr>\n",
       "      <th>27</th>\n",
       "      <td>2012-11-07 03</td>\n",
       "      <td>0.000000</td>\n",
       "      <td>16.0</td>\n",
       "    </tr>\n",
       "    <tr>\n",
       "      <th>28</th>\n",
       "      <td>2012-11-07 04</td>\n",
       "      <td>0.000000</td>\n",
       "      <td>14.5</td>\n",
       "    </tr>\n",
       "    <tr>\n",
       "      <th>29</th>\n",
       "      <td>2012-11-07 05</td>\n",
       "      <td>0.000000</td>\n",
       "      <td>15.0</td>\n",
       "    </tr>\n",
       "    <tr>\n",
       "      <th>...</th>\n",
       "      <td>...</td>\n",
       "      <td>...</td>\n",
       "      <td>...</td>\n",
       "    </tr>\n",
       "    <tr>\n",
       "      <th>1314</th>\n",
       "      <td>2013-01-30 18</td>\n",
       "      <td>0.000000</td>\n",
       "      <td>15.0</td>\n",
       "    </tr>\n",
       "    <tr>\n",
       "      <th>1315</th>\n",
       "      <td>2013-01-30 19</td>\n",
       "      <td>0.000000</td>\n",
       "      <td>14.0</td>\n",
       "    </tr>\n",
       "    <tr>\n",
       "      <th>1316</th>\n",
       "      <td>2013-01-30 20</td>\n",
       "      <td>0.000000</td>\n",
       "      <td>16.0</td>\n",
       "    </tr>\n",
       "    <tr>\n",
       "      <th>1317</th>\n",
       "      <td>2013-01-30 21</td>\n",
       "      <td>0.000000</td>\n",
       "      <td>16.0</td>\n",
       "    </tr>\n",
       "    <tr>\n",
       "      <th>1318</th>\n",
       "      <td>2013-01-30 22</td>\n",
       "      <td>0.000000</td>\n",
       "      <td>14.0</td>\n",
       "    </tr>\n",
       "    <tr>\n",
       "      <th>1319</th>\n",
       "      <td>2013-01-30 23</td>\n",
       "      <td>0.000000</td>\n",
       "      <td>15.5</td>\n",
       "    </tr>\n",
       "    <tr>\n",
       "      <th>1320</th>\n",
       "      <td>2013-01-31 00</td>\n",
       "      <td>0.000000</td>\n",
       "      <td>19.5</td>\n",
       "    </tr>\n",
       "    <tr>\n",
       "      <th>1321</th>\n",
       "      <td>2013-01-31 01</td>\n",
       "      <td>2.000000</td>\n",
       "      <td>23.5</td>\n",
       "    </tr>\n",
       "    <tr>\n",
       "      <th>1322</th>\n",
       "      <td>2013-01-31 02</td>\n",
       "      <td>0.866667</td>\n",
       "      <td>25.5</td>\n",
       "    </tr>\n",
       "    <tr>\n",
       "      <th>1323</th>\n",
       "      <td>2013-01-31 03</td>\n",
       "      <td>0.000000</td>\n",
       "      <td>20.5</td>\n",
       "    </tr>\n",
       "    <tr>\n",
       "      <th>1324</th>\n",
       "      <td>2013-01-31 04</td>\n",
       "      <td>0.000000</td>\n",
       "      <td>22.0</td>\n",
       "    </tr>\n",
       "    <tr>\n",
       "      <th>1325</th>\n",
       "      <td>2013-01-31 05</td>\n",
       "      <td>0.266667</td>\n",
       "      <td>24.5</td>\n",
       "    </tr>\n",
       "    <tr>\n",
       "      <th>1326</th>\n",
       "      <td>2013-01-31 06</td>\n",
       "      <td>0.066667</td>\n",
       "      <td>24.5</td>\n",
       "    </tr>\n",
       "    <tr>\n",
       "      <th>1327</th>\n",
       "      <td>2013-01-31 07</td>\n",
       "      <td>0.200000</td>\n",
       "      <td>21.0</td>\n",
       "    </tr>\n",
       "    <tr>\n",
       "      <th>1328</th>\n",
       "      <td>2013-01-31 08</td>\n",
       "      <td>0.700000</td>\n",
       "      <td>22.0</td>\n",
       "    </tr>\n",
       "    <tr>\n",
       "      <th>1329</th>\n",
       "      <td>2013-01-31 09</td>\n",
       "      <td>0.000000</td>\n",
       "      <td>18.5</td>\n",
       "    </tr>\n",
       "    <tr>\n",
       "      <th>1330</th>\n",
       "      <td>2013-01-31 10</td>\n",
       "      <td>0.000000</td>\n",
       "      <td>21.5</td>\n",
       "    </tr>\n",
       "    <tr>\n",
       "      <th>1331</th>\n",
       "      <td>2013-01-31 11</td>\n",
       "      <td>0.000000</td>\n",
       "      <td>20.5</td>\n",
       "    </tr>\n",
       "    <tr>\n",
       "      <th>1332</th>\n",
       "      <td>2013-01-31 12</td>\n",
       "      <td>0.066667</td>\n",
       "      <td>22.0</td>\n",
       "    </tr>\n",
       "    <tr>\n",
       "      <th>1333</th>\n",
       "      <td>2013-01-31 13</td>\n",
       "      <td>0.000000</td>\n",
       "      <td>23.5</td>\n",
       "    </tr>\n",
       "    <tr>\n",
       "      <th>1334</th>\n",
       "      <td>2013-01-31 14</td>\n",
       "      <td>0.066667</td>\n",
       "      <td>23.5</td>\n",
       "    </tr>\n",
       "    <tr>\n",
       "      <th>1335</th>\n",
       "      <td>2013-01-31 15</td>\n",
       "      <td>1.566667</td>\n",
       "      <td>23.5</td>\n",
       "    </tr>\n",
       "    <tr>\n",
       "      <th>1336</th>\n",
       "      <td>2013-01-31 16</td>\n",
       "      <td>0.333333</td>\n",
       "      <td>18.5</td>\n",
       "    </tr>\n",
       "    <tr>\n",
       "      <th>1337</th>\n",
       "      <td>2013-01-31 17</td>\n",
       "      <td>0.300000</td>\n",
       "      <td>17.5</td>\n",
       "    </tr>\n",
       "    <tr>\n",
       "      <th>1338</th>\n",
       "      <td>2013-01-31 18</td>\n",
       "      <td>0.000000</td>\n",
       "      <td>16.5</td>\n",
       "    </tr>\n",
       "    <tr>\n",
       "      <th>1339</th>\n",
       "      <td>2013-01-31 19</td>\n",
       "      <td>0.000000</td>\n",
       "      <td>15.5</td>\n",
       "    </tr>\n",
       "    <tr>\n",
       "      <th>1340</th>\n",
       "      <td>2013-01-31 20</td>\n",
       "      <td>0.366667</td>\n",
       "      <td>17.5</td>\n",
       "    </tr>\n",
       "    <tr>\n",
       "      <th>1341</th>\n",
       "      <td>2013-01-31 21</td>\n",
       "      <td>0.000000</td>\n",
       "      <td>16.0</td>\n",
       "    </tr>\n",
       "    <tr>\n",
       "      <th>1342</th>\n",
       "      <td>2013-01-31 22</td>\n",
       "      <td>0.000000</td>\n",
       "      <td>16.5</td>\n",
       "    </tr>\n",
       "    <tr>\n",
       "      <th>1343</th>\n",
       "      <td>2013-01-31 23</td>\n",
       "      <td>0.000000</td>\n",
       "      <td>17.0</td>\n",
       "    </tr>\n",
       "  </tbody>\n",
       "</table>\n",
       "<p>1344 rows × 3 columns</p>\n",
       "</div>"
      ],
      "text/plain": [
       "           DateTime  Rain_Avg  Wind_Speed_Avg\n",
       "0     2012-11-06 00  0.000000             9.0\n",
       "1     2012-11-06 01  0.000000             9.0\n",
       "2     2012-11-06 02  0.000000            10.0\n",
       "3     2012-11-06 03  0.000000            12.0\n",
       "4     2012-11-06 04  0.000000            11.0\n",
       "5     2012-11-06 05  0.000000            11.5\n",
       "6     2012-11-06 06  0.000000            12.0\n",
       "7     2012-11-06 07  0.033333            14.5\n",
       "8     2012-11-06 08  0.000000            15.0\n",
       "9     2012-11-06 09  0.000000            15.5\n",
       "10    2012-11-06 10  0.000000            16.5\n",
       "11    2012-11-06 11  0.000000            17.5\n",
       "12    2012-11-06 12  0.000000            17.5\n",
       "13    2012-11-06 13  0.000000            17.0\n",
       "14    2012-11-06 14  0.000000            17.0\n",
       "15    2012-11-06 15  0.000000            16.5\n",
       "16    2012-11-06 16  0.000000            15.5\n",
       "17    2012-11-06 17  0.000000            14.0\n",
       "18    2012-11-06 18  0.000000            14.0\n",
       "19    2012-11-06 19  0.000000            16.0\n",
       "20    2012-11-06 20  0.000000            15.0\n",
       "21    2012-11-06 21  0.000000            14.0\n",
       "22    2012-11-06 22  0.000000            16.0\n",
       "23    2012-11-06 23  0.000000            15.5\n",
       "24    2012-11-07 00  0.000000            16.0\n",
       "25    2012-11-07 01  0.000000            16.0\n",
       "26    2012-11-07 02  0.000000            16.0\n",
       "27    2012-11-07 03  0.000000            16.0\n",
       "28    2012-11-07 04  0.000000            14.5\n",
       "29    2012-11-07 05  0.000000            15.0\n",
       "...             ...       ...             ...\n",
       "1314  2013-01-30 18  0.000000            15.0\n",
       "1315  2013-01-30 19  0.000000            14.0\n",
       "1316  2013-01-30 20  0.000000            16.0\n",
       "1317  2013-01-30 21  0.000000            16.0\n",
       "1318  2013-01-30 22  0.000000            14.0\n",
       "1319  2013-01-30 23  0.000000            15.5\n",
       "1320  2013-01-31 00  0.000000            19.5\n",
       "1321  2013-01-31 01  2.000000            23.5\n",
       "1322  2013-01-31 02  0.866667            25.5\n",
       "1323  2013-01-31 03  0.000000            20.5\n",
       "1324  2013-01-31 04  0.000000            22.0\n",
       "1325  2013-01-31 05  0.266667            24.5\n",
       "1326  2013-01-31 06  0.066667            24.5\n",
       "1327  2013-01-31 07  0.200000            21.0\n",
       "1328  2013-01-31 08  0.700000            22.0\n",
       "1329  2013-01-31 09  0.000000            18.5\n",
       "1330  2013-01-31 10  0.000000            21.5\n",
       "1331  2013-01-31 11  0.000000            20.5\n",
       "1332  2013-01-31 12  0.066667            22.0\n",
       "1333  2013-01-31 13  0.000000            23.5\n",
       "1334  2013-01-31 14  0.066667            23.5\n",
       "1335  2013-01-31 15  1.566667            23.5\n",
       "1336  2013-01-31 16  0.333333            18.5\n",
       "1337  2013-01-31 17  0.300000            17.5\n",
       "1338  2013-01-31 18  0.000000            16.5\n",
       "1339  2013-01-31 19  0.000000            15.5\n",
       "1340  2013-01-31 20  0.366667            17.5\n",
       "1341  2013-01-31 21  0.000000            16.0\n",
       "1342  2013-01-31 22  0.000000            16.5\n",
       "1343  2013-01-31 23  0.000000            17.0\n",
       "\n",
       "[1344 rows x 3 columns]"
      ]
     },
     "execution_count": 89,
     "metadata": {},
     "output_type": "execute_result"
    }
   ],
   "source": [
    "# Calculate average\n",
    "merge['Rain_Avg'] = merge.loc[:,['rain_x', 'rain_y', 'rain']].mean(axis=1)\n",
    "merge['Wind_Speed_Avg'] = merge.loc[:,['wdsp_x', 'wdsp_y']].mean(axis=1)\n",
    "weather = merge.loc[:,['DateTime', 'Rain_Avg', 'Wind_Speed_Avg']]\n",
    "weather.head(10)"
   ]
  },
  {
   "cell_type": "code",
   "execution_count": 90,
   "metadata": {
    "collapsed": false
   },
   "outputs": [
    {
     "data": {
      "text/html": [
       "<div>\n",
       "<style>\n",
       "    .dataframe thead tr:only-child th {\n",
       "        text-align: right;\n",
       "    }\n",
       "\n",
       "    .dataframe thead th {\n",
       "        text-align: left;\n",
       "    }\n",
       "\n",
       "    .dataframe tbody tr th {\n",
       "        vertical-align: top;\n",
       "    }\n",
       "</style>\n",
       "<table border=\"1\" class=\"dataframe\">\n",
       "  <thead>\n",
       "    <tr style=\"text-align: right;\">\n",
       "      <th></th>\n",
       "      <th>index</th>\n",
       "      <th>Timestamp</th>\n",
       "      <th>JourneyPatternID</th>\n",
       "      <th>TimeFrame</th>\n",
       "      <th>VehicleJourneyID</th>\n",
       "      <th>Lon</th>\n",
       "      <th>Lat</th>\n",
       "      <th>VehicleID</th>\n",
       "      <th>StopID</th>\n",
       "      <th>AtStop</th>\n",
       "      <th>Day</th>\n",
       "      <th>Route</th>\n",
       "      <th>DateTime</th>\n",
       "      <th>Rain_Avg</th>\n",
       "      <th>Wind_Speed_Avg</th>\n",
       "    </tr>\n",
       "  </thead>\n",
       "  <tbody>\n",
       "    <tr>\n",
       "      <th>0</th>\n",
       "      <td>0</td>\n",
       "      <td>2013-01-30 19:03:05</td>\n",
       "      <td>00131003</td>\n",
       "      <td>2013-01-30</td>\n",
       "      <td>3356</td>\n",
       "      <td>-6.280505</td>\n",
       "      <td>53.343040</td>\n",
       "      <td>33408</td>\n",
       "      <td>1998</td>\n",
       "      <td>True</td>\n",
       "      <td>Wednesday</td>\n",
       "      <td>0013</td>\n",
       "      <td>2013-01-30 19</td>\n",
       "      <td>0.0</td>\n",
       "      <td>14.0</td>\n",
       "    </tr>\n",
       "    <tr>\n",
       "      <th>1</th>\n",
       "      <td>1</td>\n",
       "      <td>2013-01-30 19:03:05</td>\n",
       "      <td>00131003</td>\n",
       "      <td>2013-01-30</td>\n",
       "      <td>3356</td>\n",
       "      <td>-6.280505</td>\n",
       "      <td>53.343040</td>\n",
       "      <td>33408</td>\n",
       "      <td>1998</td>\n",
       "      <td>True</td>\n",
       "      <td>Wednesday</td>\n",
       "      <td>0013</td>\n",
       "      <td>2013-01-30 19</td>\n",
       "      <td>0.0</td>\n",
       "      <td>14.0</td>\n",
       "    </tr>\n",
       "    <tr>\n",
       "      <th>2</th>\n",
       "      <td>2</td>\n",
       "      <td>2013-01-30 19:03:23</td>\n",
       "      <td>00131003</td>\n",
       "      <td>2013-01-30</td>\n",
       "      <td>3356</td>\n",
       "      <td>-6.279584</td>\n",
       "      <td>53.342880</td>\n",
       "      <td>33408</td>\n",
       "      <td>1998</td>\n",
       "      <td>False</td>\n",
       "      <td>Wednesday</td>\n",
       "      <td>0013</td>\n",
       "      <td>2013-01-30 19</td>\n",
       "      <td>0.0</td>\n",
       "      <td>14.0</td>\n",
       "    </tr>\n",
       "    <tr>\n",
       "      <th>3</th>\n",
       "      <td>3</td>\n",
       "      <td>2013-01-30 19:03:23</td>\n",
       "      <td>00131003</td>\n",
       "      <td>2013-01-30</td>\n",
       "      <td>3356</td>\n",
       "      <td>-6.279584</td>\n",
       "      <td>53.342880</td>\n",
       "      <td>33408</td>\n",
       "      <td>1998</td>\n",
       "      <td>False</td>\n",
       "      <td>Wednesday</td>\n",
       "      <td>0013</td>\n",
       "      <td>2013-01-30 19</td>\n",
       "      <td>0.0</td>\n",
       "      <td>14.0</td>\n",
       "    </tr>\n",
       "    <tr>\n",
       "      <th>4</th>\n",
       "      <td>4</td>\n",
       "      <td>2013-01-30 19:03:44</td>\n",
       "      <td>00131003</td>\n",
       "      <td>2013-01-30</td>\n",
       "      <td>3356</td>\n",
       "      <td>-6.279526</td>\n",
       "      <td>53.342869</td>\n",
       "      <td>33408</td>\n",
       "      <td>1998</td>\n",
       "      <td>False</td>\n",
       "      <td>Wednesday</td>\n",
       "      <td>0013</td>\n",
       "      <td>2013-01-30 19</td>\n",
       "      <td>0.0</td>\n",
       "      <td>14.0</td>\n",
       "    </tr>\n",
       "  </tbody>\n",
       "</table>\n",
       "</div>"
      ],
      "text/plain": [
       "   index           Timestamp JourneyPatternID  TimeFrame VehicleJourneyID  \\\n",
       "0      0 2013-01-30 19:03:05         00131003 2013-01-30             3356   \n",
       "1      1 2013-01-30 19:03:05         00131003 2013-01-30             3356   \n",
       "2      2 2013-01-30 19:03:23         00131003 2013-01-30             3356   \n",
       "3      3 2013-01-30 19:03:23         00131003 2013-01-30             3356   \n",
       "4      4 2013-01-30 19:03:44         00131003 2013-01-30             3356   \n",
       "\n",
       "        Lon        Lat VehicleID StopID  AtStop        Day Route  \\\n",
       "0 -6.280505  53.343040     33408   1998    True  Wednesday  0013   \n",
       "1 -6.280505  53.343040     33408   1998    True  Wednesday  0013   \n",
       "2 -6.279584  53.342880     33408   1998   False  Wednesday  0013   \n",
       "3 -6.279584  53.342880     33408   1998   False  Wednesday  0013   \n",
       "4 -6.279526  53.342869     33408   1998   False  Wednesday  0013   \n",
       "\n",
       "        DateTime  Rain_Avg  Wind_Speed_Avg  \n",
       "0  2013-01-30 19       0.0            14.0  \n",
       "1  2013-01-30 19       0.0            14.0  \n",
       "2  2013-01-30 19       0.0            14.0  \n",
       "3  2013-01-30 19       0.0            14.0  \n",
       "4  2013-01-30 19       0.0            14.0  "
      ]
     },
     "execution_count": 90,
     "metadata": {},
     "output_type": "execute_result"
    }
   ],
   "source": [
    "# Merge with gps data\n",
    "res['DateTime'] = res['Timestamp'].apply(lambda x: datetime.strftime(x, '%Y-%m-%d %H'))\n",
    "res_2 = pd.merge(res, weather, on='DateTime', how='left')\n",
    "res_2.head(5)"
   ]
  },
  {
   "cell_type": "code",
   "execution_count": 95,
   "metadata": {
    "collapsed": false
   },
   "outputs": [
    {
     "ename": "NameError",
     "evalue": "name 'res' is not defined",
     "output_type": "error",
     "traceback": [
      "\u001b[0;31m---------------------------------------------------------------------------\u001b[0m",
      "\u001b[0;31mNameError\u001b[0m                                 Traceback (most recent call last)",
      "\u001b[0;32m<ipython-input-95-62c788265e8c>\u001b[0m in \u001b[0;36m<module>\u001b[0;34m()\u001b[0m\n\u001b[0;32m----> 1\u001b[0;31m \u001b[0;32mdel\u001b[0m \u001b[0mres\u001b[0m\u001b[0;34m\u001b[0m\u001b[0m\n\u001b[0m",
      "\u001b[0;31mNameError\u001b[0m: name 'res' is not defined"
     ]
    }
   ],
   "source": [
    "del res"
   ]
  },
  {
   "cell_type": "code",
   "execution_count": 94,
   "metadata": {
    "collapsed": false
   },
   "outputs": [
    {
     "data": {
      "text/plain": [
       "(69539231, 16)"
      ]
     },
     "execution_count": 94,
     "metadata": {},
     "output_type": "execute_result"
    }
   ],
   "source": [
    "res_2.shape"
   ]
  },
  {
   "cell_type": "markdown",
   "metadata": {},
   "source": [
    "### Part III. Add School Holiday"
   ]
  },
  {
   "cell_type": "code",
   "execution_count": 96,
   "metadata": {
    "collapsed": true
   },
   "outputs": [],
   "source": [
    "school_holiday = ['2013-01-01','2013-01-02', '2013-01-03','2013-01-04','2013-01-05','2013-01-06']\n",
    "school_holiday_days = ['Saturday','Sunday']\n",
    "res_2['SchoolHoliday'] = np.zeros(res_2.shape[0], dtype=bool)"
   ]
  },
  {
   "cell_type": "code",
   "execution_count": 97,
   "metadata": {
    "collapsed": true
   },
   "outputs": [],
   "source": [
    "res_2.loc[res_2.TimeFrame.isin(school_holiday), 'SchoolHoliday'] = True\n",
    "res_2.loc[res_2.Day.isin(school_holiday_days), 'SchoolHoliday'] = True"
   ]
  },
  {
   "cell_type": "code",
   "execution_count": 98,
   "metadata": {
    "collapsed": true
   },
   "outputs": [],
   "source": [
    "res_2.drop('DateTime', axis=1, inplace=True)"
   ]
  },
  {
   "cell_type": "code",
   "execution_count": 99,
   "metadata": {
    "collapsed": false
   },
   "outputs": [
    {
     "ename": "ArrowIOError",
     "evalue": "IOError: Error writing bytes to file",
     "output_type": "error",
     "traceback": [
      "\u001b[0;31m---------------------------------------------------------------------------\u001b[0m",
      "\u001b[0;31mArrowIOError\u001b[0m                              Traceback (most recent call last)",
      "\u001b[0;32m<ipython-input-99-7d77f1c440b3>\u001b[0m in \u001b[0;36m<module>\u001b[0;34m()\u001b[0m\n\u001b[0;32m----> 1\u001b[0;31m \u001b[0mres_2\u001b[0m\u001b[0;34m.\u001b[0m\u001b[0mto_feather\u001b[0m\u001b[0;34m(\u001b[0m\u001b[0;34m'DBus_stage_two_clean_v4.feather'\u001b[0m\u001b[0;34m)\u001b[0m\u001b[0;34m\u001b[0m\u001b[0m\n\u001b[0m",
      "\u001b[0;32m~/anaconda/lib/python3.6/site-packages/pandas/core/frame.py\u001b[0m in \u001b[0;36mto_feather\u001b[0;34m(self, fname)\u001b[0m\n\u001b[1;32m   1502\u001b[0m         \"\"\"\n\u001b[1;32m   1503\u001b[0m         \u001b[0;32mfrom\u001b[0m \u001b[0mpandas\u001b[0m\u001b[0;34m.\u001b[0m\u001b[0mio\u001b[0m\u001b[0;34m.\u001b[0m\u001b[0mfeather_format\u001b[0m \u001b[0;32mimport\u001b[0m \u001b[0mto_feather\u001b[0m\u001b[0;34m\u001b[0m\u001b[0m\n\u001b[0;32m-> 1504\u001b[0;31m         \u001b[0mto_feather\u001b[0m\u001b[0;34m(\u001b[0m\u001b[0mself\u001b[0m\u001b[0;34m,\u001b[0m \u001b[0mfname\u001b[0m\u001b[0;34m)\u001b[0m\u001b[0;34m\u001b[0m\u001b[0m\n\u001b[0m\u001b[1;32m   1505\u001b[0m \u001b[0;34m\u001b[0m\u001b[0m\n\u001b[1;32m   1506\u001b[0m     @Substitution(header='Write out column names. If a list of string is given, \\\n",
      "\u001b[0;32m~/anaconda/lib/python3.6/site-packages/pandas/io/feather_format.py\u001b[0m in \u001b[0;36mto_feather\u001b[0;34m(df, path)\u001b[0m\n\u001b[1;32m     79\u001b[0m         \u001b[0;32mraise\u001b[0m \u001b[0mValueError\u001b[0m\u001b[0;34m(\u001b[0m\u001b[0;34m\"feather must have string column names\"\u001b[0m\u001b[0;34m)\u001b[0m\u001b[0;34m\u001b[0m\u001b[0m\n\u001b[1;32m     80\u001b[0m \u001b[0;34m\u001b[0m\u001b[0m\n\u001b[0;32m---> 81\u001b[0;31m     \u001b[0mfeather\u001b[0m\u001b[0;34m.\u001b[0m\u001b[0mwrite_dataframe\u001b[0m\u001b[0;34m(\u001b[0m\u001b[0mdf\u001b[0m\u001b[0;34m,\u001b[0m \u001b[0mpath\u001b[0m\u001b[0;34m)\u001b[0m\u001b[0;34m\u001b[0m\u001b[0m\n\u001b[0m\u001b[1;32m     82\u001b[0m \u001b[0;34m\u001b[0m\u001b[0m\n\u001b[1;32m     83\u001b[0m \u001b[0;34m\u001b[0m\u001b[0m\n",
      "\u001b[0;32m~/anaconda/lib/python3.6/site-packages/pyarrow/feather.py\u001b[0m in \u001b[0;36mwrite_feather\u001b[0;34m(df, dest)\u001b[0m\n\u001b[1;32m    110\u001b[0m     \u001b[0mwriter\u001b[0m \u001b[0;34m=\u001b[0m \u001b[0mFeatherWriter\u001b[0m\u001b[0;34m(\u001b[0m\u001b[0mdest\u001b[0m\u001b[0;34m)\u001b[0m\u001b[0;34m\u001b[0m\u001b[0m\n\u001b[1;32m    111\u001b[0m     \u001b[0;32mtry\u001b[0m\u001b[0;34m:\u001b[0m\u001b[0;34m\u001b[0m\u001b[0m\n\u001b[0;32m--> 112\u001b[0;31m         \u001b[0mwriter\u001b[0m\u001b[0;34m.\u001b[0m\u001b[0mwrite\u001b[0m\u001b[0;34m(\u001b[0m\u001b[0mdf\u001b[0m\u001b[0;34m)\u001b[0m\u001b[0;34m\u001b[0m\u001b[0m\n\u001b[0m\u001b[1;32m    113\u001b[0m     \u001b[0;32mexcept\u001b[0m\u001b[0;34m:\u001b[0m\u001b[0;34m\u001b[0m\u001b[0m\n\u001b[1;32m    114\u001b[0m         \u001b[0;31m# Try to make sure the resource is closed\u001b[0m\u001b[0;34m\u001b[0m\u001b[0;34m\u001b[0m\u001b[0m\n",
      "\u001b[0;32m~/anaconda/lib/python3.6/site-packages/pyarrow/feather.py\u001b[0m in \u001b[0;36mwrite\u001b[0;34m(self, df)\u001b[0m\n\u001b[1;32m     99\u001b[0m                 \u001b[0mname\u001b[0m \u001b[0;34m=\u001b[0m \u001b[0mstr\u001b[0m\u001b[0;34m(\u001b[0m\u001b[0mname\u001b[0m\u001b[0;34m)\u001b[0m\u001b[0;34m\u001b[0m\u001b[0m\n\u001b[1;32m    100\u001b[0m \u001b[0;34m\u001b[0m\u001b[0m\n\u001b[0;32m--> 101\u001b[0;31m             \u001b[0mself\u001b[0m\u001b[0;34m.\u001b[0m\u001b[0mwriter\u001b[0m\u001b[0;34m.\u001b[0m\u001b[0mwrite_array\u001b[0m\u001b[0;34m(\u001b[0m\u001b[0mname\u001b[0m\u001b[0;34m,\u001b[0m \u001b[0mcol\u001b[0m\u001b[0;34m)\u001b[0m\u001b[0;34m\u001b[0m\u001b[0m\n\u001b[0m\u001b[1;32m    102\u001b[0m \u001b[0;34m\u001b[0m\u001b[0m\n\u001b[1;32m    103\u001b[0m         \u001b[0mself\u001b[0m\u001b[0;34m.\u001b[0m\u001b[0mwriter\u001b[0m\u001b[0;34m.\u001b[0m\u001b[0mclose\u001b[0m\u001b[0;34m(\u001b[0m\u001b[0;34m)\u001b[0m\u001b[0;34m\u001b[0m\u001b[0m\n",
      "\u001b[0;32mpyarrow/io.pxi\u001b[0m in \u001b[0;36mpyarrow.lib.FeatherWriter.write_array (/Users/travis/miniconda3/conda-bld/pyarrow_1497323013743/work/arrow-46315431aeda3b6968b3ac4c1087f6d41052b99d/python/build/temp.macosx-10.9-x86_64-3.6/lib.cxx:48584)\u001b[0;34m()\u001b[0m\n",
      "\u001b[0;32mpyarrow/error.pxi\u001b[0m in \u001b[0;36mpyarrow.lib.check_status (/Users/travis/miniconda3/conda-bld/pyarrow_1497323013743/work/arrow-46315431aeda3b6968b3ac4c1087f6d41052b99d/python/build/temp.macosx-10.9-x86_64-3.6/lib.cxx:6899)\u001b[0;34m()\u001b[0m\n",
      "\u001b[0;31mArrowIOError\u001b[0m: IOError: Error writing bytes to file"
     ]
    }
   ],
   "source": [
    "res_2.reset_index(i)\n",
    "res_2.to_feather('DBus_stage_two_clean_v4.feather')"
   ]
  },
  {
   "cell_type": "code",
   "execution_count": null,
   "metadata": {
    "collapsed": true
   },
   "outputs": [],
   "source": [
    "res_2.shape"
   ]
  },
  {
   "cell_type": "markdown",
   "metadata": {},
   "source": [
    "### Part IV. Add Feature: Number of Stops On Route (JPID_length)"
   ]
  },
  {
   "cell_type": "code",
   "execution_count": 4,
   "metadata": {
    "collapsed": true
   },
   "outputs": [],
   "source": [
    "#res = pd.read_feather('stage_two_clean_part_one.feather')\n",
    "#res.drop('index', axis=1, inplace=True)\n",
    "#res.head(3)"
   ]
  },
  {
   "cell_type": "code",
   "execution_count": null,
   "metadata": {
    "collapsed": true
   },
   "outputs": [],
   "source": [
    "res = res_2\n",
    "del res_2"
   ]
  },
  {
   "cell_type": "code",
   "execution_count": 13,
   "metadata": {
    "collapsed": true,
    "scrolled": true
   },
   "outputs": [],
   "source": [
    "# Groupby TimeFrame + JourneyPatternID + VehicleJourneyID, count the number of unique stops on the journey\n",
    "gb = res.groupby(['TimeFrame', 'JourneyPatternID', 'VehicleJourneyID'])\n",
    "gbcount = gb.StopID.nunique()"
   ]
  },
  {
   "cell_type": "code",
   "execution_count": 16,
   "metadata": {
    "collapsed": true,
    "scrolled": true
   },
   "outputs": [],
   "source": [
    "idx = gbcount.reset_index(['TimeFrame', 'JourneyPatternID', 'VehicleJourneyID'])\n",
    "idx.rename(columns = {'StopID':'JPID_length'}, inplace=True)\n",
    "maxCount = idx[idx.groupby(['JourneyPatternID'])['JPID_length'].transform('max') == idx['JPID_length']]\n",
    "maxCount = maxCount.loc[:,['JourneyPatternID', 'JPID_length']]\n",
    "maxCount.drop_duplicates(inplace=True)"
   ]
  },
  {
   "cell_type": "code",
   "execution_count": null,
   "metadata": {
    "collapsed": true
   },
   "outputs": [],
   "source": [
    "# Merge with res\n",
    "res = pd.merge(res, maxCount, on=['JourneyPatternID'], how='inner')"
   ]
  },
  {
   "cell_type": "markdown",
   "metadata": {},
   "source": [
    "### Add Feature : Is XBuses or not"
   ]
  },
  {
   "cell_type": "code",
   "execution_count": null,
   "metadata": {
    "collapsed": true
   },
   "outputs": [],
   "source": [
    "res['XBuses'] = res['JourneyPatternID'].apply(lambda x: '1' if x.find('X') != -1 else '0')"
   ]
  },
  {
   "cell_type": "code",
   "execution_count": null,
   "metadata": {
    "collapsed": true
   },
   "outputs": [],
   "source": [
    "res.rename(columns = {'CountStopID':'JPID_length'}, inplace=True)"
   ]
  },
  {
   "cell_type": "code",
   "execution_count": null,
   "metadata": {
    "collapsed": true
   },
   "outputs": [],
   "source": [
    "res.head(2)"
   ]
  },
  {
   "cell_type": "code",
   "execution_count": null,
   "metadata": {
    "collapsed": true
   },
   "outputs": [],
   "source": []
  },
  {
   "cell_type": "code",
   "execution_count": null,
   "metadata": {
    "collapsed": true
   },
   "outputs": [],
   "source": [
    "stop here"
   ]
  },
  {
   "cell_type": "code",
   "execution_count": null,
   "metadata": {
    "collapsed": true
   },
   "outputs": [],
   "source": [
    "# Output to feather\n",
    "res.drop('index', axis=1, inplace=True)\n",
    "res.reset_index(inplace=True)\n",
    "res.to_feather('DBus_stage_two_clean_final.feather')"
   ]
  },
  {
   "cell_type": "markdown",
   "metadata": {},
   "source": [
    "### Create an input to add the feature JPID_journeys"
   ]
  },
  {
   "cell_type": "code",
   "execution_count": null,
   "metadata": {
    "collapsed": true,
    "scrolled": false
   },
   "outputs": [],
   "source": [
    "res.sort_values(['TimeFrame', 'JourneyPatternID', 'VehicleJourneyID', 'Timestamp'], inplace=True)"
   ]
  },
  {
   "cell_type": "code",
   "execution_count": null,
   "metadata": {
    "collapsed": true,
    "scrolled": false
   },
   "outputs": [],
   "source": [
    "gb = res.groupby(['TimeFrame', 'JourneyPatternID', 'VehicleJourneyID', 'StopID'])"
   ]
  },
  {
   "cell_type": "code",
   "execution_count": null,
   "metadata": {
    "collapsed": true
   },
   "outputs": [],
   "source": [
    "# Only keep first row\n",
    "first = gb.Timestamp.first()"
   ]
  },
  {
   "cell_type": "code",
   "execution_count": null,
   "metadata": {
    "collapsed": true
   },
   "outputs": [],
   "source": [
    "first = first.reset_index(['TimeFrame', 'JourneyPatternID', 'VehicleJourneyID', 'StopID'])\n",
    "first.drop('Timestamp', axis=1, inplace=True)\n",
    "first.head(4)"
   ]
  },
  {
   "cell_type": "code",
   "execution_count": null,
   "metadata": {
    "collapsed": true
   },
   "outputs": [],
   "source": [
    "# In order to get the SSID, move down the orginal dataframe one step.\n",
    "first_2 = first.loc[1:]\n",
    "\n",
    "# In order to concat move down dataframe to original one, need the number of rows the same as original one.\n",
    "# So fill in one row to last row.\n",
    "first_last = first.loc[16663374:]\n",
    "first_move_down = pd.concat([first_2, first_last], axis=0)"
   ]
  },
  {
   "cell_type": "code",
   "execution_count": null,
   "metadata": {
    "collapsed": true
   },
   "outputs": [],
   "source": [
    "# Rename column\n",
    "first_move_down.columns = pd.Series(['TimeFrame_m', 'JourneyPatternID_m', 'VehicleJourneyID_m', 'StopID_m'])\n",
    "first_move_down.reset_index(inplace=True, drop=True)"
   ]
  },
  {
   "cell_type": "code",
   "execution_count": null,
   "metadata": {
    "collapsed": true
   },
   "outputs": [],
   "source": [
    "# Now concat two dataframe together\n",
    "get_ssid = pd.concat([first, first_move_down], axis=1)"
   ]
  },
  {
   "cell_type": "code",
   "execution_count": null,
   "metadata": {
    "collapsed": true
   },
   "outputs": [],
   "source": [
    "get_ssid.head(3)"
   ]
  },
  {
   "cell_type": "code",
   "execution_count": null,
   "metadata": {
    "collapsed": true
   },
   "outputs": [],
   "source": [
    "# In order to make sure there are the same JPID, use boolean to check\n",
    "get_ssid['SameJPID'] = np.where(get_ssid['JourneyPatternID'] == get_ssid['JourneyPatternID_m'], True, False)\n",
    "get_ssid.head(3)"
   ]
  },
  {
   "cell_type": "code",
   "execution_count": null,
   "metadata": {
    "collapsed": true,
    "scrolled": true
   },
   "outputs": [],
   "source": [
    "# Get the SSID of each group\n",
    "get_ssid['SSID'] = np.where(get_ssid['SameJPID'], get_ssid['StopID'] + get_ssid['StopID_m'], np.nan)\n",
    "get_ssid"
   ]
  },
  {
   "cell_type": "code",
   "execution_count": null,
   "metadata": {
    "collapsed": true
   },
   "outputs": [],
   "source": [
    "# \n",
    "gb = get_ssid.groupby(['JourneyPatternID', 'SSID'])\n",
    "count = gb.count()"
   ]
  },
  {
   "cell_type": "code",
   "execution_count": null,
   "metadata": {
    "collapsed": true,
    "scrolled": true
   },
   "outputs": [],
   "source": [
    "# Get JPID to its SSID\n",
    "JPID_SSID = count[count.StopID > 0]\n",
    "JPID_SSID.reset_index(['JourneyPatternID', 'SSID'], inplace=True)\n",
    "JPID_SSID = JPID_SSID.loc[:, ['JourneyPatternID', 'SSID', 'StopID']]\n",
    "JPID_SSID"
   ]
  },
  {
   "cell_type": "code",
   "execution_count": null,
   "metadata": {
    "collapsed": true
   },
   "outputs": [],
   "source": [
    "# Get JPID_journeys of each SSID\n",
    "gb = JPID_SSID.groupby('SSID')\n",
    "gbcount = gb.JourneyPatternID.nunique()\n",
    "gbcount = gbcount.reset_index('SSID')\n"
   ]
  },
  {
   "cell_type": "code",
   "execution_count": null,
   "metadata": {
    "collapsed": true
   },
   "outputs": [],
   "source": [
    "#\n",
    "gbcount.rename(columns = {'JourneyPatternID':'JPID_journeys'}, inplace=True)\n",
    "gbcount.to_csv('input4_JPID_journeys.csv', index=False)"
   ]
  }
 ],
 "metadata": {
  "kernelspec": {
   "display_name": "Python [default]",
   "language": "python",
   "name": "python3"
  },
  "language_info": {
   "codemirror_mode": {
    "name": "ipython",
    "version": 3
   },
   "file_extension": ".py",
   "mimetype": "text/x-python",
   "name": "python",
   "nbconvert_exporter": "python",
   "pygments_lexer": "ipython3",
   "version": "3.6.0"
  }
 },
 "nbformat": 4,
 "nbformat_minor": 2
}
