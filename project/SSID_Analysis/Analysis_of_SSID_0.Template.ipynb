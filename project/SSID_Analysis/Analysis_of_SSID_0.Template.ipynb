{
 "cells": [
  {
   "cell_type": "code",
   "execution_count": null,
   "metadata": {
    "collapsed": false
   },
   "outputs": [],
   "source": [
    "import pandas as pd\n",
    "import numpy as np\n",
    "import matplotlib.pyplot as plt\n",
    "import matplotlib.patches as mpatches\n",
    "import matplotlib.font_manager as fm\n",
    "import matplotlib\n",
    "import timeit\n",
    "import feather\n",
    "import statsmodels as stm\n",
    "import autotime\n",
    "%matplotlib inline\n",
    "%load_ext autotime\n",
    "import seaborn as sns\n",
    "import statsmodels.formula.api as sm\n",
    "from sklearn.linear_model import LinearRegression as LinR\n",
    "from sklearn.svm import SVR\n",
    "from sklearn.cross_validation import train_test_split"
   ]
  },
  {
   "cell_type": "code",
   "execution_count": null,
   "metadata": {
    "collapsed": false
   },
   "outputs": [],
   "source": [
    "# Replace the XXXX in Route_XXXX_travel_time.csv below with one route number.\n",
    "\n",
    "res = pd.read_csv('Route_XXXX_travel_time_csvs/Route_XXXX_travel_time.csv')"
   ]
  },
  {
   "cell_type": "code",
   "execution_count": null,
   "metadata": {
    "collapsed": true
   },
   "outputs": [],
   "source": [
    "# If there is more than one route, list them in the first line below.\n",
    "# If there is only one route, do not run the below code.\n",
    "\n",
    "route_list_SSIDXXXXXXXX = ['list', 'here', 'of', 'all', 'routes', 'required']\n",
    "for r in route_list_SSIDXXXXXXXX:\n",
    "    df = pd.read_csv('Route_XXXX_travel_time_csvs/Route_%s_travel_time.csv' % r)\n",
    "    res = pd.concat([df, res], axis=0) \n",
    "res"
   ]
  },
  {
   "cell_type": "markdown",
   "metadata": {},
   "source": [
    "Description:  "
   ]
  },
  {
   "cell_type": "code",
   "execution_count": null,
   "metadata": {
    "collapsed": false
   },
   "outputs": [],
   "source": [
    "#check unique values of each feature\n",
    "\n",
    "print(\"Feature, UniqueValues\") \n",
    "for column in res:\n",
    "    print(column + \"\\t\" + str(len(res[column].unique())))"
   ]
  },
  {
   "cell_type": "code",
   "execution_count": null,
   "metadata": {
    "collapsed": false
   },
   "outputs": [],
   "source": [
    "# create dataframe for SSID XXXXXXXX\n",
    "# replace 'leeson' with the variable name of your choice - go to Edit in the menu above and select 'Find and Replace' to do so\n",
    "\n",
    "res['SSID'] = res['SSID'].astype('category')\n",
    "leeson = res[res.SSID == XXXXXXXX]\n",
    "leeson.shape"
   ]
  },
  {
   "cell_type": "code",
   "execution_count": null,
   "metadata": {
    "collapsed": false
   },
   "outputs": [],
   "source": [
    "#check unique values of each feature\n",
    "\n",
    "print(\"Feature, UniqueValues\") \n",
    "for column in leeson:\n",
    "    print(column + \"\\t\" + str(len(leeson[column].unique())))"
   ]
  },
  {
   "cell_type": "code",
   "execution_count": null,
   "metadata": {
    "collapsed": false,
    "scrolled": true
   },
   "outputs": [],
   "source": [
    "# drop unneeded columns\n",
    "\n",
    "leeson = leeson.drop(['SourceStopID', 'DestStopID'], axis=1)"
   ]
  },
  {
   "cell_type": "code",
   "execution_count": null,
   "metadata": {
    "collapsed": false
   },
   "outputs": [],
   "source": [
    "# reorder columns\n",
    "\n",
    "leeson = leeson[['TravelTime', 'HourFrame', 'Day', 'SchoolHoliday', 'Rain', 'WindSpeed', 'TimeFrame', 'JourneyPatternID', 'VehicleJourneyID', 'SSID']]"
   ]
  },
  {
   "cell_type": "code",
   "execution_count": null,
   "metadata": {
    "collapsed": false
   },
   "outputs": [],
   "source": [
    "# apply any necessary leading zeroes to make all SSIDs 8 digit strings \n",
    "leeson.SSID = leeson.SSID.apply(lambda x: str(int(x)).zfill(8))"
   ]
  },
  {
   "cell_type": "code",
   "execution_count": null,
   "metadata": {
    "collapsed": false
   },
   "outputs": [],
   "source": [
    "leeson.reset_index(inplace=True)\n",
    "leeson = leeson.drop('index', axis=1)\n",
    "leeson"
   ]
  },
  {
   "cell_type": "code",
   "execution_count": null,
   "metadata": {
    "collapsed": false
   },
   "outputs": [],
   "source": [
    "# save as csv\n",
    "\n",
    "r = leeson.loc[0, 'SSID'] \n",
    "leeson.to_csv('SSID_CSVs/SSID_%s.csv' % r)"
   ]
  },
  {
   "cell_type": "code",
   "execution_count": null,
   "metadata": {
    "collapsed": false
   },
   "outputs": [],
   "source": [
    "# load csv\n",
    "\n",
    "leeson = pd.read_csv('SSID_CSVs/SSID_%s.csv' % r)"
   ]
  },
  {
   "cell_type": "code",
   "execution_count": null,
   "metadata": {
    "collapsed": false
   },
   "outputs": [],
   "source": [
    "# apply any necessary leading zeroes to make all SSIDs 8 digit strings \n",
    "\n",
    "leeson.SSID = leeson.SSID.apply(lambda x: str(int(x)).zfill(8))"
   ]
  },
  {
   "cell_type": "code",
   "execution_count": null,
   "metadata": {
    "collapsed": false,
    "scrolled": true
   },
   "outputs": [],
   "source": [
    "leeson.info(memory_usage='deep')"
   ]
  },
  {
   "cell_type": "code",
   "execution_count": null,
   "metadata": {
    "collapsed": false
   },
   "outputs": [],
   "source": [
    "leeson = leeson.drop('Unnamed: 0', axis=1)"
   ]
  },
  {
   "cell_type": "code",
   "execution_count": null,
   "metadata": {
    "collapsed": false
   },
   "outputs": [],
   "source": [
    "# assign more appropriate datatypes\n",
    "leeson['Day'] = leeson['Day'].astype('category')\n",
    "leeson['JourneyPatternID'] = leeson['JourneyPatternID'].astype('category')\n",
    "leeson['VehicleJourneyID'] = leeson['VehicleJourneyID'].astype('category')\n",
    "leeson['SSID'] = leeson['SSID'].astype('category')\n",
    "leeson['HourFrame'] = leeson['HourFrame'].astype('category')\n",
    "leeson['TimeFrame'] = pd.to_datetime(leeson['TimeFrame'], format='%Y-%m-%d')"
   ]
  },
  {
   "cell_type": "code",
   "execution_count": null,
   "metadata": {
    "collapsed": false,
    "scrolled": true
   },
   "outputs": [],
   "source": [
    "# necessary for later operation\n",
    "\n",
    "leeson.JourneyPatternID.cat.remove_unused_categories(inplace=True)"
   ]
  },
  {
   "cell_type": "code",
   "execution_count": null,
   "metadata": {
    "collapsed": false
   },
   "outputs": [],
   "source": [
    "leeson.memory_usage(deep=True)"
   ]
  },
  {
   "cell_type": "markdown",
   "metadata": {},
   "source": [
    "## Analysis of target feature TravelTime"
   ]
  },
  {
   "cell_type": "code",
   "execution_count": null,
   "metadata": {
    "collapsed": true
   },
   "outputs": [],
   "source": [
    "# Checking stats for TravelTime so as to better understand the following graphs\n",
    "\n",
    "leeson.TravelTime.describe()"
   ]
  },
  {
   "cell_type": "markdown",
   "metadata": {},
   "source": [
    "Histiogram of values (x-axis is number of seconds)"
   ]
  },
  {
   "cell_type": "code",
   "execution_count": null,
   "metadata": {
    "collapsed": false
   },
   "outputs": [],
   "source": [
    "leeson.TravelTime.hist(figsize=(16, 8), bins=50)"
   ]
  },
  {
   "cell_type": "markdown",
   "metadata": {},
   "source": [
    "Boxplot to check for outliers"
   ]
  },
  {
   "cell_type": "code",
   "execution_count": null,
   "metadata": {
    "collapsed": false
   },
   "outputs": [],
   "source": [
    "leeson.TravelTime.plot(kind='box', figsize=(8, 8), showfliers=True)"
   ]
  },
  {
   "cell_type": "code",
   "execution_count": null,
   "metadata": {
    "collapsed": false
   },
   "outputs": [],
   "source": [
    "# checking how isolated top high-value outliers are in terms of time/date, and density of low-value outliers \n",
    "\n",
    "leeson.sort_values(['TravelTime', 'TimeFrame'], ascending=False, inplace=True)\n",
    "leeson"
   ]
  },
  {
   "cell_type": "markdown",
   "metadata": {},
   "source": [
    "Observation:  "
   ]
  },
  {
   "cell_type": "markdown",
   "metadata": {},
   "source": [
    "## Weather features"
   ]
  },
  {
   "cell_type": "code",
   "execution_count": null,
   "metadata": {
    "collapsed": false
   },
   "outputs": [],
   "source": [
    "# checking correlations between weather and TravelTime\n",
    "\n",
    "cont_columns = leeson[['TravelTime', 'Rain', 'WindSpeed']].columns\n",
    "\n",
    "# Correlation matrix using code found on https://stanford.edu/~mwaskom/software/seaborn/examples/many_pairwise_correlations.html\n",
    "sns.set(style=\"white\")\n",
    "\n",
    "# Calculate correlation of all pairs of continuous features\n",
    "corr = leeson[cont_columns].corr()\n",
    "\n",
    "# Generate a mask for the upper triangle\n",
    "mask = np.zeros_like(corr, dtype=np.bool)\n",
    "mask[np.triu_indices_from(mask)] = True\n",
    "\n",
    "# Set up the matplotlib figure\n",
    "f, ax = plt.subplots(figsize=(11, 9))\n",
    "\n",
    "# Generate a custom colormap - blue and red\n",
    "cmap = sns.diverging_palette(220, 10, as_cmap=True)\n",
    "\n",
    "# Draw the heatmap with the mask and correct aspect ratio\n",
    "sns.heatmap(corr, annot=True, mask=mask, cmap=cmap, vmax=1, vmin=-1,\n",
    "            square=True, xticklabels=True, yticklabels=True,\n",
    "            linewidths=.5, cbar_kws={\"shrink\": .5}, ax=ax)\n",
    "plt.yticks(rotation = 0)\n",
    "plt.xticks(rotation = 45)"
   ]
  },
  {
   "cell_type": "code",
   "execution_count": null,
   "metadata": {
    "collapsed": false
   },
   "outputs": [],
   "source": [
    "# scatterplots for the relationship between weather and TravelTime\n",
    "fig, axs = plt.subplots(1, 2, sharey=True)\n",
    "leeson.plot(kind='scatter', x='WindSpeed', y='TravelTime', ax=axs[0], figsize=(16, 8))\n",
    "leeson.plot(kind='scatter', x='Rain', y='TravelTime', ax=axs[1])"
   ]
  },
  {
   "cell_type": "markdown",
   "metadata": {},
   "source": [
    "Observation:  "
   ]
  },
  {
   "cell_type": "markdown",
   "metadata": {},
   "source": [
    "## TravelTime and categorical features"
   ]
  },
  {
   "cell_type": "code",
   "execution_count": null,
   "metadata": {
    "collapsed": false
   },
   "outputs": [],
   "source": [
    "# Create variables for horizontal lines in the charts below to represent the mean/medium.\n",
    "\n",
    "leeson_mean = leeson.TravelTime.mean()\n",
    "leeson_median  = leeson.TravelTime.median()"
   ]
  },
  {
   "cell_type": "markdown",
   "metadata": {},
   "source": [
    "## JourneyPatternID strip plot\n",
    "\n",
    "#### Note: In below charts, horizontal line is overall mean/median"
   ]
  },
  {
   "cell_type": "code",
   "execution_count": null,
   "metadata": {
    "collapsed": false,
    "scrolled": false
   },
   "outputs": [],
   "source": [
    "fig, ax = plt.subplots(figsize=(15, 6))\n",
    "plt.xticks(rotation=45)\n",
    "sns.stripplot(x='JourneyPatternID', y=\"TravelTime\", data=leeson, jitter=True);\n",
    "\n",
    "coord_x1 = -1\n",
    "coord_y1 = leeson_mean\n",
    "coord_z1 = leeson_median\n",
    "coord_x2 = 30\n",
    "\n",
    "\n",
    "# mean full line, median dashed line\n",
    "plt.plot([coord_x1, coord_x2], [coord_y1, coord_y1], '-o')\n",
    "plt.plot([coord_x1, coord_x2], [coord_z1, coord_z1], '--')"
   ]
  },
  {
   "cell_type": "markdown",
   "metadata": {},
   "source": [
    "Observation:  "
   ]
  },
  {
   "cell_type": "markdown",
   "metadata": {},
   "source": [
    "### Bar plot for mean TravelTime per JourneyPatternID"
   ]
  },
  {
   "cell_type": "code",
   "execution_count": null,
   "metadata": {
    "collapsed": false
   },
   "outputs": [],
   "source": [
    "mean_JPID = leeson.groupby('JourneyPatternID')['TravelTime'].mean()\n",
    "mean_JPID.plot(kind='bar', figsize=(15, 6), rot=45)\n",
    "\n",
    "# code for line from https://stackoverflow.com/questions/38017465/how-to-add-a-line-on-top-of-a-bar-chart\n",
    "\n",
    "coord_x1 = -1\n",
    "coord_y1 = leeson_mean\n",
    "coord_x2 = 30\n",
    "\n",
    "plt.plot([coord_x1, coord_x2], [coord_y1, coord_y1], '-o')"
   ]
  },
  {
   "cell_type": "markdown",
   "metadata": {},
   "source": [
    "Observation:  "
   ]
  },
  {
   "cell_type": "markdown",
   "metadata": {},
   "source": [
    "### Bar plot for median TravelTime per JourneyPatternID"
   ]
  },
  {
   "cell_type": "code",
   "execution_count": null,
   "metadata": {
    "collapsed": false
   },
   "outputs": [],
   "source": [
    "median_JPID = leeson.groupby('JourneyPatternID')['TravelTime'].median()\n",
    "median_JPID.plot(kind='bar', figsize=(15, 6), rot=45)\n",
    "\n",
    "coord_x1 = -1\n",
    "coord_y1 = leeson_median\n",
    "coord_x2 = 30\n",
    "\n",
    "plt.plot([coord_x1, coord_x2], [coord_y1, coord_y1], '-o')"
   ]
  },
  {
   "cell_type": "markdown",
   "metadata": {},
   "source": [
    "Observation:  "
   ]
  },
  {
   "cell_type": "markdown",
   "metadata": {},
   "source": [
    "### Bar plot for mean TravelTime per HourFrame"
   ]
  },
  {
   "cell_type": "code",
   "execution_count": null,
   "metadata": {
    "collapsed": false
   },
   "outputs": [],
   "source": [
    "mean_HF = leeson.groupby('HourFrame')['TravelTime'].mean()\n",
    "mean_HF.plot(kind='bar', figsize=(15, 6), rot=0)\n",
    "\n",
    "coord_x1 = -1\n",
    "coord_y1 = leeson_mean\n",
    "coord_x2 = 25\n",
    "\n",
    "plt.plot([coord_x1, coord_x2], [coord_y1, coord_y1], '-o')"
   ]
  },
  {
   "cell_type": "markdown",
   "metadata": {},
   "source": [
    "Observation:  "
   ]
  },
  {
   "cell_type": "markdown",
   "metadata": {},
   "source": [
    "### Bar plot for median TravelTime per HourFrame"
   ]
  },
  {
   "cell_type": "code",
   "execution_count": null,
   "metadata": {
    "collapsed": false
   },
   "outputs": [],
   "source": [
    "med_HF = leeson.groupby('HourFrame')['TravelTime'].median()\n",
    "med_HF.plot(kind='bar', figsize=(15, 6), rot=0)\n",
    "\n",
    "coord_x1 = -1\n",
    "coord_y1 = leeson_median\n",
    "coord_x2 = 25\n",
    "\n",
    "plt.plot([coord_x1, coord_x2], [coord_y1, coord_y1], '-o')"
   ]
  },
  {
   "cell_type": "markdown",
   "metadata": {},
   "source": [
    "Observation:  "
   ]
  },
  {
   "cell_type": "markdown",
   "metadata": {},
   "source": [
    "### Bar plot for mean TravelTime per Day"
   ]
  },
  {
   "cell_type": "code",
   "execution_count": null,
   "metadata": {
    "collapsed": false
   },
   "outputs": [],
   "source": [
    "mean_Day = leeson.groupby('Day')['TravelTime'].mean()\n",
    "mean_Day=mean_Day.reindex(['Monday', 'Tuesday', 'Wednesday', 'Thursday', 'Friday', 'Saturday', 'Sunday'])\n",
    "\n",
    "mean_Day.plot(kind='bar', figsize=(15, 6), rot=0)\n",
    "\n",
    "coord_x1 = -1\n",
    "coord_y1 = leeson_mean\n",
    "\n",
    "coord_x2 = 7\n",
    "\n",
    "plt.plot([coord_x1, coord_x2], [coord_y1, coord_y1], '-o')"
   ]
  },
  {
   "cell_type": "markdown",
   "metadata": {},
   "source": [
    "Observation:  "
   ]
  },
  {
   "cell_type": "markdown",
   "metadata": {},
   "source": [
    "### Bar plot for median TravelTime per HourFrame"
   ]
  },
  {
   "cell_type": "code",
   "execution_count": null,
   "metadata": {
    "collapsed": false,
    "scrolled": true
   },
   "outputs": [],
   "source": [
    "med_Day = leeson.groupby('Day')['TravelTime'].median()\n",
    "\n",
    "med_Day=med_Day.reindex(['Monday', 'Tuesday', 'Wednesday', 'Thursday', 'Friday', 'Saturday', 'Sunday'])\n",
    "med_Day.plot(kind='bar', figsize=(15, 6), rot=0)\n",
    "\n",
    "coord_x1 = -1\n",
    "coord_y1 = leeson_median\n",
    "coord_x2 = 7\n",
    "\n",
    "plt.plot([coord_x1, coord_x2], [coord_y1, coord_y1], '-o')"
   ]
  },
  {
   "cell_type": "markdown",
   "metadata": {},
   "source": [
    "Observation:  "
   ]
  },
  {
   "cell_type": "markdown",
   "metadata": {},
   "source": [
    "### Bar plot for mean TravelTime when SchoolHoliday true/false"
   ]
  },
  {
   "cell_type": "code",
   "execution_count": null,
   "metadata": {
    "collapsed": false
   },
   "outputs": [],
   "source": [
    "# check how many rows are true/false for SchoolHoliday\n",
    "leeson.SchoolHoliday.describe().T"
   ]
  },
  {
   "cell_type": "code",
   "execution_count": null,
   "metadata": {
    "collapsed": false
   },
   "outputs": [],
   "source": [
    "mean_SH = leeson.groupby('SchoolHoliday')['TravelTime'].mean()\n",
    "mean_SH.plot(kind='bar', figsize=(15, 6), rot=0)\n",
    "\n",
    "coord_x1 = -1\n",
    "coord_y1 = leeson_mean\n",
    "coord_x2 = 7\n",
    "\n",
    "plt.plot([coord_x1, coord_x2], [coord_y1, coord_y1], '-o')"
   ]
  },
  {
   "cell_type": "markdown",
   "metadata": {},
   "source": [
    "Observation:  "
   ]
  },
  {
   "cell_type": "markdown",
   "metadata": {},
   "source": [
    "### Bar plot for median TravelTime when SchoolHoliday true/false"
   ]
  },
  {
   "cell_type": "code",
   "execution_count": null,
   "metadata": {
    "collapsed": false
   },
   "outputs": [],
   "source": [
    "med_SH = leeson.groupby('SchoolHoliday')['TravelTime'].median()\n",
    "med_SH.plot(kind='bar', figsize=(15, 6), rot=0)\n",
    "\n",
    "coord_x1 = -1\n",
    "coord_y1 = leeson_median\n",
    "coord_x2 = 7\n",
    "\n",
    "plt.plot([coord_x1, coord_x2], [coord_y1, coord_y1], '-o')"
   ]
  },
  {
   "cell_type": "markdown",
   "metadata": {},
   "source": [
    "Observation:  "
   ]
  },
  {
   "cell_type": "code",
   "execution_count": null,
   "metadata": {
    "collapsed": false,
    "scrolled": true
   },
   "outputs": [],
   "source": [
    "# new feature: does the bus have an X in its name?\n",
    "# DELETE THIS CELL if no bus with X travels here\n",
    "\n",
    "leeson['XBuses'] = leeson[leeson[\"JourneyPatternID\"].str.find(\"X\") > 0].sum(axis=1) > 0\n",
    "leeson[\"XBuses\"].fillna(False, inplace=True)\n",
    "leeson['XBuses'] = leeson['XBuses'].astype('int')\n",
    "#XBusesC = leeson.groupby('SchoolHoliday')['TravelTime'].median()\n",
    "leeson['XBuses'].value_counts().plot(kind='bar', figsize=(15, 6), rot=0)\n"
   ]
  },
  {
   "cell_type": "markdown",
   "metadata": {},
   "source": [
    "Observation:  "
   ]
  },
  {
   "cell_type": "markdown",
   "metadata": {},
   "source": [
    "## Looking at dropping outliers"
   ]
  },
  {
   "cell_type": "code",
   "execution_count": null,
   "metadata": {
    "collapsed": false
   },
   "outputs": [],
   "source": [
    "# make a copy of original df\n",
    "trimleeson = leeson.copy()\n",
    "\n",
    "# Remove TravelTime outliers beyond a conservative 3 x IQR\n",
    "# Code adapted from here: http://nbviewer.jupyter.org/urls/bitbucket.org/hrojas/learn-pandas/raw/master/lessons/07%20-%20Lesson.ipynb\n",
    "# Also got some help here: https://www.reddit.com/r/learnpython/comments/65sz8g/trying_to_get_highlight_outliers_in_a_dataframe/\n",
    "# Functions first defined for calculating upper and lower bounds.\n",
    "lowerOp = trimleeson.quantile(q=.25) - (3*(trimleeson.quantile(q=.75)-trimleeson.quantile(q=.25)))\n",
    "upperOp = trimleeson.quantile(q=.75) + (3*(trimleeson.quantile(q=.75)-trimleeson.quantile(q=.25)))\n",
    "\n",
    "# New boolean column created where values beyond the bounds for 'TravelTime' are tagged as True.\n",
    "trimleeson['OutlierTT'] = (trimleeson['TravelTime'] < lowerOp['TravelTime']) | (trimleeson['TravelTime'] > upperOp['TravelTime'])\n",
    "\n",
    "# Outlier rows counted\n",
    "print(\"There would be\", trimleeson[(trimleeson['OutlierTT'] == True)].shape[0], \"outliers dropped.\")"
   ]
  },
  {
   "cell_type": "code",
   "execution_count": null,
   "metadata": {
    "collapsed": false
   },
   "outputs": [],
   "source": [
    "trimleeson = trimleeson[trimleeson.OutlierTT != True]\n",
    "trimleeson.sort_values(['TravelTime'], ascending=False, inplace=True)"
   ]
  },
  {
   "cell_type": "code",
   "execution_count": null,
   "metadata": {
    "collapsed": false
   },
   "outputs": [],
   "source": [
    "trimleeson"
   ]
  },
  {
   "cell_type": "markdown",
   "metadata": {},
   "source": [
    "NOTE - Outliers not removed.\n",
    "\n",
    "Observation:  "
   ]
  },
  {
   "cell_type": "markdown",
   "metadata": {},
   "source": [
    "### Linear Regression model"
   ]
  },
  {
   "cell_type": "code",
   "execution_count": null,
   "metadata": {
    "collapsed": false
   },
   "outputs": [],
   "source": [
    "# Train/fit a model using all features to start with.\n",
    "# Some modifications to the data first\n",
    "\n",
    "# dropping SSID and TimeFrame as these have no predictive value here\n",
    "LRleeson = leeson.drop(['SSID', 'TimeFrame'], axis=1)\n",
    "\n",
    "# Convert binary categorical SchoolHoliday column to numerical.\n",
    "LRleeson['SchoolHoliday'] = LRleeson['SchoolHoliday'].astype('int')"
   ]
  },
  {
   "cell_type": "code",
   "execution_count": null,
   "metadata": {
    "collapsed": false
   },
   "outputs": [],
   "source": [
    "# preliminary training to see which variables are worth selecting\n",
    "# delete Xbuses from formula if none\n",
    "lrle = sm.ols(formula=\"TravelTime ~  SchoolHoliday + WindSpeed + Rain + XBuses + C(JourneyPatternID)+ C(HourFrame) + C(Day)\", data=LRleeson).fit()"
   ]
  },
  {
   "cell_type": "code",
   "execution_count": null,
   "metadata": {
    "collapsed": false,
    "scrolled": true
   },
   "outputs": [],
   "source": [
    "print(lrle.summary())"
   ]
  },
  {
   "cell_type": "markdown",
   "metadata": {},
   "source": [
    "Observation:  "
   ]
  },
  {
   "cell_type": "code",
   "execution_count": null,
   "metadata": {
    "collapsed": false
   },
   "outputs": [],
   "source": [
    "rsqa = stm.regression.linear_model.RegressionResults.rsquared_adj(lrle) \n",
    "\n",
    "print (\"Many JourneyPatternIDs have p-values too high (over 0.05), so they will be cut next.\")\n",
    "print (\"The adjusted R-squared value of\", rsqa, \"means that Linear Regression is unlikely to be useful in the long run though.\")\n",
    "#ols(y=rets['AAPL'], x=rets.ix[:, ['GOOG']]).rsquared"
   ]
  },
  {
   "cell_type": "code",
   "execution_count": null,
   "metadata": {
    "collapsed": false
   },
   "outputs": [],
   "source": [
    "# Train/fit a model using features with p-value under 0.05\n",
    "\n",
    "# create dummy variables from HourFrame, Day, JourneyPatternID using get_dummies\n",
    "# code adapted from: https://github.com/justmarkham/DAT4/blob/master/notebooks/08_linear_regression.ipynb\n",
    "HF_dummies = pd.get_dummies(LRleeson.HourFrame, prefix='HF')\n",
    "Day_dummies = pd.get_dummies(LRleeson.Day, prefix='Day')\n",
    "JPID_dummies = pd.get_dummies(LRleeson.JourneyPatternID, prefix='JPID')\n",
    "\n",
    "# concatenate the dummy variable columns onto the original DataFrame (axis=0 means rows, axis=1 means columns)\n",
    "LRleeson = pd.concat([LRleeson, HF_dummies, Day_dummies, JPID_dummies], axis=1)"
   ]
  },
  {
   "cell_type": "code",
   "execution_count": null,
   "metadata": {
    "collapsed": false
   },
   "outputs": [],
   "source": [
    "print(LRleeson.columns.values.tolist())"
   ]
  },
  {
   "cell_type": "code",
   "execution_count": null,
   "metadata": {
    "collapsed": false
   },
   "outputs": [],
   "source": [
    "# remove any features with p-values under 0.05 \n",
    "\n",
    "#LRleeson = LRleeson.drop(['delete', 'any', 'features', 'you', 'wish'], axis = 1)\n"
   ]
  },
  {
   "cell_type": "code",
   "execution_count": null,
   "metadata": {
    "collapsed": false,
    "scrolled": true
   },
   "outputs": [],
   "source": [
    "LRleeson.head(25)"
   ]
  },
  {
   "cell_type": "code",
   "execution_count": null,
   "metadata": {
    "collapsed": false
   },
   "outputs": [],
   "source": [
    "lrle1 = sm.ols(formula=\"TravelTime ~  AnyJPIDsOrOtherFeaturesNotAlreadyIncludedHere + Xbuses + SchoolHoliday + WindSpeed + Rain + HF_0 + HF_6 + HF_7 + HF_8 + HF_9 + HF_10 + HF_11 + HF_12 + HF_13 + HF_14 + HF_15 + HF_16 + HF_17 + HF_18 + HF_19 + HF_20 + HF_21 + HF_22 + HF_23 + Day_Friday + Day_Monday + Day_Saturday + Day_Sunday + Day_Thursday + Day_Tuesday + Day_Wednesday\", data=LRleeson).fit()"
   ]
  },
  {
   "cell_type": "code",
   "execution_count": null,
   "metadata": {
    "collapsed": false,
    "scrolled": true
   },
   "outputs": [],
   "source": [
    "print(lrle1.summary())"
   ]
  },
  {
   "cell_type": "markdown",
   "metadata": {},
   "source": [
    "Observation:  "
   ]
  }
 ],
 "metadata": {
  "kernelspec": {
   "display_name": "Python [conda env:DublinBus]",
   "language": "python",
   "name": "conda-env-DublinBus-py"
  },
  "language_info": {
   "codemirror_mode": {
    "name": "ipython",
    "version": 3
   },
   "file_extension": ".py",
   "mimetype": "text/x-python",
   "name": "python",
   "nbconvert_exporter": "python",
   "pygments_lexer": "ipython3",
   "version": "3.6.1"
  }
 },
 "nbformat": 4,
 "nbformat_minor": 2
}
