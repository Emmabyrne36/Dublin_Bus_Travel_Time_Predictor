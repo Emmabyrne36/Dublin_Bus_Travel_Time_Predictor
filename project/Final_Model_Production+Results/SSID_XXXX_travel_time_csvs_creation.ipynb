{
 "cells": [
  {
   "cell_type": "code",
   "execution_count": 2,
   "metadata": {
    "collapsed": true
   },
   "outputs": [],
   "source": [
    "import pandas as pd\n",
    "import autotime\n",
    "%load_ext autotime\n",
    "import os"
   ]
  },
  {
   "cell_type": "code",
   "execution_count": 2,
   "metadata": {
    "collapsed": false
   },
   "outputs": [
    {
     "name": "stdout",
     "output_type": "stream",
     "text": [
      "time: 5 ms\n"
     ]
    }
   ],
   "source": [
    "# Get all filename in path\n",
    "\n",
    "path = './Route_XXXX_travel_time_csvs/'\n",
    "files = []\n",
    "for (dirpath, dirnames, filenames) in os.walk('Route_XXXX_travel_time_csvs/'):\n",
    "    files.extend(filenames)\n",
    "\n",
    "# Do this is because my mac will auto create a weird file\n",
    "#files = files[1:]"
   ]
  },
  {
   "cell_type": "code",
   "execution_count": 3,
   "metadata": {
    "collapsed": false
   },
   "outputs": [
    {
     "name": "stdout",
     "output_type": "stream",
     "text": [
      "time: 5min 6s\n"
     ]
    }
   ],
   "source": [
    "# For all files append SSID data to each travel_time_XXXXXXXX.csv'\n",
    "for file in files:\n",
    "    fn = './Route_XXXX_travel_time_csvs/' + file\n",
    "    df = pd.read_csv(fn)\n",
    "    SSIDs = df['SSID'].unique()\n",
    "    for ssid in SSIDs:\n",
    "        fo = './SSID_XXXX_travel_time_csvs/travel_time_' + str(ssid).zfill(8) + '.csv'\n",
    "        if not os.path.isfile(fo):\n",
    "            df[df.SSID == ssid].to_csv(fo,index=False)\n",
    "        else:\n",
    "            df[df.SSID == ssid].to_csv(fo,index=False, header=False, mode='a')"
   ]
  }
 ],
 "metadata": {
  "kernelspec": {
   "display_name": "Python [default]",
   "language": "python",
   "name": "python3"
  },
  "language_info": {
   "codemirror_mode": {
    "name": "ipython",
    "version": 3
   },
   "file_extension": ".py",
   "mimetype": "text/x-python",
   "name": "python",
   "nbconvert_exporter": "python",
   "pygments_lexer": "ipython3",
   "version": "3.6.0"
  }
 },
 "nbformat": 4,
 "nbformat_minor": 2
}
